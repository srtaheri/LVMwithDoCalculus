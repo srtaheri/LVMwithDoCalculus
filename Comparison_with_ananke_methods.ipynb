{
  "nbformat": 4,
  "nbformat_minor": 0,
  "metadata": {
    "colab": {
      "name": "Comparison_with_ananke_methods.ipynb",
      "provenance": [],
      "collapsed_sections": [
        "plAMKkusFqQ-",
        "f4pFLWaoqYB-",
        "5e6qVtStWJ6i"
      ],
      "toc_visible": true
    },
    "kernelspec": {
      "display_name": "Python 3",
      "name": "python3"
    }
  },
  "cells": [
    {
      "cell_type": "code",
      "metadata": {
        "id": "ZbVnKtTjCptu"
      },
      "source": [
        "# install Anaconda3\n",
        "!wget -qO ac.sh https://repo.anaconda.com/archive/Anaconda3-2020.07-Linux-x86_64.sh \n",
        "!bash ./ac.sh -b"
      ],
      "execution_count": null,
      "outputs": []
    },
    {
      "cell_type": "code",
      "metadata": {
        "id": "Ici4vLbWD2yR"
      },
      "source": [
        "# a fake google.colab library\n",
        "!ln -s /usr/local/lib/python3.6/dist-packages/google \\\n",
        "       /root/anaconda3/lib/python3.8/site-packages/google"
      ],
      "execution_count": null,
      "outputs": []
    },
    {
      "cell_type": "code",
      "metadata": {
        "colab": {
          "base_uri": "https://localhost:8080/"
        },
        "id": "Iqh-cJx1D5iV",
        "outputId": "c37476d8-db19-40b9-b0ea-92138bc628a9"
      },
      "source": [
        "# start jupyterlab, which now has Python3 = 3.8\n",
        "!nohup /root/anaconda3/bin/jupyter-lab --ip=0.0.0.0&"
      ],
      "execution_count": null,
      "outputs": [
        {
          "output_type": "stream",
          "text": [
            "nohup: appending output to 'nohup.out'\n"
          ],
          "name": "stdout"
        }
      ]
    },
    {
      "cell_type": "code",
      "metadata": {
        "colab": {
          "base_uri": "https://localhost:8080/"
        },
        "id": "FGuDtOa4D7aV",
        "outputId": "d0d6e194-9d03-4b2e-ce49-ad862d590067"
      },
      "source": [
        "# access through ngrok, click the link\n",
        "!pip install pyngrok -q\n",
        "from pyngrok import ngrok\n",
        "print(ngrok.connect(8888))"
      ],
      "execution_count": null,
      "outputs": [
        {
          "output_type": "stream",
          "text": [
            "  Building wheel for pyngrok (setup.py) ... \u001b[?25l\u001b[?25hdone\n",
            "NgrokTunnel: \"http://6723a3ae4705.ngrok.io\" -> \"http://localhost:8888\"\n"
          ],
          "name": "stdout"
        }
      ]
    },
    {
      "cell_type": "code",
      "metadata": {
        "colab": {
          "base_uri": "https://localhost:8080/"
        },
        "id": "_se7jVgUFYCj",
        "outputId": "b9fde62f-f596-47e8-d7ab-f99633f8c0ac"
      },
      "source": [
        "import platform\n",
        "print(platform.python_version())"
      ],
      "execution_count": null,
      "outputs": [
        {
          "output_type": "stream",
          "text": [
            "3.6.9\n"
          ],
          "name": "stdout"
        }
      ]
    },
    {
      "cell_type": "code",
      "metadata": {
        "colab": {
          "base_uri": "https://localhost:8080/"
        },
        "id": "qrwef1se_3gK",
        "outputId": "994bc65d-005c-4de5-94a7-065162b9e9eb"
      },
      "source": [
        "pip install ananke-causal"
      ],
      "execution_count": null,
      "outputs": [
        {
          "output_type": "stream",
          "text": [
            "Collecting ananke-causal\n",
            "\u001b[?25l  Downloading https://files.pythonhosted.org/packages/24/77/9eefe3381537903ca9c8bbd1eae07defa887560c04f840b99be3b922e326/ananke_causal-0.1.5-py3-none-any.whl (220kB)\n",
            "\r\u001b[K     |█▌                              | 10kB 16.2MB/s eta 0:00:01\r\u001b[K     |███                             | 20kB 21.4MB/s eta 0:00:01\r\u001b[K     |████▌                           | 30kB 16.7MB/s eta 0:00:01\r\u001b[K     |██████                          | 40kB 14.8MB/s eta 0:00:01\r\u001b[K     |███████▍                        | 51kB 8.2MB/s eta 0:00:01\r\u001b[K     |█████████                       | 61kB 7.7MB/s eta 0:00:01\r\u001b[K     |██████████▍                     | 71kB 8.8MB/s eta 0:00:01\r\u001b[K     |███████████▉                    | 81kB 9.1MB/s eta 0:00:01\r\u001b[K     |█████████████▍                  | 92kB 9.3MB/s eta 0:00:01\r\u001b[K     |██████████████▉                 | 102kB 7.8MB/s eta 0:00:01\r\u001b[K     |████████████████▎               | 112kB 7.8MB/s eta 0:00:01\r\u001b[K     |█████████████████▉              | 122kB 7.8MB/s eta 0:00:01\r\u001b[K     |███████████████████▎            | 133kB 7.8MB/s eta 0:00:01\r\u001b[K     |████████████████████▊           | 143kB 7.8MB/s eta 0:00:01\r\u001b[K     |██████████████████████▎         | 153kB 7.8MB/s eta 0:00:01\r\u001b[K     |███████████████████████▊        | 163kB 7.8MB/s eta 0:00:01\r\u001b[K     |█████████████████████████▏      | 174kB 7.8MB/s eta 0:00:01\r\u001b[K     |██████████████████████████▊     | 184kB 7.8MB/s eta 0:00:01\r\u001b[K     |████████████████████████████▏   | 194kB 7.8MB/s eta 0:00:01\r\u001b[K     |█████████████████████████████▊  | 204kB 7.8MB/s eta 0:00:01\r\u001b[K     |███████████████████████████████▏| 215kB 7.8MB/s eta 0:00:01\r\u001b[K     |████████████████████████████████| 225kB 7.8MB/s \n",
            "\u001b[?25hRequirement already satisfied: statsmodels in /usr/local/lib/python3.7/dist-packages (from ananke-causal) (0.10.2)\n",
            "Requirement already satisfied: networkx in /usr/local/lib/python3.7/dist-packages (from ananke-causal) (2.5.1)\n",
            "Requirement already satisfied: autograd in /usr/local/lib/python3.7/dist-packages (from ananke-causal) (1.3)\n",
            "Requirement already satisfied: graphviz in /usr/local/lib/python3.7/dist-packages (from ananke-causal) (0.10.1)\n",
            "Requirement already satisfied: numpy in /usr/local/lib/python3.7/dist-packages (from ananke-causal) (1.19.5)\n",
            "Requirement already satisfied: pandas in /usr/local/lib/python3.7/dist-packages (from ananke-causal) (1.1.5)\n",
            "Requirement already satisfied: scipy in /usr/local/lib/python3.7/dist-packages (from ananke-causal) (1.4.1)\n",
            "Requirement already satisfied: patsy>=0.4.0 in /usr/local/lib/python3.7/dist-packages (from statsmodels->ananke-causal) (0.5.1)\n",
            "Requirement already satisfied: decorator<5,>=4.3 in /usr/local/lib/python3.7/dist-packages (from networkx->ananke-causal) (4.4.2)\n",
            "Requirement already satisfied: future>=0.15.2 in /usr/local/lib/python3.7/dist-packages (from autograd->ananke-causal) (0.16.0)\n",
            "Requirement already satisfied: pytz>=2017.2 in /usr/local/lib/python3.7/dist-packages (from pandas->ananke-causal) (2018.9)\n",
            "Requirement already satisfied: python-dateutil>=2.7.3 in /usr/local/lib/python3.7/dist-packages (from pandas->ananke-causal) (2.8.1)\n",
            "Requirement already satisfied: six in /usr/local/lib/python3.7/dist-packages (from patsy>=0.4.0->statsmodels->ananke-causal) (1.15.0)\n",
            "Installing collected packages: ananke-causal\n",
            "Successfully installed ananke-causal-0.1.5\n"
          ],
          "name": "stdout"
        }
      ]
    },
    {
      "cell_type": "code",
      "metadata": {
        "colab": {
          "base_uri": "https://localhost:8080/"
        },
        "id": "0LMcIVTIIJhW",
        "outputId": "6356d579-0640-4546-fec3-f11236b8169a"
      },
      "source": [
        "from ananke.graphs import ADMG\n",
        "from ananke.identification import OneLineID\n",
        "from ananke.estimation import CausalEffect\n",
        "from ananke.datasets import load_afixable_data\n",
        "from ananke.estimation import AutomatedIF\n",
        "import numpy as np\n",
        "import pandas as pd"
      ],
      "execution_count": null,
      "outputs": [
        {
          "output_type": "stream",
          "text": [
            "/usr/local/lib/python3.7/dist-packages/statsmodels/tools/_testing.py:19: FutureWarning: pandas.util.testing is deprecated. Use the functions in the public API at pandas.testing instead.\n",
            "  import pandas.util.testing as tm\n"
          ],
          "name": "stderr"
        }
      ]
    },
    {
      "cell_type": "markdown",
      "metadata": {
        "id": "IU1UCxrOIPBM"
      },
      "source": [
        "# Case study 3, building the graph"
      ]
    },
    {
      "cell_type": "code",
      "metadata": {
        "colab": {
          "base_uri": "https://localhost:8080/",
          "height": 141
        },
        "id": "D3BoglrbIWSi",
        "outputId": "81c128ef-e17b-494a-d168-45ef5e55bb46"
      },
      "source": [
        "vertices_case3 = ['SOS', 'Ras','Raf','AKT','Mek','Erk','PI3K']\n",
        "di_edges_case3 = [('SOS','Ras'), ('Ras','PI3K'),('Ras','Raf'), ('PI3K', 'AKT'),\n",
        "            ('AKT','Raf'), ('Raf','Mek'),('Mek','Erk')]\n",
        "bi_edges_case3 = [('SOS','PI3K')]\n",
        "Case3 = ADMG(vertices_case3, di_edges_case3, bi_edges_case3)\n",
        "Case3.draw(direction='LR')"
      ],
      "execution_count": null,
      "outputs": [
        {
          "output_type": "execute_result",
          "data": {
            "text/plain": [
              "<graphviz.dot.Digraph at 0x7f6a380834d0>"
            ],
            "image/svg+xml": "<?xml version=\"1.0\" encoding=\"UTF-8\" standalone=\"no\"?>\n<!DOCTYPE svg PUBLIC \"-//W3C//DTD SVG 1.1//EN\"\n \"http://www.w3.org/Graphics/SVG/1.1/DTD/svg11.dtd\">\n<!-- Generated by graphviz version 2.40.1 (20161225.0304)\n -->\n<!-- Title: %3 Pages: 1 -->\n<svg width=\"518pt\" height=\"90pt\"\n viewBox=\"0.00 0.00 518.00 90.00\" xmlns=\"http://www.w3.org/2000/svg\" xmlns:xlink=\"http://www.w3.org/1999/xlink\">\n<g id=\"graph0\" class=\"graph\" transform=\"scale(1 1) rotate(0) translate(4 86)\">\n<title>%3</title>\n<polygon fill=\"#ffffff\" stroke=\"transparent\" points=\"-4,4 -4,-86 514,-86 514,4 -4,4\"/>\n<!-- SOS -->\n<g id=\"node1\" class=\"node\">\n<title>SOS</title>\n<text text-anchor=\"middle\" x=\"22\" y=\"-37.3\" font-family=\"Times,serif\" font-size=\"14.00\" fill=\"#000000\">SOS</text>\n</g>\n<!-- Ras -->\n<g id=\"node2\" class=\"node\">\n<title>Ras</title>\n<text text-anchor=\"middle\" x=\"99\" y=\"-60.3\" font-family=\"Times,serif\" font-size=\"14.00\" fill=\"#000000\">Ras</text>\n</g>\n<!-- SOS&#45;&gt;Ras -->\n<g id=\"edge4\" class=\"edge\">\n<title>SOS&#45;&gt;Ras</title>\n<path fill=\"none\" stroke=\"#0000ff\" d=\"M44.2716,-47.6526C52.3803,-50.0746 61.6646,-52.8479 70.2552,-55.4139\"/>\n<polygon fill=\"#0000ff\" stroke=\"#0000ff\" points=\"69.3257,-58.789 79.9091,-58.2975 71.3292,-52.0818 69.3257,-58.789\"/>\n</g>\n<!-- PI3K -->\n<g id=\"node7\" class=\"node\">\n<title>PI3K</title>\n<text text-anchor=\"middle\" x=\"177.5\" y=\"-14.3\" font-family=\"Times,serif\" font-size=\"14.00\" fill=\"#000000\">PI3K</text>\n</g>\n<!-- SOS&#45;&gt;PI3K -->\n<g id=\"edge8\" class=\"edge\">\n<title>SOS&#45;&gt;PI3K</title>\n<path fill=\"none\" stroke=\"#ff0000\" d=\"M54.1733,-36.2412C80.4234,-32.3586 117.387,-26.8913 143.9918,-22.9562\"/>\n<polygon fill=\"#ff0000\" stroke=\"#ff0000\" points=\"53.6596,-32.7791 44.2794,-37.7047 54.6839,-39.7037 53.6596,-32.7791\"/>\n<polygon fill=\"#ff0000\" stroke=\"#ff0000\" points=\"144.6095,-26.403 153.9898,-21.4774 143.5853,-19.4783 144.6095,-26.403\"/>\n</g>\n<!-- Raf -->\n<g id=\"node3\" class=\"node\">\n<title>Raf</title>\n<text text-anchor=\"middle\" x=\"338.5\" y=\"-37.3\" font-family=\"Times,serif\" font-size=\"14.00\" fill=\"#000000\">Raf</text>\n</g>\n<!-- Ras&#45;&gt;Raf -->\n<g id=\"edge7\" class=\"edge\">\n<title>Ras&#45;&gt;Raf</title>\n<path fill=\"none\" stroke=\"#0000ff\" d=\"M118.1944,-62.1567C160.1801,-58.1247 260.3669,-48.5034 309.8468,-43.7517\"/>\n<polygon fill=\"#0000ff\" stroke=\"#0000ff\" points=\"310.257,-47.2285 319.8766,-42.7885 309.5878,-40.2605 310.257,-47.2285\"/>\n</g>\n<!-- Ras&#45;&gt;PI3K -->\n<g id=\"edge3\" class=\"edge\">\n<title>Ras&#45;&gt;PI3K</title>\n<path fill=\"none\" stroke=\"#0000ff\" d=\"M118.0027,-52.8647C126.1866,-48.069 135.9877,-42.3257 145.2512,-36.8974\"/>\n<polygon fill=\"#0000ff\" stroke=\"#0000ff\" points=\"147.0392,-39.9063 153.8975,-31.8307 143.5002,-33.8668 147.0392,-39.9063\"/>\n</g>\n<!-- Mek -->\n<g id=\"node5\" class=\"node\">\n<title>Mek</title>\n<text text-anchor=\"middle\" x=\"414.5\" y=\"-37.3\" font-family=\"Times,serif\" font-size=\"14.00\" fill=\"#000000\">Mek</text>\n</g>\n<!-- Raf&#45;&gt;Mek -->\n<g id=\"edge1\" class=\"edge\">\n<title>Raf&#45;&gt;Mek</title>\n<path fill=\"none\" stroke=\"#0000ff\" d=\"M357.2865,-41C364.9741,-41 374.0854,-41 382.7508,-41\"/>\n<polygon fill=\"#0000ff\" stroke=\"#0000ff\" points=\"382.9739,-44.5001 392.9739,-41 382.9739,-37.5001 382.9739,-44.5001\"/>\n</g>\n<!-- AKT -->\n<g id=\"node4\" class=\"node\">\n<title>AKT</title>\n<text text-anchor=\"middle\" x=\"260.5\" y=\"-14.3\" font-family=\"Times,serif\" font-size=\"14.00\" fill=\"#000000\">AKT</text>\n</g>\n<!-- AKT&#45;&gt;Raf -->\n<g id=\"edge6\" class=\"edge\">\n<title>AKT&#45;&gt;Raf</title>\n<path fill=\"none\" stroke=\"#0000ff\" d=\"M284.3264,-25.0257C292.4166,-27.4113 301.5388,-30.1012 309.9587,-32.584\"/>\n<polygon fill=\"#0000ff\" stroke=\"#0000ff\" points=\"309.1827,-36.0041 319.7643,-35.4754 311.1626,-29.2899 309.1827,-36.0041\"/>\n</g>\n<!-- Erk -->\n<g id=\"node6\" class=\"node\">\n<title>Erk</title>\n<text text-anchor=\"middle\" x=\"491\" y=\"-37.3\" font-family=\"Times,serif\" font-size=\"14.00\" fill=\"#000000\">Erk</text>\n</g>\n<!-- Mek&#45;&gt;Erk -->\n<g id=\"edge2\" class=\"edge\">\n<title>Mek&#45;&gt;Erk</title>\n<path fill=\"none\" stroke=\"#0000ff\" d=\"M436.2172,-41C444.1063,-41 453.1573,-41 461.5997,-41\"/>\n<polygon fill=\"#0000ff\" stroke=\"#0000ff\" points=\"461.8347,-44.5001 471.8346,-41 461.8346,-37.5001 461.8347,-44.5001\"/>\n</g>\n<!-- PI3K&#45;&gt;AKT -->\n<g id=\"edge5\" class=\"edge\">\n<title>PI3K&#45;&gt;AKT</title>\n<path fill=\"none\" stroke=\"#0000ff\" d=\"M201.0625,-18C209.0355,-18 218.1024,-18 226.7105,-18\"/>\n<polygon fill=\"#0000ff\" stroke=\"#0000ff\" points=\"226.8787,-21.5001 236.8786,-18 226.8786,-14.5001 226.8787,-21.5001\"/>\n</g>\n</g>\n</svg>\n"
          },
          "metadata": {
            "tags": []
          },
          "execution_count": 4
        }
      ]
    },
    {
      "cell_type": "code",
      "metadata": {
        "colab": {
          "base_uri": "https://localhost:8080/"
        },
        "id": "UdGcWiprJRXI",
        "outputId": "744bab94-189c-47b6-890b-fc53e84a5b84"
      },
      "source": [
        "one_id = OneLineID(graph=Case3, treatments=['SOS'], outcomes=['Erk'])\n",
        "one_id.id()"
      ],
      "execution_count": null,
      "outputs": [
        {
          "output_type": "execute_result",
          "data": {
            "text/plain": [
              "True"
            ]
          },
          "metadata": {
            "tags": []
          },
          "execution_count": 5
        }
      ]
    },
    {
      "cell_type": "code",
      "metadata": {
        "colab": {
          "base_uri": "https://localhost:8080/"
        },
        "id": "Q4thOSG-OD30",
        "outputId": "9cbc505c-671d-47e2-8953-9fb11d81d01a"
      },
      "source": [
        "ate_obj_case3 = CausalEffect(graph=Case3, treatment='SOS', outcome='Erk')  # setting up the CausalEffect object\n",
        "ate_obj_case3"
      ],
      "execution_count": null,
      "outputs": [
        {
          "output_type": "stream",
          "text": [
            "\n",
            " Treatment is p-fixable and graph is mb-shielded. \n",
            "\n",
            " Available estimators are:\n",
            "\n",
            "1. Primal IPW (p-ipw)\n",
            "2. Dual IPW (d-ipw)\n",
            "3. APIPW (apipw)\n",
            "4. Efficient APIPW (eff-apipw) \n",
            " \n",
            "Suggested estimator is Efficient APIPW \n",
            "\n"
          ],
          "name": "stdout"
        },
        {
          "output_type": "execute_result",
          "data": {
            "text/plain": [
              "<ananke.estimation.counterfactual_mean.CausalEffect at 0x7f6a37f53110>"
            ]
          },
          "metadata": {
            "tags": []
          },
          "execution_count": 6
        }
      ]
    },
    {
      "cell_type": "markdown",
      "metadata": {
        "id": "VJ4x7csdGNAQ"
      },
      "source": [
        "Read observational data:"
      ]
    },
    {
      "cell_type": "code",
      "metadata": {
        "id": "Ic1lS8TV80bh"
      },
      "source": [
        "obs_data1_case3 = pd.read_csv('obs_data1_case3.csv', sep=',')\n",
        "obs_data1_case3 = obs_data1_case3.drop(['Unnamed: 0','EGFR','IGFR'], axis=1)\n",
        "obs_data2_case3 = pd.read_csv('obs_data2_case3.csv', sep=',')\n",
        "obs_data2_case3 = obs_data2_case3.drop(['Unnamed: 0','EGFR','IGFR'], axis=1)\n",
        "obs_data3_case3 = pd.read_csv('obs_data3_case3.csv', sep=',')\n",
        "obs_data3_case3 = obs_data3_case3.drop(['Unnamed: 0','EGFR','IGFR'], axis=1)\n",
        "obs_data4_case3 = pd.read_csv('obs_data4_case3.csv', sep=',')\n",
        "obs_data4_case3 = obs_data4_case3.drop(['Unnamed: 0','EGFR','IGFR'], axis=1)\n",
        "obs_data5_case3 = pd.read_csv('obs_data5_case3.csv', sep=',')\n",
        "obs_data5_case3 = obs_data5_case3.drop(['Unnamed: 0','EGFR','IGFR'], axis=1)\n",
        "obs_data6_case3 = pd.read_csv('obs_data6_case3.csv', sep=',')\n",
        "obs_data6_case3 = obs_data6_case3.drop(['Unnamed: 0','EGFR','IGFR'], axis=1)\n",
        "obs_data7_case3 = pd.read_csv('obs_data7_case3.csv', sep=',')\n",
        "obs_data7_case3 = obs_data7_case3.drop(['Unnamed: 0','EGFR','IGFR'], axis=1)\n",
        "obs_data8_case3 = pd.read_csv('obs_data8_case3.csv', sep=',')\n",
        "obs_data8_case3 = obs_data8_case3.drop(['Unnamed: 0','EGFR','IGFR'], axis=1)\n",
        "obs_data9_case3 = pd.read_csv('obs_data9_case3.csv', sep=',')\n",
        "obs_data9_case3 = obs_data9_case3.drop(['Unnamed: 0','EGFR','IGFR'], axis=1)\n",
        "obs_data10_case3 = pd.read_csv('obs_data10_case3.csv', sep=',')\n",
        "obs_data10_case3 = obs_data10_case3.drop(['Unnamed: 0','EGFR','IGFR'], axis=1)"
      ],
      "execution_count": null,
      "outputs": []
    },
    {
      "cell_type": "code",
      "metadata": {
        "id": "od-lKb1TPI7A"
      },
      "source": [
        "obs_data_list_case3 = []\n",
        "obs_data_list_case3.append(obs_data1_case3)\n",
        "obs_data_list_case3.append(obs_data2_case3)\n",
        "obs_data_list_case3.append(obs_data3_case3)\n",
        "obs_data_list_case3.append(obs_data4_case3)\n",
        "obs_data_list_case3.append(obs_data5_case3)\n",
        "obs_data_list_case3.append(obs_data6_case3)\n",
        "obs_data_list_case3.append(obs_data7_case3)\n",
        "obs_data_list_case3.append(obs_data8_case3)\n",
        "obs_data_list_case3.append(obs_data9_case3)\n",
        "obs_data_list_case3.append(obs_data10_case3)"
      ],
      "execution_count": null,
      "outputs": []
    },
    {
      "cell_type": "markdown",
      "metadata": {
        "id": "N1cdKpRrGRId"
      },
      "source": [
        "Read interventional data:"
      ]
    },
    {
      "cell_type": "code",
      "metadata": {
        "id": "PBfrpAFYGT7C"
      },
      "source": [
        "intv_data1_case3 = pd.read_csv('intv_data1_case3.csv', sep=',')\n",
        "intv_data1_case3 = intv_data1_case3.drop(['Unnamed: 0','EGFR','IGFR'], axis=1)\n",
        "intv_data2_case3 = pd.read_csv('intv_data2_case3.csv', sep=',')\n",
        "intv_data2_case3 = intv_data2_case3.drop(['Unnamed: 0','EGFR','IGFR'], axis=1)\n",
        "intv_data3_case3 = pd.read_csv('intv_data3_case3.csv', sep=',')\n",
        "intv_data3_case3 = intv_data3_case3.drop(['Unnamed: 0','EGFR','IGFR'], axis=1)\n",
        "intv_data4_case3 = pd.read_csv('intv_data4_case3.csv', sep=',')\n",
        "intv_data4_case3 = intv_data4_case3.drop(['Unnamed: 0','EGFR','IGFR'], axis=1)\n",
        "intv_data5_case3 = pd.read_csv('intv_data5_case3.csv', sep=',')\n",
        "intv_data5_case3 = intv_data5_case3.drop(['Unnamed: 0','EGFR','IGFR'], axis=1)\n",
        "intv_data6_case3 = pd.read_csv('intv_data6_case3.csv', sep=',')\n",
        "intv_data6_case3 = intv_data6_case3.drop(['Unnamed: 0','EGFR','IGFR'], axis=1)\n",
        "intv_data7_case3 = pd.read_csv('intv_data7_case3.csv', sep=',')\n",
        "intv_data7_case3 = intv_data7_case3.drop(['Unnamed: 0','EGFR','IGFR'], axis=1)\n",
        "intv_data8_case3 = pd.read_csv('intv_data8_case3.csv', sep=',')\n",
        "intv_data8_case3 = intv_data8_case3.drop(['Unnamed: 0','EGFR','IGFR'], axis=1)\n",
        "intv_data9_case3 = pd.read_csv('intv_data9_case3.csv', sep=',')\n",
        "intv_data9_case3 = intv_data9_case3.drop(['Unnamed: 0','EGFR','IGFR'], axis=1)\n",
        "intv_data10_case3 = pd.read_csv('intv_data10_case3.csv', sep=',')\n",
        "intv_data10_case3 = intv_data10_case3.drop(['Unnamed: 0','EGFR','IGFR'], axis=1)"
      ],
      "execution_count": null,
      "outputs": []
    },
    {
      "cell_type": "code",
      "metadata": {
        "id": "siP_RiPVNqdy"
      },
      "source": [
        "intv_data_list_case3 = []\n",
        "intv_data_list_case3.append(intv_data1_case3)\n",
        "intv_data_list_case3.append(intv_data2_case3)\n",
        "intv_data_list_case3.append(intv_data3_case3)\n",
        "intv_data_list_case3.append(intv_data4_case3)\n",
        "intv_data_list_case3.append(intv_data5_case3)\n",
        "intv_data_list_case3.append(intv_data6_case3)\n",
        "intv_data_list_case3.append(intv_data7_case3)\n",
        "intv_data_list_case3.append(intv_data8_case3)\n",
        "intv_data_list_case3.append(intv_data9_case3)\n",
        "intv_data_list_case3.append(intv_data10_case3)"
      ],
      "execution_count": null,
      "outputs": []
    },
    {
      "cell_type": "markdown",
      "metadata": {
        "id": "plAMKkusFqQ-"
      },
      "source": [
        "## absolute average error (AAE)"
      ]
    },
    {
      "cell_type": "code",
      "metadata": {
        "id": "vWN61vSn9Ei6"
      },
      "source": [
        "means_p_ipw_case3 = [0]*10\n",
        "means_d_ipw_case3 = [0]*10\n",
        "means_list_p_ipw_case3 = {}\n",
        "means_list_d_ipw_case3 = {}\n",
        "for num_data_points in [30,60,100,140,200]:\n",
        "  for i in range(0,10):\n",
        "  #True causal effect is:\n",
        "    True_case3 = abs(intv_data_list_case3[i]['Erk'].mean() - obs_data_list_case3[i]['Erk'].mean())\n",
        "    data = obs_data_list_case3[i].iloc[0:num_data_points,]\n",
        "    ace_p_ipw_case3 = ate_obj_case3.compute_effect(data, \"p-ipw\")\n",
        "    ace_d_ipw_case3 = ate_obj_case3.compute_effect(data, \"d-ipw\")\n",
        "    means_p_ipw_case3[i] = abs(True_case3 - ace_p_ipw_case3)\n",
        "    means_d_ipw_case3[i] = abs(True_case3 - ace_d_ipw_case3)\n",
        "  means_list_p_ipw_case3[num_data_points] = (means_p_ipw_case3)\n",
        "  means_p_ipw_case3 = [0]*10\n",
        "  means_list_d_ipw_case3[num_data_points] = (means_d_ipw_case3)\n",
        "  means_d_ipw_case3 = [0]*10"
      ],
      "execution_count": null,
      "outputs": []
    },
    {
      "cell_type": "code",
      "metadata": {
        "id": "92yzSXYaUhi1"
      },
      "source": [
        "df_p_ipw_case3 = pd.DataFrame(data = means_list_p_ipw_case3 )\n",
        "df_d_ipw_case3 = pd.DataFrame(data = means_list_d_ipw_case3 )"
      ],
      "execution_count": null,
      "outputs": []
    },
    {
      "cell_type": "code",
      "metadata": {
        "id": "9ZxbmpYxf2VE"
      },
      "source": [
        "df_p_ipw_case3.to_csv('df_p_ipw_case3.csv')\n",
        "df_d_ipw_case3.to_csv('df_d_ipw_case3.csv')"
      ],
      "execution_count": null,
      "outputs": []
    },
    {
      "cell_type": "markdown",
      "metadata": {
        "id": "f4pFLWaoqYB-"
      },
      "source": [
        "# Case Study 4 : Building the graph"
      ]
    },
    {
      "cell_type": "code",
      "metadata": {
        "colab": {
          "base_uri": "https://localhost:8080/",
          "height": 312
        },
        "id": "4YaS-zaQqdVr",
        "outputId": "dc2658c5-f608-4bf7-e88f-d321e2f1e163"
      },
      "source": [
        "vertices_case4 = ['SARS_COV2', 'ACE2','Ang','AGTR1','ADAM17','Toci','Sil6r','EGF','TNF','EGFR','PRR','NFKB','IL6STAT3','IL6AMP','cytok','Gefi']\n",
        "di_edges_case4 = [('SARS_COV2','ACE2'),('ACE2','Ang'),('Ang','AGTR1'),('AGTR1','ADAM17'),('ADAM17','EGF'),('ADAM17','TNF'),('ADAM17','Sil6r'),('SARS_COV2','PRR'),\n",
        "                  ('PRR','NFKB'),('EGFR','NFKB'),('TNF','NFKB'),('Sil6r','IL6STAT3'),('Toci','Sil6r'),('NFKB','IL6AMP'),('IL6AMP','cytok'),('IL6STAT3','IL6AMP'),('EGF','EGFR'), ('Gefi', 'EGFR')]\n",
        "bi_edges_case4 = [('SARS_COV2','Ang'), ('ADAM17','Sil6r'),('PRR','NFKB'),\n",
        "            ('EGF','EGFR'), ('EGFR','TNF'),('EGFR','IL6STAT3')]\n",
        "Case4 = ADMG(vertices_case4, di_edges_case4, bi_edges_case4)\n",
        "Case4.draw(direction='LR')"
      ],
      "execution_count": null,
      "outputs": [
        {
          "output_type": "execute_result",
          "data": {
            "text/plain": [
              "<graphviz.dot.Digraph at 0x7f8691d7cf10>"
            ],
            "image/svg+xml": "<?xml version=\"1.0\" encoding=\"UTF-8\" standalone=\"no\"?>\n<!DOCTYPE svg PUBLIC \"-//W3C//DTD SVG 1.1//EN\"\n \"http://www.w3.org/Graphics/SVG/1.1/DTD/svg11.dtd\">\n<!-- Generated by graphviz version 2.40.1 (20161225.0304)\n -->\n<!-- Title: %3 Pages: 1 -->\n<svg width=\"1054pt\" height=\"218pt\"\n viewBox=\"0.00 0.00 1054.00 218.00\" xmlns=\"http://www.w3.org/2000/svg\" xmlns:xlink=\"http://www.w3.org/1999/xlink\">\n<g id=\"graph0\" class=\"graph\" transform=\"scale(1 1) rotate(0) translate(4 214)\">\n<title>%3</title>\n<polygon fill=\"#ffffff\" stroke=\"transparent\" points=\"-4,4 -4,-214 1050,-214 1050,4 -4,4\"/>\n<!-- SARS_COV2 -->\n<g id=\"node1\" class=\"node\">\n<title>SARS_COV2</title>\n<text text-anchor=\"middle\" x=\"49.5\" y=\"-61.3\" font-family=\"Times,serif\" font-size=\"14.00\" fill=\"#000000\">SARS_COV2</text>\n</g>\n<!-- ACE2 -->\n<g id=\"node2\" class=\"node\">\n<title>ACE2</title>\n<text text-anchor=\"middle\" x=\"161.5\" y=\"-107.3\" font-family=\"Times,serif\" font-size=\"14.00\" fill=\"#000000\">ACE2</text>\n</g>\n<!-- SARS_COV2&#45;&gt;ACE2 -->\n<g id=\"edge18\" class=\"edge\">\n<title>SARS_COV2&#45;&gt;ACE2</title>\n<path fill=\"none\" stroke=\"#0000ff\" d=\"M93.4439,-83.0484C104.0326,-87.3973 115.2251,-91.9942 125.4079,-96.1765\"/>\n<polygon fill=\"#0000ff\" stroke=\"#0000ff\" points=\"124.2289,-99.4759 134.8088,-100.0376 126.8884,-93.0007 124.2289,-99.4759\"/>\n</g>\n<!-- Ang -->\n<g id=\"node3\" class=\"node\">\n<title>Ang</title>\n<text text-anchor=\"middle\" x=\"245\" y=\"-107.3\" font-family=\"Times,serif\" font-size=\"14.00\" fill=\"#000000\">Ang</text>\n</g>\n<!-- SARS_COV2&#45;&gt;Ang -->\n<g id=\"edge21\" class=\"edge\">\n<title>SARS_COV2&#45;&gt;Ang</title>\n<path fill=\"none\" stroke=\"#ff0000\" d=\"M109.2859,-69.1676C134.0139,-71.9248 162.7509,-76.4831 188,-84 196.9976,-86.6787 206.3616,-90.5914 214.8374,-94.6112\"/>\n<polygon fill=\"#ff0000\" stroke=\"#ff0000\" points=\"109.6221,-65.6837 99.3129,-68.1274 108.8959,-72.646 109.6221,-65.6837\"/>\n<polygon fill=\"#ff0000\" stroke=\"#ff0000\" points=\"213.4486,-97.8292 223.9627,-99.1352 216.5579,-91.5576 213.4486,-97.8292\"/>\n</g>\n<!-- PRR -->\n<g id=\"node11\" class=\"node\">\n<title>PRR</title>\n<text text-anchor=\"middle\" x=\"724\" y=\"-15.3\" font-family=\"Times,serif\" font-size=\"14.00\" fill=\"#000000\">PRR</text>\n</g>\n<!-- SARS_COV2&#45;&gt;PRR -->\n<g id=\"edge11\" class=\"edge\">\n<title>SARS_COV2&#45;&gt;PRR</title>\n<path fill=\"none\" stroke=\"#0000ff\" d=\"M82.2991,-46.8939C120.272,-27.6609 185.2678,0 245,0 245,0 245,0 536,0 590.7891,0 654.1066,-8.0868 691.5053,-13.7088\"/>\n<polygon fill=\"#0000ff\" stroke=\"#0000ff\" points=\"691.3736,-17.2297 701.7896,-15.2915 692.4384,-10.3111 691.3736,-17.2297\"/>\n</g>\n<!-- ACE2&#45;&gt;Ang -->\n<g id=\"edge2\" class=\"edge\">\n<title>ACE2&#45;&gt;Ang</title>\n<path fill=\"none\" stroke=\"#0000ff\" d=\"M188.3795,-111C196.4918,-111 205.4656,-111 213.8324,-111\"/>\n<polygon fill=\"#0000ff\" stroke=\"#0000ff\" points=\"213.9952,-114.5001 223.9951,-111 213.9951,-107.5001 213.9952,-114.5001\"/>\n</g>\n<!-- AGTR1 -->\n<g id=\"node4\" class=\"node\">\n<title>AGTR1</title>\n<text text-anchor=\"middle\" x=\"334\" y=\"-120.3\" font-family=\"Times,serif\" font-size=\"14.00\" fill=\"#000000\">AGTR1</text>\n</g>\n<!-- Ang&#45;&gt;AGTR1 -->\n<g id=\"edge5\" class=\"edge\">\n<title>Ang&#45;&gt;AGTR1</title>\n<path fill=\"none\" stroke=\"#0000ff\" d=\"M266.0918,-114.0808C273.8601,-115.2155 282.9589,-116.5446 291.9259,-117.8544\"/>\n<polygon fill=\"#0000ff\" stroke=\"#0000ff\" points=\"291.5152,-121.3314 301.9161,-119.3136 292.527,-114.4049 291.5152,-121.3314\"/>\n</g>\n<!-- ADAM17 -->\n<g id=\"node5\" class=\"node\">\n<title>ADAM17</title>\n<text text-anchor=\"middle\" x=\"440\" y=\"-134.3\" font-family=\"Times,serif\" font-size=\"14.00\" fill=\"#000000\">ADAM17</text>\n</g>\n<!-- AGTR1&#45;&gt;ADAM17 -->\n<g id=\"edge10\" class=\"edge\">\n<title>AGTR1&#45;&gt;ADAM17</title>\n<path fill=\"none\" stroke=\"#0000ff\" d=\"M366.0912,-128.2385C374.1498,-129.3028 382.9764,-130.4686 391.6367,-131.6124\"/>\n<polygon fill=\"#0000ff\" stroke=\"#0000ff\" points=\"391.2985,-135.098 401.6707,-132.9376 392.2151,-128.1583 391.2985,-135.098\"/>\n</g>\n<!-- Sil6r -->\n<g id=\"node7\" class=\"node\">\n<title>Sil6r</title>\n<text text-anchor=\"middle\" x=\"536\" y=\"-188.3\" font-family=\"Times,serif\" font-size=\"14.00\" fill=\"#000000\">Sil6r</text>\n</g>\n<!-- ADAM17&#45;&gt;Sil6r -->\n<g id=\"edge16\" class=\"edge\">\n<title>ADAM17&#45;&gt;Sil6r</title>\n<path fill=\"none\" stroke=\"#0000ff\" d=\"M478.2176,-152.8736C487.2985,-157.7443 496.8672,-163.224 505.548,-168.5388\"/>\n<polygon fill=\"#0000ff\" stroke=\"#0000ff\" points=\"503.8859,-171.628 514.2152,-173.9851 507.6103,-165.701 503.8859,-171.628\"/>\n</g>\n<!-- ADAM17&#45;&gt;Sil6r -->\n<g id=\"edge20\" class=\"edge\">\n<title>ADAM17&#45;&gt;Sil6r</title>\n<path fill=\"none\" stroke=\"#ff0000\" d=\"M470.6482,-161.5812C481.5439,-168.2449 493.818,-175.1586 504.7625,-180.7989\"/>\n<polygon fill=\"#ff0000\" stroke=\"#ff0000\" points=\"472.1138,-158.3687 461.7839,-156.0143 468.3909,-164.2967 472.1138,-158.3687\"/>\n<polygon fill=\"#ff0000\" stroke=\"#ff0000\" points=\"503.4589,-184.0598 513.97,-185.3895 506.5823,-177.7953 503.4589,-184.0598\"/>\n</g>\n<!-- EGF -->\n<g id=\"node8\" class=\"node\">\n<title>EGF</title>\n<text text-anchor=\"middle\" x=\"536\" y=\"-134.3\" font-family=\"Times,serif\" font-size=\"14.00\" fill=\"#000000\">EGF</text>\n</g>\n<!-- ADAM17&#45;&gt;EGF -->\n<g id=\"edge9\" class=\"edge\">\n<title>ADAM17&#45;&gt;EGF</title>\n<path fill=\"none\" stroke=\"#0000ff\" d=\"M478.2176,-138C486.6522,-138 495.5078,-138 503.6817,-138\"/>\n<polygon fill=\"#0000ff\" stroke=\"#0000ff\" points=\"503.9418,-141.5001 513.9418,-138 503.9417,-134.5001 503.9418,-141.5001\"/>\n</g>\n<!-- TNF -->\n<g id=\"node9\" class=\"node\">\n<title>TNF</title>\n<text text-anchor=\"middle\" x=\"724\" y=\"-69.3\" font-family=\"Times,serif\" font-size=\"14.00\" fill=\"#000000\">TNF</text>\n</g>\n<!-- ADAM17&#45;&gt;TNF -->\n<g id=\"edge14\" class=\"edge\">\n<title>ADAM17&#45;&gt;TNF</title>\n<path fill=\"none\" stroke=\"#0000ff\" d=\"M450.28,-119.7351C462.5427,-100.0272 485.0685,-69.756 514,-57 572.8493,-31.0531 649.9708,-48.3164 692.4713,-61.6599\"/>\n<polygon fill=\"#0000ff\" stroke=\"#0000ff\" points=\"691.4057,-64.9938 701.9982,-64.7693 693.5777,-58.3392 691.4057,-64.9938\"/>\n</g>\n<!-- Toci -->\n<g id=\"node6\" class=\"node\">\n<title>Toci</title>\n<text text-anchor=\"middle\" x=\"440\" y=\"-188.3\" font-family=\"Times,serif\" font-size=\"14.00\" fill=\"#000000\">Toci</text>\n</g>\n<!-- Toci&#45;&gt;Sil6r -->\n<g id=\"edge13\" class=\"edge\">\n<title>Toci&#45;&gt;Sil6r</title>\n<path fill=\"none\" stroke=\"#0000ff\" d=\"M461.3055,-192C473.7188,-192 489.6244,-192 503.5656,-192\"/>\n<polygon fill=\"#0000ff\" stroke=\"#0000ff\" points=\"503.7533,-195.5001 513.7533,-192 503.7532,-188.5001 503.7533,-195.5001\"/>\n</g>\n<!-- IL6STAT3 -->\n<g id=\"node13\" class=\"node\">\n<title>IL6STAT3</title>\n<text text-anchor=\"middle\" x=\"724\" y=\"-161.3\" font-family=\"Times,serif\" font-size=\"14.00\" fill=\"#000000\">IL6STAT3</text>\n</g>\n<!-- Sil6r&#45;&gt;IL6STAT3 -->\n<g id=\"edge7\" class=\"edge\">\n<title>Sil6r&#45;&gt;IL6STAT3</title>\n<path fill=\"none\" stroke=\"#0000ff\" d=\"M558.3043,-188.7967C586.5763,-184.7364 636.1516,-177.6165 673.7296,-172.2197\"/>\n<polygon fill=\"#0000ff\" stroke=\"#0000ff\" points=\"674.5818,-175.6333 683.9826,-170.7472 673.5866,-168.7044 674.5818,-175.6333\"/>\n</g>\n<!-- EGFR -->\n<g id=\"node10\" class=\"node\">\n<title>EGFR</title>\n<text text-anchor=\"middle\" x=\"621\" y=\"-124.3\" font-family=\"Times,serif\" font-size=\"14.00\" fill=\"#000000\">EGFR</text>\n</g>\n<!-- EGF&#45;&gt;EGFR -->\n<g id=\"edge12\" class=\"edge\">\n<title>EGF&#45;&gt;EGFR</title>\n<path fill=\"none\" stroke=\"#0000ff\" d=\"M558.3327,-129.3494C566.1812,-127.8149 575.2243,-126.5253 583.955,-125.6579\"/>\n<polygon fill=\"#0000ff\" stroke=\"#0000ff\" points=\"584.2867,-129.1426 593.9704,-124.8442 583.7198,-122.1656 584.2867,-129.1426\"/>\n</g>\n<!-- EGF&#45;&gt;EGFR -->\n<g id=\"edge22\" class=\"edge\">\n<title>EGF&#45;&gt;EGFR</title>\n<path fill=\"none\" stroke=\"#ff0000\" d=\"M568.5633,-140.7523C573.5458,-140.3361 578.7215,-139.7672 583.7948,-139.0803\"/>\n<polygon fill=\"#ff0000\" stroke=\"#ff0000\" points=\"568.0932,-137.2749 558.3327,-141.3959 568.5328,-144.261 568.0932,-137.2749\"/>\n<polygon fill=\"#ff0000\" stroke=\"#ff0000\" points=\"584.6185,-142.4949 593.9704,-137.5157 583.5546,-135.5762 584.6185,-142.4949\"/>\n</g>\n<!-- NFKB -->\n<g id=\"node12\" class=\"node\">\n<title>NFKB</title>\n<text text-anchor=\"middle\" x=\"828\" y=\"-69.3\" font-family=\"Times,serif\" font-size=\"14.00\" fill=\"#000000\">NFKB</text>\n</g>\n<!-- TNF&#45;&gt;NFKB -->\n<g id=\"edge1\" class=\"edge\">\n<title>TNF&#45;&gt;NFKB</title>\n<path fill=\"none\" stroke=\"#0000ff\" d=\"M746.0557,-73C758.6265,-73 774.7389,-73 789.3448,-73\"/>\n<polygon fill=\"#0000ff\" stroke=\"#0000ff\" points=\"789.6417,-76.5001 799.6417,-73 789.6416,-69.5001 789.6417,-76.5001\"/>\n</g>\n<!-- EGFR&#45;&gt;TNF -->\n<g id=\"edge24\" class=\"edge\">\n<title>EGFR&#45;&gt;TNF</title>\n<path fill=\"none\" stroke=\"#ff0000\" d=\"M657.0783,-108.7349C668.7656,-102.4941 681.6203,-95.6299 692.9128,-89.6\"/>\n<polygon fill=\"#ff0000\" stroke=\"#ff0000\" points=\"655.2346,-105.7516 648.062,-113.5494 658.5318,-111.9264 655.2346,-105.7516\"/>\n<polygon fill=\"#ff0000\" stroke=\"#ff0000\" points=\"694.7985,-92.5608 701.9711,-84.763 691.5013,-86.386 694.7985,-92.5608\"/>\n</g>\n<!-- EGFR&#45;&gt;NFKB -->\n<g id=\"edge8\" class=\"edge\">\n<title>EGFR&#45;&gt;NFKB</title>\n<path fill=\"none\" stroke=\"#0000ff\" d=\"M648.0231,-124.405C677.082,-120.1485 724.4403,-112.0766 764,-100 772.7153,-97.3394 781.8616,-93.8972 790.4251,-90.3664\"/>\n<polygon fill=\"#0000ff\" stroke=\"#0000ff\" points=\"791.9615,-93.5164 799.7919,-86.3795 789.22,-87.0756 791.9615,-93.5164\"/>\n</g>\n<!-- EGFR&#45;&gt;IL6STAT3 -->\n<g id=\"edge19\" class=\"edge\">\n<title>EGFR&#45;&gt;IL6STAT3</title>\n<path fill=\"none\" stroke=\"#ff0000\" d=\"M657.71,-141.1871C663.1563,-143.1435 668.8438,-145.1866 674.4991,-147.2181\"/>\n<polygon fill=\"#ff0000\" stroke=\"#ff0000\" points=\"658.6565,-137.8082 648.062,-137.7213 656.29,-144.396 658.6565,-137.8082\"/>\n<polygon fill=\"#ff0000\" stroke=\"#ff0000\" points=\"673.3434,-150.5219 683.9379,-150.6088 675.71,-143.9341 673.3434,-150.5219\"/>\n</g>\n<!-- PRR&#45;&gt;NFKB -->\n<g id=\"edge15\" class=\"edge\">\n<title>PRR&#45;&gt;NFKB</title>\n<path fill=\"none\" stroke=\"#0000ff\" d=\"M746.0557,-24.816C760.3109,-31.0173 779.1204,-40.5535 795.1228,-49.6024\"/>\n<polygon fill=\"#0000ff\" stroke=\"#0000ff\" points=\"793.7581,-52.8568 804.1648,-54.845 797.2693,-46.8011 793.7581,-52.8568\"/>\n</g>\n<!-- PRR&#45;&gt;NFKB -->\n<g id=\"edge23\" class=\"edge\">\n<title>PRR&#45;&gt;NFKB</title>\n<path fill=\"none\" stroke=\"#ff0000\" d=\"M754.9505,-41.3027C766.132,-47.689 778.8757,-54.3983 790.5543,-60.0663\"/>\n<polygon fill=\"#ff0000\" stroke=\"#ff0000\" points=\"756.4527,-38.1263 746.0557,-36.088 752.9123,-44.165 756.4527,-38.1263\"/>\n<polygon fill=\"#ff0000\" stroke=\"#ff0000\" points=\"789.1051,-63.2526 799.6417,-64.3627 792.0971,-56.9242 789.1051,-63.2526\"/>\n</g>\n<!-- IL6AMP -->\n<g id=\"node14\" class=\"node\">\n<title>IL6AMP</title>\n<text text-anchor=\"middle\" x=\"926.5\" y=\"-92.3\" font-family=\"Times,serif\" font-size=\"14.00\" fill=\"#000000\">IL6AMP</text>\n</g>\n<!-- NFKB&#45;&gt;IL6AMP -->\n<g id=\"edge17\" class=\"edge\">\n<title>NFKB&#45;&gt;IL6AMP</title>\n<path fill=\"none\" stroke=\"#0000ff\" d=\"M856.2261,-79.5909C864.3218,-81.4812 873.3504,-83.5894 882.1668,-85.6481\"/>\n<polygon fill=\"#0000ff\" stroke=\"#0000ff\" points=\"881.4356,-89.0714 891.9695,-87.937 883.0273,-82.2548 881.4356,-89.0714\"/>\n</g>\n<!-- IL6STAT3&#45;&gt;IL6AMP -->\n<g id=\"edge4\" class=\"edge\">\n<title>IL6STAT3&#45;&gt;IL6AMP</title>\n<path fill=\"none\" stroke=\"#0000ff\" d=\"M764.0075,-151.3678C798.1434,-139.7363 847.1558,-123.0358 882.4134,-111.0221\"/>\n<polygon fill=\"#0000ff\" stroke=\"#0000ff\" points=\"883.6326,-114.3043 891.9694,-107.766 881.3749,-107.6784 883.6326,-114.3043\"/>\n</g>\n<!-- cytok -->\n<g id=\"node15\" class=\"node\">\n<title>cytok</title>\n<text text-anchor=\"middle\" x=\"1021.5\" y=\"-92.3\" font-family=\"Times,serif\" font-size=\"14.00\" fill=\"#000000\">cytok</text>\n</g>\n<!-- IL6AMP&#45;&gt;cytok -->\n<g id=\"edge3\" class=\"edge\">\n<title>IL6AMP&#45;&gt;cytok</title>\n<path fill=\"none\" stroke=\"#0000ff\" d=\"M961.0659,-96C969.4217,-96 978.3555,-96 986.721,-96\"/>\n<polygon fill=\"#0000ff\" stroke=\"#0000ff\" points=\"986.9271,-99.5001 996.927,-96 986.927,-92.5001 986.9271,-99.5001\"/>\n</g>\n<!-- Gefi -->\n<g id=\"node16\" class=\"node\">\n<title>Gefi</title>\n<text text-anchor=\"middle\" x=\"536\" y=\"-80.3\" font-family=\"Times,serif\" font-size=\"14.00\" fill=\"#000000\">Gefi</text>\n</g>\n<!-- Gefi&#45;&gt;EGFR -->\n<g id=\"edge6\" class=\"edge\">\n<title>Gefi&#45;&gt;EGFR</title>\n<path fill=\"none\" stroke=\"#0000ff\" d=\"M556.5761,-94.6512C565.0654,-99.0456 575.1617,-104.2719 584.8136,-109.2682\"/>\n<polygon fill=\"#0000ff\" stroke=\"#0000ff\" points=\"583.3747,-112.4645 593.8645,-113.9534 586.5927,-106.248 583.3747,-112.4645\"/>\n</g>\n</g>\n</svg>\n"
          },
          "metadata": {
            "tags": []
          },
          "execution_count": 4
        }
      ]
    },
    {
      "cell_type": "code",
      "metadata": {
        "colab": {
          "base_uri": "https://localhost:8080/"
        },
        "id": "tjcCmZV6zJxB",
        "outputId": "a76a6370-c9cb-46ff-9bd0-265bbd9c5148"
      },
      "source": [
        "one_id = OneLineID(graph=Case4, treatments=['Sil6r'], outcomes=['cytok'])\n",
        "one_id.id()"
      ],
      "execution_count": null,
      "outputs": [
        {
          "output_type": "execute_result",
          "data": {
            "text/plain": [
              "True"
            ]
          },
          "metadata": {
            "tags": []
          },
          "execution_count": 5
        }
      ]
    },
    {
      "cell_type": "code",
      "metadata": {
        "colab": {
          "base_uri": "https://localhost:8080/"
        },
        "id": "Uu90pEFSTzvD",
        "outputId": "62808837-5b08-4f82-d7ed-833e0f71b47c"
      },
      "source": [
        "one_id = OneLineID(graph=Case4, treatments=['EGFR'], outcomes=['cytok'])\n",
        "one_id.id()"
      ],
      "execution_count": null,
      "outputs": [
        {
          "output_type": "execute_result",
          "data": {
            "text/plain": [
              "True"
            ]
          },
          "metadata": {
            "tags": []
          },
          "execution_count": 6
        }
      ]
    },
    {
      "cell_type": "code",
      "metadata": {
        "id": "XKSqnlVtzeYQ",
        "colab": {
          "base_uri": "https://localhost:8080/"
        },
        "outputId": "028665a7-5e10-4f73-bfb7-a1a9efbdb2d2"
      },
      "source": [
        "ate_obj_case4_sil6r = CausalEffect(graph=Case4, treatment='Sil6r', outcome='cytok')  # setting up the CausalEffect object\n",
        "ate_obj_case4_sil6r"
      ],
      "execution_count": null,
      "outputs": [
        {
          "output_type": "stream",
          "text": [
            "\n",
            " Treatment is a-fixable.\n",
            "\n",
            " Available estimators are :\n",
            " \n",
            "1. IPW (ipw)\n",
            "2. Outcome regression (gformula)\n",
            "3. Generalized AIPW (aipw)\n",
            " \n",
            "Suggested estimator is Generalized AIPW \n",
            "\n"
          ],
          "name": "stdout"
        },
        {
          "output_type": "execute_result",
          "data": {
            "text/plain": [
              "<ananke.estimation.counterfactual_mean.CausalEffect at 0x7f8675030950>"
            ]
          },
          "metadata": {
            "tags": []
          },
          "execution_count": 7
        }
      ]
    },
    {
      "cell_type": "code",
      "metadata": {
        "id": "Kk3Y-zoCT6SH",
        "colab": {
          "base_uri": "https://localhost:8080/"
        },
        "outputId": "1b85d260-d70e-4846-f069-40c24e0e2d97"
      },
      "source": [
        "ate_obj_case4_egfr = CausalEffect(graph=Case4, treatment='EGFR', outcome='cytok')  # setting up the CausalEffect object\n",
        "ate_obj_case4_egfr"
      ],
      "execution_count": null,
      "outputs": [
        {
          "output_type": "stream",
          "text": [
            "\n",
            " Treatment is a-fixable.\n",
            "\n",
            " Available estimators are :\n",
            " \n",
            "1. IPW (ipw)\n",
            "2. Outcome regression (gformula)\n",
            "3. Generalized AIPW (aipw)\n",
            " \n",
            "Suggested estimator is Generalized AIPW \n",
            "\n"
          ],
          "name": "stdout"
        },
        {
          "output_type": "execute_result",
          "data": {
            "text/plain": [
              "<ananke.estimation.counterfactual_mean.CausalEffect at 0x7f866cbbb190>"
            ]
          },
          "metadata": {
            "tags": []
          },
          "execution_count": 16
        }
      ]
    },
    {
      "cell_type": "code",
      "metadata": {
        "id": "M5DySkOhUqWH"
      },
      "source": [
        "obs_data1_case4 = pd.read_csv('obs_data1_Case4.csv', sep=',')\n",
        "obs_data2_case4 = pd.read_csv('obs_data2_Case4.csv', sep=',')\n",
        "obs_data3_case4 = pd.read_csv('obs_data3_Case4.csv', sep=',')\n",
        "obs_data4_case4 = pd.read_csv('obs_data4_Case4.csv', sep=',')\n",
        "obs_data5_case4 = pd.read_csv('obs_data5_Case4.csv', sep=',')\n",
        "obs_data6_case4 = pd.read_csv('obs_data6_Case4.csv', sep=',')\n",
        "obs_data7_case4 = pd.read_csv('obs_data7_Case4.csv', sep=',')\n",
        "obs_data8_case4 = pd.read_csv('obs_data8_Case4.csv', sep=',')\n",
        "obs_data9_case4 = pd.read_csv('obs_data9_Case4.csv', sep=',')\n",
        "obs_data10_case4 = pd.read_csv('obs_data10_Case4.csv', sep=',')"
      ],
      "execution_count": null,
      "outputs": []
    },
    {
      "cell_type": "code",
      "metadata": {
        "id": "EJJO4Bz6ViBY"
      },
      "source": [
        "obs_data_list_case4 = []\n",
        "obs_data_list_case4.append(obs_data1_case4)\n",
        "obs_data_list_case4.append(obs_data2_case4)\n",
        "obs_data_list_case4.append(obs_data3_case4)\n",
        "obs_data_list_case4.append(obs_data4_case4)\n",
        "obs_data_list_case4.append(obs_data5_case4)\n",
        "obs_data_list_case4.append(obs_data6_case4)\n",
        "obs_data_list_case4.append(obs_data7_case4)\n",
        "obs_data_list_case4.append(obs_data8_case4)\n",
        "obs_data_list_case4.append(obs_data9_case4)\n",
        "obs_data_list_case4.append(obs_data10_case4)"
      ],
      "execution_count": null,
      "outputs": []
    },
    {
      "cell_type": "code",
      "metadata": {
        "id": "jn2R-Uz-VtFG"
      },
      "source": [
        "intv_data1_case4_sil6r = pd.read_csv('intv_data1_Case4_sil6r.csv', sep=',')\n",
        "intv_data2_case4_sil6r = pd.read_csv('intv_data2_Case4_sil6r.csv', sep=',')\n",
        "intv_data3_case4_sil6r = pd.read_csv('intv_data3_Case4_sil6r.csv', sep=',')\n",
        "intv_data4_case4_sil6r = pd.read_csv('intv_data4_Case4_sil6r.csv', sep=',')\n",
        "intv_data5_case4_sil6r = pd.read_csv('intv_data5_Case4_sil6r.csv', sep=',')\n",
        "intv_data6_case4_sil6r = pd.read_csv('intv_data6_Case4_sil6r.csv', sep=',')\n",
        "intv_data7_case4_sil6r = pd.read_csv('intv_data7_Case4_sil6r.csv', sep=',')\n",
        "intv_data8_case4_sil6r = pd.read_csv('intv_data8_Case4_sil6r.csv', sep=',')\n",
        "intv_data9_case4_sil6r = pd.read_csv('intv_data9_Case4_sil6r.csv', sep=',')\n",
        "intv_data10_case4_sil6r = pd.read_csv('intv_data10_Case4_sil6r.csv', sep=',')"
      ],
      "execution_count": null,
      "outputs": []
    },
    {
      "cell_type": "code",
      "metadata": {
        "id": "LDJn7N3CV69G"
      },
      "source": [
        "intv_data_list_case4_sil6r = []\n",
        "intv_data_list_case4_sil6r.append(intv_data1_case4_sil6r)\n",
        "intv_data_list_case4_sil6r.append(intv_data2_case4_sil6r)\n",
        "intv_data_list_case4_sil6r.append(intv_data3_case4_sil6r)\n",
        "intv_data_list_case4_sil6r.append(intv_data4_case4_sil6r)\n",
        "intv_data_list_case4_sil6r.append(intv_data5_case4_sil6r)\n",
        "intv_data_list_case4_sil6r.append(intv_data6_case4_sil6r)\n",
        "intv_data_list_case4_sil6r.append(intv_data7_case4_sil6r)\n",
        "intv_data_list_case4_sil6r.append(intv_data8_case4_sil6r)\n",
        "intv_data_list_case4_sil6r.append(intv_data9_case4_sil6r)\n",
        "intv_data_list_case4_sil6r.append(intv_data10_case4_sil6r)"
      ],
      "execution_count": null,
      "outputs": []
    },
    {
      "cell_type": "code",
      "metadata": {
        "id": "jMb8e4SNWGBM"
      },
      "source": [
        "intv_data1_case4_egfr = pd.read_csv('intv_data1_Case4_egfr.csv', sep=',')\n",
        "intv_data2_case4_egfr = pd.read_csv('intv_data2_Case4_egfr.csv', sep=',')\n",
        "intv_data3_case4_egfr = pd.read_csv('intv_data3_Case4_egfr.csv', sep=',')\n",
        "intv_data4_case4_egfr = pd.read_csv('intv_data4_Case4_egfr.csv', sep=',')\n",
        "intv_data5_case4_egfr = pd.read_csv('intv_data5_Case4_egfr.csv', sep=',')\n",
        "intv_data6_case4_egfr = pd.read_csv('intv_data6_Case4_egfr.csv', sep=',')\n",
        "intv_data7_case4_egfr = pd.read_csv('intv_data7_Case4_egfr.csv', sep=',')\n",
        "intv_data8_case4_egfr = pd.read_csv('intv_data8_Case4_egfr.csv', sep=',')\n",
        "intv_data9_case4_egfr = pd.read_csv('intv_data9_Case4_egfr.csv', sep=',')\n",
        "intv_data10_case4_egfr = pd.read_csv('intv_data10_Case4_egfr.csv', sep=',')"
      ],
      "execution_count": null,
      "outputs": []
    },
    {
      "cell_type": "code",
      "metadata": {
        "id": "8E2COWYvWG6C"
      },
      "source": [
        "intv_data_list_case4_egfr = []\n",
        "intv_data_list_case4_egfr.append(intv_data1_case4_egfr)\n",
        "intv_data_list_case4_egfr.append(intv_data2_case4_egfr)\n",
        "intv_data_list_case4_egfr.append(intv_data3_case4_egfr)\n",
        "intv_data_list_case4_egfr.append(intv_data4_case4_egfr)\n",
        "intv_data_list_case4_egfr.append(intv_data5_case4_egfr)\n",
        "intv_data_list_case4_egfr.append(intv_data6_case4_egfr)\n",
        "intv_data_list_case4_egfr.append(intv_data7_case4_egfr)\n",
        "intv_data_list_case4_egfr.append(intv_data8_case4_egfr)\n",
        "intv_data_list_case4_egfr.append(intv_data9_case4_egfr)\n",
        "intv_data_list_case4_egfr.append(intv_data10_case4_egfr)"
      ],
      "execution_count": null,
      "outputs": []
    },
    {
      "cell_type": "markdown",
      "metadata": {
        "id": "5e6qVtStWJ6i"
      },
      "source": [
        "## absolute average error (AAE)"
      ]
    },
    {
      "cell_type": "code",
      "metadata": {
        "id": "S1p20IvdWPCn"
      },
      "source": [
        "#means_ipw_case4_sil6r = [0]*10\n",
        "#means_list_ipw_case4_sil6r = {}\n",
        "means_gformula_case4_sil6r = [0]*10\n",
        "means_list_gformula_case4_sil6r = {}\n",
        "means_aipw_case4_sil6r = [0]*10\n",
        "means_list_aipw_case4_sil6r = {}\n",
        "for num_data_points in [60,100,140,200]:\n",
        "  for i in range(0,10):\n",
        "  #True causal effect is:\n",
        "    True_case4 = abs(intv_data_list_case4_sil6r[i]['cytok'].mean() - obs_data_list_case4[i]['cytok'].mean())\n",
        "    data = obs_data_list_case4[i].iloc[0:num_data_points,]\n",
        "    #ace_ipw_case4_sil6r = ate_obj_case4_sil6r.compute_effect(data, \"ipw\")\n",
        "    #means_ipw_case4_sil6r[i] = abs(True_case4 - ace_ipw_case4_sil6r)\n",
        "    ace_gformula_case4_sil6r = ate_obj_case4_sil6r.compute_effect(data, \"gformula\")\n",
        "    means_gformula_case4_sil6r[i] = abs(True_case4 - ace_gformula_case4_sil6r)\n",
        "    ace_aipw_case4_sil6r = ate_obj_case4_sil6r.compute_effect(data, \"aipw\")\n",
        "    means_aipw_case4_sil6r[i] = abs(True_case4 - ace_aipw_case4_sil6r)\n",
        "  means_list_gformula_case4_sil6r[num_data_points] = (means_gformula_case4_sil6r)\n",
        "  means_gformula_case4_sil6r = [0]*10\n",
        "  means_list_aipw_case4_sil6r[num_data_points] = (means_aipw_case4_sil6r)\n",
        "  means_aipw_case4_sil6r = [0]*10\n",
        "  #means_list_ipw_case4_sil6r[num_data_points] = means_ipw_case4_sil6r\n",
        "  #means_ipw_case4_sil6r = [0]*10"
      ],
      "execution_count": null,
      "outputs": []
    },
    {
      "cell_type": "code",
      "metadata": {
        "id": "UPA1e5BcUL_F"
      },
      "source": [
        "#means_ipw_case4_egfr = [0]*10\n",
        "#means_list_ipw_case4_egfr = {}\n",
        "means_gformula_case4_egfr = [0]*10\n",
        "means_list_gformula_case4_egfr = {}\n",
        "means_aipw_case4_egfr = [0]*10\n",
        "means_list_aipw_case4_egfr = {}\n",
        "for num_data_points in [60,100,140,200]:\n",
        "  for i in range(0,10):\n",
        "  #True causal effect is:\n",
        "    True_case4 = abs(intv_data_list_case4_egfr[i]['cytok'].mean() - obs_data_list_case4[i]['cytok'].mean())\n",
        "    data = obs_data_list_case4[i].iloc[0:num_data_points,]\n",
        "    #ace_ipw_case4_egfr = ate_obj_case4_egfr.compute_effect(data, \"ipw\")\n",
        "    #means_ipw_case4_egfr[i] = abs(True_case4 - ace_ipw_case4_egfr)\n",
        "    ace_gformula_case4_egfr = ate_obj_case4_egfr.compute_effect(data, \"gformula\")\n",
        "    means_gformula_case4_egfr[i] = abs(True_case4 - ace_gformula_case4_egfr)\n",
        "    ace_aipw_case4_egfr = ate_obj_case4_egfr.compute_effect(data, \"aipw\")\n",
        "    means_aipw_case4_egfr[i] = abs(True_case4 - ace_aipw_case4_egfr)\n",
        "  means_list_gformula_case4_egfr[num_data_points] = (means_gformula_case4_egfr)\n",
        "  means_gformula_case4_egfr = [0]*10\n",
        "  means_list_aipw_case4_egfr[num_data_points] = (means_aipw_case4_egfr)\n",
        "  means_aipw_case4_egfr = [0]*10\n",
        "  #means_list_ipw_case4_egfr[num_data_points] = means_ipw_case4_egfr\n",
        "  #means_ipw_case4_egfr = [0]*10"
      ],
      "execution_count": null,
      "outputs": []
    },
    {
      "cell_type": "code",
      "metadata": {
        "id": "bYGh6HK8Xa9j"
      },
      "source": [
        "#means_list_ipw_case4"
      ],
      "execution_count": null,
      "outputs": []
    },
    {
      "cell_type": "code",
      "metadata": {
        "id": "6pDrjyeoaLo1"
      },
      "source": [
        "means_list_gformula_case4_egfr"
      ],
      "execution_count": null,
      "outputs": []
    },
    {
      "cell_type": "code",
      "metadata": {
        "id": "kXJDIBlGapyI"
      },
      "source": [
        "means_list_aipw_case4_egfr"
      ],
      "execution_count": null,
      "outputs": []
    },
    {
      "cell_type": "code",
      "metadata": {
        "id": "NHi7ZJ7WjFDa"
      },
      "source": [
        "df_gformula_case4_sil6r = pd.DataFrame(data = means_list_gformula_case4_sil6r )\n",
        "df_aipw_case4_sil6r = pd.DataFrame(data = means_list_aipw_case4_sil6r )"
      ],
      "execution_count": null,
      "outputs": []
    },
    {
      "cell_type": "code",
      "metadata": {
        "id": "-pANb5fwjIki"
      },
      "source": [
        "df_gformula_case4_sil6r.to_csv('df_gformula_case4_sil6r.csv')\n",
        "df_aipw_case4_sil6r.to_csv('df_aipw_case4_sil6r.csv')"
      ],
      "execution_count": null,
      "outputs": []
    },
    {
      "cell_type": "code",
      "metadata": {
        "id": "O84wbSxKVnRf"
      },
      "source": [
        "df_gformula_case4_egfr = pd.DataFrame(data = means_list_gformula_case4_egfr )\n",
        "df_aipw_case4_egfr = pd.DataFrame(data = means_list_aipw_case4_egfr )"
      ],
      "execution_count": null,
      "outputs": []
    },
    {
      "cell_type": "code",
      "metadata": {
        "id": "TVvWmJylVpEG"
      },
      "source": [
        "df_gformula_case4_egfr.to_csv('df_gformula_case4_egfr.csv')\n",
        "df_aipw_case4_egfr.to_csv('df_aipw_case4_egfr.csv')"
      ],
      "execution_count": null,
      "outputs": []
    },
    {
      "cell_type": "markdown",
      "metadata": {
        "id": "9GJNqXXs4pW2"
      },
      "source": [
        "# Case study 2: Napkin"
      ]
    },
    {
      "cell_type": "code",
      "metadata": {
        "colab": {
          "base_uri": "https://localhost:8080/",
          "height": 161
        },
        "id": "_6wZnefk4xFD",
        "outputId": "4bf56eb6-02c9-4d09-f779-596091e973cf"
      },
      "source": [
        "vertices_case2 = ['W', 'R','X','Y']\n",
        "di_edges_case2 = [('W','R'), ('R','X'),('X','Y')]\n",
        "bi_edges_case2 = [('W','X'), ('W','Y')]\n",
        "Case2 = ADMG(vertices_case2, di_edges_case2, bi_edges_case2)\n",
        "Case2.draw(direction='LR')"
      ],
      "execution_count": null,
      "outputs": [
        {
          "output_type": "execute_result",
          "data": {
            "text/plain": [
              "<graphviz.dot.Digraph at 0x7f4549c65e90>"
            ],
            "image/svg+xml": "<?xml version=\"1.0\" encoding=\"UTF-8\" standalone=\"no\"?>\n<!DOCTYPE svg PUBLIC \"-//W3C//DTD SVG 1.1//EN\"\n \"http://www.w3.org/Graphics/SVG/1.1/DTD/svg11.dtd\">\n<!-- Generated by graphviz version 2.40.1 (20161225.0304)\n -->\n<!-- Title: %3 Pages: 1 -->\n<svg width=\"260pt\" height=\"105pt\"\n viewBox=\"0.00 0.00 260.00 105.00\" xmlns=\"http://www.w3.org/2000/svg\" xmlns:xlink=\"http://www.w3.org/1999/xlink\">\n<g id=\"graph0\" class=\"graph\" transform=\"scale(1 1) rotate(0) translate(4 101)\">\n<title>%3</title>\n<polygon fill=\"#ffffff\" stroke=\"transparent\" points=\"-4,4 -4,-101 256,-101 256,4 -4,4\"/>\n<!-- W -->\n<g id=\"node1\" class=\"node\">\n<title>W</title>\n<text text-anchor=\"middle\" x=\"18\" y=\"-29.3\" font-family=\"Times,serif\" font-size=\"14.00\" fill=\"#000000\">W</text>\n</g>\n<!-- R -->\n<g id=\"node2\" class=\"node\">\n<title>R</title>\n<text text-anchor=\"middle\" x=\"90\" y=\"-75.3\" font-family=\"Times,serif\" font-size=\"14.00\" fill=\"#000000\">R</text>\n</g>\n<!-- W&#45;&gt;R -->\n<g id=\"edge2\" class=\"edge\">\n<title>W&#45;&gt;R</title>\n<path fill=\"none\" stroke=\"#0000ff\" d=\"M36.1686,-44.6077C44.2921,-49.7978 54.0363,-56.0232 62.9882,-61.7425\"/>\n<polygon fill=\"#0000ff\" stroke=\"#0000ff\" points=\"61.2754,-64.8015 71.5867,-67.236 65.0441,-58.9026 61.2754,-64.8015\"/>\n</g>\n<!-- X -->\n<g id=\"node3\" class=\"node\">\n<title>X</title>\n<text text-anchor=\"middle\" x=\"162\" y=\"-37.3\" font-family=\"Times,serif\" font-size=\"14.00\" fill=\"#000000\">X</text>\n</g>\n<!-- W&#45;&gt;X -->\n<g id=\"edge5\" class=\"edge\">\n<title>W&#45;&gt;X</title>\n<path fill=\"none\" stroke=\"#ff0000\" d=\"M46.5287,-34.5849C71.8633,-35.9924 108.6754,-38.0375 133.8843,-39.438\"/>\n<polygon fill=\"#ff0000\" stroke=\"#ff0000\" points=\"46.4165,-31.0734 36.2377,-34.0132 46.0281,-38.0626 46.4165,-31.0734\"/>\n<polygon fill=\"#ff0000\" stroke=\"#ff0000\" points=\"133.7316,-42.9348 143.9104,-39.995 134.12,-35.9456 133.7316,-42.9348\"/>\n</g>\n<!-- Y -->\n<g id=\"node4\" class=\"node\">\n<title>Y</title>\n<text text-anchor=\"middle\" x=\"234\" y=\"-14.3\" font-family=\"Times,serif\" font-size=\"14.00\" fill=\"#000000\">Y</text>\n</g>\n<!-- W&#45;&gt;Y -->\n<g id=\"edge4\" class=\"edge\">\n<title>W&#45;&gt;Y</title>\n<path fill=\"none\" stroke=\"#ff0000\" d=\"M46.3238,-27.4881C71.7708,-22.8332 110.22,-16.5326 144,-14 159.9552,-12.8038 164.0109,-13.4086 180,-14 188.2303,-14.3044 197.1517,-14.8689 205.3273,-15.4799\"/>\n<polygon fill=\"#ff0000\" stroke=\"#ff0000\" points=\"45.453,-24.0902 36.2655,-29.3666 46.7381,-30.9712 45.453,-24.0902\"/>\n<polygon fill=\"#ff0000\" stroke=\"#ff0000\" points=\"205.2781,-18.987 215.5244,-16.2918 205.8338,-12.009 205.2781,-18.987\"/>\n</g>\n<!-- R&#45;&gt;X -->\n<g id=\"edge1\" class=\"edge\">\n<title>R&#45;&gt;X</title>\n<path fill=\"none\" stroke=\"#0000ff\" d=\"M108.1686,-69.411C116.2075,-65.1683 125.8334,-60.0879 134.7082,-55.404\"/>\n<polygon fill=\"#0000ff\" stroke=\"#0000ff\" points=\"136.3765,-58.4811 143.5867,-50.7181 133.1092,-52.2904 136.3765,-58.4811\"/>\n</g>\n<!-- X&#45;&gt;Y -->\n<g id=\"edge3\" class=\"edge\">\n<title>X&#45;&gt;Y</title>\n<path fill=\"none\" stroke=\"#0000ff\" d=\"M180.1686,-35.1961C187.9537,-32.7092 197.2271,-29.7469 205.8653,-26.9875\"/>\n<polygon fill=\"#0000ff\" stroke=\"#0000ff\" points=\"207.126,-30.2591 215.5867,-23.882 204.9959,-23.591 207.126,-30.2591\"/>\n</g>\n</g>\n</svg>\n"
          },
          "metadata": {
            "tags": []
          },
          "execution_count": 4
        }
      ]
    },
    {
      "cell_type": "code",
      "metadata": {
        "colab": {
          "base_uri": "https://localhost:8080/"
        },
        "id": "mgCVq79E550g",
        "outputId": "afff971c-a9bb-4ddc-cc56-9af9d2617442"
      },
      "source": [
        "one_id = OneLineID(graph=Case2, treatments=['X'], outcomes=['Y'])\n",
        "one_id.id()"
      ],
      "execution_count": null,
      "outputs": [
        {
          "output_type": "execute_result",
          "data": {
            "text/plain": [
              "True"
            ]
          },
          "metadata": {
            "tags": []
          },
          "execution_count": 5
        }
      ]
    },
    {
      "cell_type": "code",
      "metadata": {
        "id": "04zhsKGS6A_b",
        "colab": {
          "base_uri": "https://localhost:8080/"
        },
        "outputId": "3217afd1-2d01-45fe-d5c5-ec743e75a8a9"
      },
      "source": [
        "ate_obj_case2 = CausalEffect(graph=Case2, treatment='X', outcome='Y')  # setting up the CausalEffect object\n",
        "ate_obj_case2"
      ],
      "execution_count": null,
      "outputs": [
        {
          "output_type": "stream",
          "text": [
            "\n",
            " Effect is identified. \n",
            " \n",
            " Available estimators:\n",
            " \n",
            "1. Nested IPW (n-ipw)\n",
            "2. Augmented NIPW (anipw) \n",
            "\n",
            "Suggested estimator is Augmented NIPW \n",
            "\n"
          ],
          "name": "stdout"
        },
        {
          "output_type": "execute_result",
          "data": {
            "text/plain": [
              "<ananke.estimation.counterfactual_mean.CausalEffect at 0x7f4549c65410>"
            ]
          },
          "metadata": {
            "tags": []
          },
          "execution_count": 6
        }
      ]
    },
    {
      "cell_type": "code",
      "metadata": {
        "id": "GHuxh23mPspb"
      },
      "source": [
        "obs_data1_case2 = pd.read_csv('obs_data1_Case2.csv', sep=',')\n",
        "obs_data2_case2 = pd.read_csv('obs_data2_Case2.csv', sep=',')\n",
        "obs_data3_case2 = pd.read_csv('obs_data3_Case2.csv', sep=',')\n",
        "obs_data4_case2 = pd.read_csv('obs_data4_Case2.csv', sep=',')\n",
        "obs_data5_case2 = pd.read_csv('obs_data5_Case2.csv', sep=',')\n",
        "obs_data6_case2 = pd.read_csv('obs_data6_Case2.csv', sep=',')\n",
        "obs_data7_case2 = pd.read_csv('obs_data7_Case2.csv', sep=',')\n",
        "obs_data8_case2 = pd.read_csv('obs_data8_Case2.csv', sep=',')\n",
        "obs_data9_case2 = pd.read_csv('obs_data9_Case2.csv', sep=',')\n",
        "obs_data10_case2 = pd.read_csv('obs_data10_Case2.csv', sep=',')"
      ],
      "execution_count": null,
      "outputs": []
    },
    {
      "cell_type": "code",
      "metadata": {
        "id": "kRMTqPnlPwPV"
      },
      "source": [
        "obs_data_list_case2 = []\n",
        "obs_data_list_case2.append(obs_data1_case2)\n",
        "obs_data_list_case2.append(obs_data2_case2)\n",
        "obs_data_list_case2.append(obs_data3_case2)\n",
        "obs_data_list_case2.append(obs_data4_case2)\n",
        "obs_data_list_case2.append(obs_data5_case2)\n",
        "obs_data_list_case2.append(obs_data6_case2)\n",
        "obs_data_list_case2.append(obs_data7_case2)\n",
        "obs_data_list_case2.append(obs_data8_case2)\n",
        "obs_data_list_case2.append(obs_data9_case2)\n",
        "obs_data_list_case2.append(obs_data10_case2)"
      ],
      "execution_count": null,
      "outputs": []
    },
    {
      "cell_type": "code",
      "metadata": {
        "id": "4oc_hO_6PzGu"
      },
      "source": [
        "intv_data1_case2 = pd.read_csv('intv_data1_Case2.csv', sep=',')\n",
        "intv_data2_case2 = pd.read_csv('intv_data2_Case2.csv', sep=',')\n",
        "intv_data3_case2 = pd.read_csv('intv_data3_Case2.csv', sep=',')\n",
        "intv_data4_case2 = pd.read_csv('intv_data4_Case2.csv', sep=',')\n",
        "intv_data5_case2 = pd.read_csv('intv_data5_Case2.csv', sep=',')\n",
        "intv_data6_case2 = pd.read_csv('intv_data6_Case2.csv', sep=',')\n",
        "intv_data7_case2 = pd.read_csv('intv_data7_Case2.csv', sep=',')\n",
        "intv_data8_case2 = pd.read_csv('intv_data8_Case2.csv', sep=',')\n",
        "intv_data9_case2 = pd.read_csv('intv_data9_Case2.csv', sep=',')\n",
        "intv_data10_case2 = pd.read_csv('intv_data10_Case2.csv', sep=',')"
      ],
      "execution_count": null,
      "outputs": []
    },
    {
      "cell_type": "code",
      "metadata": {
        "id": "wVpMPTCEP2O7"
      },
      "source": [
        "intv_data_list_case2 = []\n",
        "intv_data_list_case2.append(intv_data1_case2)\n",
        "intv_data_list_case2.append(intv_data2_case2)\n",
        "intv_data_list_case2.append(intv_data3_case2)\n",
        "intv_data_list_case2.append(intv_data4_case2)\n",
        "intv_data_list_case2.append(intv_data5_case2)\n",
        "intv_data_list_case2.append(intv_data6_case2)\n",
        "intv_data_list_case2.append(intv_data7_case2)\n",
        "intv_data_list_case2.append(intv_data8_case2)\n",
        "intv_data_list_case2.append(intv_data9_case2)\n",
        "intv_data_list_case2.append(intv_data10_case2)"
      ],
      "execution_count": null,
      "outputs": []
    },
    {
      "cell_type": "code",
      "metadata": {
        "colab": {
          "base_uri": "https://localhost:8080/"
        },
        "id": "uss4q61LMS8T",
        "outputId": "f7d95d61-6fd5-47e4-8240-798a0f0ca1b2"
      },
      "source": [
        "data = data = obs_data_list_case2[4].iloc[0:30,]\n",
        "print(data)"
      ],
      "execution_count": null,
      "outputs": [
        {
          "output_type": "stream",
          "text": [
            "    Unnamed: 0              W         R  X          Y  ones\n",
            "0            1   1.378296e-79 -0.329352  1  -6.639964   1.0\n",
            "1            2   1.683951e-18  1.932747  1   7.297373   1.0\n",
            "2            3   8.534126e-47 -8.271979  1  -5.112750   1.0\n",
            "3            4   1.724157e-77  8.229581  1  -2.742970   1.0\n",
            "4            5   4.981454e-57 -2.543630  1  -4.916055   1.0\n",
            "5            6   4.825856e-07 -7.842437  1   5.537752   1.0\n",
            "6            7   7.696480e-11 -4.985234  1  -4.483434   1.0\n",
            "7            8  2.827432e-165 -6.242335  1  11.824799   1.0\n",
            "8            9   4.086296e-13  5.118093  1  -0.978759   1.0\n",
            "9           10   1.341471e-03  6.735124  1  -1.105171   1.0\n",
            "10          11   4.080617e-48 -3.280702  1   2.043104   1.0\n",
            "11          12   4.869063e-19 -3.297838  1  -4.962977   1.0\n",
            "12          13   1.412291e-49 -3.629094  1   4.246841   1.0\n",
            "13          14   2.882419e-19 -5.766795  1   1.881130   1.0\n",
            "14          15   2.905577e-04 -1.238072  1   4.589925   1.0\n",
            "15          16   9.093690e-52 -1.570001  1   2.991050   1.0\n",
            "16          17   6.251671e-46 -9.440077  0   6.304977   1.0\n",
            "17          18   1.578104e-39 -4.843751  1  -1.279366   1.0\n",
            "18          19   9.985059e-06  6.779862  1  -8.158739   1.0\n",
            "19          20  1.247867e-151 -7.191068  1   2.684659   1.0\n",
            "20          21  1.298890e-146 -5.436326  1  10.993695   1.0\n",
            "21          22   1.479746e-21 -6.568158  1   9.528469   1.0\n",
            "22          23   9.386667e-50  0.842484  1  10.686503   1.0\n",
            "23          24   7.749600e-60  2.480608  1   6.255276   1.0\n",
            "24          25   2.040932e-01  7.741885  1   2.119868   1.0\n",
            "25          26   3.300669e-46 -3.492396  1  -2.941572   1.0\n",
            "26          27   6.129848e-07 -7.921804  1   3.886822   1.0\n",
            "27          28   3.989653e-07 -1.339269  1  -5.609020   1.0\n",
            "28          29   4.258215e-20 -3.736547  1   1.275993   1.0\n",
            "29          30   1.329630e-21 -1.008993  1   0.233970   1.0\n"
          ],
          "name": "stdout"
        }
      ]
    },
    {
      "cell_type": "code",
      "metadata": {
        "colab": {
          "base_uri": "https://localhost:8080/"
        },
        "id": "a95J2iVXKDb0",
        "outputId": "41e9f9e8-1e4f-47e7-a280-94f0ca2824f4"
      },
      "source": [
        "data = data = obs_data_list_case2[3].iloc[0:50,]\n",
        "ace_n_ipw_case2 = ate_obj_case2.compute_effect(data, \"n-ipw\")\n",
        "ace_anipw_case2 = ate_obj_case2.compute_effect(data, \"anipw\")\n",
        "ace_n_ipw_case2"
      ],
      "execution_count": null,
      "outputs": [
        {
          "output_type": "stream",
          "text": [
            "/usr/local/lib/python3.7/dist-packages/ananke/estimation/counterfactual_mean.py:966: SettingWithCopyWarning: \n",
            "A value is trying to be set on a copy of a slice from a DataFrame.\n",
            "Try using .loc[row_indexer,col_indexer] = value instead\n",
            "\n",
            "See the caveats in the documentation: https://pandas.pydata.org/pandas-docs/stable/user_guide/indexing.html#returning-a-view-versus-a-copy\n",
            "  data['ones'] = np.ones(len(data))\n",
            "/usr/local/lib/python3.7/dist-packages/statsmodels/genmod/families/family.py:890: RuntimeWarning: invalid value encountered in true_divide\n",
            "  n_endog_mu = self._clean((1. - endog) / (1. - mu))\n",
            "/usr/local/lib/python3.7/dist-packages/statsmodels/genmod/families/family.py:890: RuntimeWarning: invalid value encountered in true_divide\n",
            "  n_endog_mu = self._clean((1. - endog) / (1. - mu))\n",
            "/usr/local/lib/python3.7/dist-packages/ananke/estimation/counterfactual_mean.py:966: SettingWithCopyWarning: \n",
            "A value is trying to be set on a copy of a slice from a DataFrame.\n",
            "Try using .loc[row_indexer,col_indexer] = value instead\n",
            "\n",
            "See the caveats in the documentation: https://pandas.pydata.org/pandas-docs/stable/user_guide/indexing.html#returning-a-view-versus-a-copy\n",
            "  data['ones'] = np.ones(len(data))\n",
            "/usr/local/lib/python3.7/dist-packages/statsmodels/genmod/families/family.py:890: RuntimeWarning: invalid value encountered in true_divide\n",
            "  n_endog_mu = self._clean((1. - endog) / (1. - mu))\n",
            "/usr/local/lib/python3.7/dist-packages/statsmodels/genmod/families/family.py:890: RuntimeWarning: invalid value encountered in true_divide\n",
            "  n_endog_mu = self._clean((1. - endog) / (1. - mu))\n"
          ],
          "name": "stderr"
        },
        {
          "output_type": "execute_result",
          "data": {
            "text/plain": [
              "0.3306637394024864"
            ]
          },
          "metadata": {
            "tags": []
          },
          "execution_count": 71
        }
      ]
    },
    {
      "cell_type": "code",
      "metadata": {
        "colab": {
          "base_uri": "https://localhost:8080/",
          "height": 868
        },
        "id": "3TmJdDVEK9X5",
        "outputId": "0c10057e-b45b-413e-cdc1-bfdacb83774d"
      },
      "source": [
        "#means_n_ipw_case2 = [0]*10\n",
        "#means_list_n_ipw_case2 = {}\n",
        "means_anipw_case2 = [0]*10\n",
        "means_list_anipw_case2 = {}\n",
        "\n",
        "for num_data_points in [40]:\n",
        "  for i in range(0,10):\n",
        "  #True causal effect is:\n",
        "    True_case2 = abs(intv_data_list_case2[i]['Y'].mean() - obs_data_list_case2[i]['Y'].mean())\n",
        "    data = obs_data_list_case2[i].iloc[0:num_data_points,]\n",
        "    #ace_n_ipw_case2 = ate_obj_case2.compute_effect(data, \"n-ipw\")\n",
        "    #means_n_ipw_case2[i] = abs(True_case2 - ace_n_ipw_case2)\n",
        "    ace_anipw_case2 = ate_obj_case2.compute_effect(data, \"anipw\")\n",
        "    means_anipw_case2[i] = abs(True_case2 - ace_anipw_case2)\n",
        "  means_list_anipw_case2[num_data_points] = (means_anipw_case2)\n",
        "  means_anipw_case2 = [0]*10\n",
        "  #means_list_n_ipw_case2[num_data_points] = means_n_ipw_case2\n",
        "  #means_n_ipw_case2 = [0]*10"
      ],
      "execution_count": null,
      "outputs": [
        {
          "output_type": "stream",
          "text": [
            "/usr/local/lib/python3.7/dist-packages/ananke/estimation/counterfactual_mean.py:966: SettingWithCopyWarning: \n",
            "A value is trying to be set on a copy of a slice from a DataFrame.\n",
            "Try using .loc[row_indexer,col_indexer] = value instead\n",
            "\n",
            "See the caveats in the documentation: https://pandas.pydata.org/pandas-docs/stable/user_guide/indexing.html#returning-a-view-versus-a-copy\n",
            "  data['ones'] = np.ones(len(data))\n",
            "/usr/local/lib/python3.7/dist-packages/ananke/estimation/counterfactual_mean.py:966: SettingWithCopyWarning: \n",
            "A value is trying to be set on a copy of a slice from a DataFrame.\n",
            "Try using .loc[row_indexer,col_indexer] = value instead\n",
            "\n",
            "See the caveats in the documentation: https://pandas.pydata.org/pandas-docs/stable/user_guide/indexing.html#returning-a-view-versus-a-copy\n",
            "  data['ones'] = np.ones(len(data))\n",
            "/usr/local/lib/python3.7/dist-packages/statsmodels/genmod/families/family.py:890: RuntimeWarning: invalid value encountered in true_divide\n",
            "  n_endog_mu = self._clean((1. - endog) / (1. - mu))\n",
            "/usr/local/lib/python3.7/dist-packages/statsmodels/genmod/families/family.py:890: RuntimeWarning: invalid value encountered in true_divide\n",
            "  n_endog_mu = self._clean((1. - endog) / (1. - mu))\n",
            "/usr/local/lib/python3.7/dist-packages/ananke/estimation/counterfactual_mean.py:966: SettingWithCopyWarning: \n",
            "A value is trying to be set on a copy of a slice from a DataFrame.\n",
            "Try using .loc[row_indexer,col_indexer] = value instead\n",
            "\n",
            "See the caveats in the documentation: https://pandas.pydata.org/pandas-docs/stable/user_guide/indexing.html#returning-a-view-versus-a-copy\n",
            "  data['ones'] = np.ones(len(data))\n",
            "/usr/local/lib/python3.7/dist-packages/ananke/estimation/counterfactual_mean.py:966: SettingWithCopyWarning: \n",
            "A value is trying to be set on a copy of a slice from a DataFrame.\n",
            "Try using .loc[row_indexer,col_indexer] = value instead\n",
            "\n",
            "See the caveats in the documentation: https://pandas.pydata.org/pandas-docs/stable/user_guide/indexing.html#returning-a-view-versus-a-copy\n",
            "  data['ones'] = np.ones(len(data))\n"
          ],
          "name": "stderr"
        },
        {
          "output_type": "error",
          "ename": "PerfectSeparationError",
          "evalue": "ignored",
          "traceback": [
            "\u001b[0;31m---------------------------------------------------------------------------\u001b[0m",
            "\u001b[0;31mPerfectSeparationError\u001b[0m                    Traceback (most recent call last)",
            "\u001b[0;32m<ipython-input-33-a5944a7c1367>\u001b[0m in \u001b[0;36m<module>\u001b[0;34m()\u001b[0m\n\u001b[1;32m     11\u001b[0m     \u001b[0;31m#ace_n_ipw_case2 = ate_obj_case2.compute_effect(data, \"n-ipw\")\u001b[0m\u001b[0;34m\u001b[0m\u001b[0;34m\u001b[0m\u001b[0;34m\u001b[0m\u001b[0m\n\u001b[1;32m     12\u001b[0m     \u001b[0;31m#means_n_ipw_case2[i] = abs(True_case2 - ace_n_ipw_case2)\u001b[0m\u001b[0;34m\u001b[0m\u001b[0;34m\u001b[0m\u001b[0;34m\u001b[0m\u001b[0m\n\u001b[0;32m---> 13\u001b[0;31m     \u001b[0mace_anipw_case2\u001b[0m \u001b[0;34m=\u001b[0m \u001b[0mate_obj_case2\u001b[0m\u001b[0;34m.\u001b[0m\u001b[0mcompute_effect\u001b[0m\u001b[0;34m(\u001b[0m\u001b[0mdata\u001b[0m\u001b[0;34m,\u001b[0m \u001b[0;34m\"anipw\"\u001b[0m\u001b[0;34m)\u001b[0m\u001b[0;34m\u001b[0m\u001b[0;34m\u001b[0m\u001b[0m\n\u001b[0m\u001b[1;32m     14\u001b[0m     \u001b[0mmeans_anipw_case2\u001b[0m\u001b[0;34m[\u001b[0m\u001b[0mi\u001b[0m\u001b[0;34m]\u001b[0m \u001b[0;34m=\u001b[0m \u001b[0mabs\u001b[0m\u001b[0;34m(\u001b[0m\u001b[0mTrue_case2\u001b[0m \u001b[0;34m-\u001b[0m \u001b[0mace_anipw_case2\u001b[0m\u001b[0;34m)\u001b[0m\u001b[0;34m\u001b[0m\u001b[0;34m\u001b[0m\u001b[0m\n\u001b[1;32m     15\u001b[0m   \u001b[0mmeans_list_anipw_case2\u001b[0m\u001b[0;34m[\u001b[0m\u001b[0mnum_data_points\u001b[0m\u001b[0;34m]\u001b[0m \u001b[0;34m=\u001b[0m \u001b[0;34m(\u001b[0m\u001b[0mmeans_anipw_case2\u001b[0m\u001b[0;34m)\u001b[0m\u001b[0;34m\u001b[0m\u001b[0;34m\u001b[0m\u001b[0m\n",
            "\u001b[0;32m/usr/local/lib/python3.7/dist-packages/ananke/estimation/counterfactual_mean.py\u001b[0m in \u001b[0;36mcompute_effect\u001b[0;34m(self, data, estimator, model_binary, model_continuous, n_bootstraps, alpha)\u001b[0m\n\u001b[1;32m    975\u001b[0m         \u001b[0;31m# instantiate estimator and get point estimate of ACE\u001b[0m\u001b[0;34m\u001b[0m\u001b[0;34m\u001b[0m\u001b[0;34m\u001b[0m\u001b[0m\n\u001b[1;32m    976\u001b[0m         \u001b[0mmethod\u001b[0m \u001b[0;34m=\u001b[0m \u001b[0mself\u001b[0m\u001b[0;34m.\u001b[0m\u001b[0mestimators\u001b[0m\u001b[0;34m[\u001b[0m\u001b[0mestimator\u001b[0m\u001b[0;34m]\u001b[0m\u001b[0;34m\u001b[0m\u001b[0;34m\u001b[0m\u001b[0m\n\u001b[0;32m--> 977\u001b[0;31m         \u001b[0mpoint_estimate_T1\u001b[0m \u001b[0;34m=\u001b[0m \u001b[0mmethod\u001b[0m\u001b[0;34m(\u001b[0m\u001b[0mdata\u001b[0m\u001b[0;34m,\u001b[0m \u001b[0;36m1\u001b[0m\u001b[0;34m,\u001b[0m \u001b[0mmodel_binary\u001b[0m\u001b[0;34m,\u001b[0m \u001b[0mmodel_continuous\u001b[0m\u001b[0;34m)\u001b[0m\u001b[0;34m\u001b[0m\u001b[0;34m\u001b[0m\u001b[0m\n\u001b[0m\u001b[1;32m    978\u001b[0m         \u001b[0mpoint_estimate_T0\u001b[0m \u001b[0;34m=\u001b[0m \u001b[0mmethod\u001b[0m\u001b[0;34m(\u001b[0m\u001b[0mdata\u001b[0m\u001b[0;34m,\u001b[0m \u001b[0;36m0\u001b[0m\u001b[0;34m,\u001b[0m \u001b[0mmodel_binary\u001b[0m\u001b[0;34m,\u001b[0m \u001b[0mmodel_continuous\u001b[0m\u001b[0;34m)\u001b[0m\u001b[0;34m\u001b[0m\u001b[0;34m\u001b[0m\u001b[0m\n\u001b[1;32m    979\u001b[0m \u001b[0;34m\u001b[0m\u001b[0m\n",
            "\u001b[0;32m/usr/local/lib/python3.7/dist-packages/ananke/estimation/counterfactual_mean.py\u001b[0m in \u001b[0;36m_augmented_nested_ipw\u001b[0;34m(self, data, assignment, model_binary, model_continuous)\u001b[0m\n\u001b[1;32m    910\u001b[0m \u001b[0;34m\u001b[0m\u001b[0m\n\u001b[1;32m    911\u001b[0m         \u001b[0;31m# get the rebalancing weights\u001b[0m\u001b[0;34m\u001b[0m\u001b[0;34m\u001b[0m\u001b[0;34m\u001b[0m\u001b[0m\n\u001b[0;32m--> 912\u001b[0;31m         \u001b[0mrebalance_weights\u001b[0m \u001b[0;34m=\u001b[0m \u001b[0mself\u001b[0m\u001b[0;34m.\u001b[0m\u001b[0m_get_nested_rebalanced_weights\u001b[0m\u001b[0;34m(\u001b[0m\u001b[0mdata\u001b[0m\u001b[0;34m,\u001b[0m \u001b[0mmodel_binary\u001b[0m\u001b[0;34m,\u001b[0m \u001b[0mmodel_continuous\u001b[0m\u001b[0;34m)\u001b[0m\u001b[0;34m\u001b[0m\u001b[0;34m\u001b[0m\u001b[0m\n\u001b[0m\u001b[1;32m    913\u001b[0m \u001b[0;34m\u001b[0m\u001b[0m\n\u001b[1;32m    914\u001b[0m         \u001b[0;31m# extract the outcome and get Markov pillow of the treatment\u001b[0m\u001b[0;34m\u001b[0m\u001b[0;34m\u001b[0m\u001b[0;34m\u001b[0m\u001b[0m\n",
            "\u001b[0;32m/usr/local/lib/python3.7/dist-packages/ananke/estimation/counterfactual_mean.py\u001b[0m in \u001b[0;36m_get_nested_rebalanced_weights\u001b[0;34m(self, data, model_binary, model_continuous)\u001b[0m\n\u001b[1;32m    855\u001b[0m \u001b[0;34m\u001b[0m\u001b[0m\n\u001b[1;32m    856\u001b[0m             \u001b[0;31m# now compute the q_D(D | pa(D))\u001b[0m\u001b[0;34m\u001b[0m\u001b[0;34m\u001b[0m\u001b[0;34m\u001b[0m\u001b[0m\n\u001b[0;32m--> 857\u001b[0;31m             \u001b[0mrebalance_prob\u001b[0m \u001b[0;34m*=\u001b[0m \u001b[0mself\u001b[0m\u001b[0;34m.\u001b[0m\u001b[0m_fit_intrinsic_kernel\u001b[0m\u001b[0;34m(\u001b[0m\u001b[0mdata\u001b[0m\u001b[0;34m,\u001b[0m \u001b[0mdistrict\u001b[0m\u001b[0;34m,\u001b[0m \u001b[0mmodel_binary\u001b[0m\u001b[0;34m,\u001b[0m \u001b[0mmodel_continuous\u001b[0m\u001b[0;34m)\u001b[0m\u001b[0;34m\u001b[0m\u001b[0;34m\u001b[0m\u001b[0m\n\u001b[0m\u001b[1;32m    858\u001b[0m \u001b[0;34m\u001b[0m\u001b[0m\n\u001b[1;32m    859\u001b[0m         \u001b[0;32mreturn\u001b[0m \u001b[0;36m1\u001b[0m\u001b[0;34m/\u001b[0m\u001b[0mrebalance_prob\u001b[0m\u001b[0;34m\u001b[0m\u001b[0;34m\u001b[0m\u001b[0m\n",
            "\u001b[0;32m/usr/local/lib/python3.7/dist-packages/ananke/estimation/counterfactual_mean.py\u001b[0m in \u001b[0;36m_fit_intrinsic_kernel\u001b[0;34m(self, data, district, model_binary, model_continuous)\u001b[0m\n\u001b[1;32m    761\u001b[0m \u001b[0;34m\u001b[0m\u001b[0m\n\u001b[1;32m    762\u001b[0m             \u001b[0;32mif\u001b[0m \u001b[0mself\u001b[0m\u001b[0;34m.\u001b[0m\u001b[0mstate_space_map_\u001b[0m\u001b[0;34m[\u001b[0m\u001b[0mV\u001b[0m\u001b[0;34m]\u001b[0m \u001b[0;34m==\u001b[0m \u001b[0;34m\"binary\"\u001b[0m\u001b[0;34m:\u001b[0m\u001b[0;34m\u001b[0m\u001b[0;34m\u001b[0m\u001b[0m\n\u001b[0;32m--> 763\u001b[0;31m                 \u001b[0mmodel\u001b[0m \u001b[0;34m=\u001b[0m \u001b[0mmodel_binary\u001b[0m\u001b[0;34m(\u001b[0m\u001b[0mdata\u001b[0m\u001b[0;34m,\u001b[0m \u001b[0mformula\u001b[0m\u001b[0;34m,\u001b[0m \u001b[0;36m1\u001b[0m \u001b[0;34m/\u001b[0m \u001b[0mfixing_prob\u001b[0m\u001b[0;34m)\u001b[0m\u001b[0;34m\u001b[0m\u001b[0;34m\u001b[0m\u001b[0m\n\u001b[0m\u001b[1;32m    764\u001b[0m                 \u001b[0mprob_V\u001b[0m \u001b[0;34m=\u001b[0m \u001b[0mmodel\u001b[0m\u001b[0;34m.\u001b[0m\u001b[0mpredict\u001b[0m\u001b[0;34m(\u001b[0m\u001b[0mdata\u001b[0m\u001b[0;34m)\u001b[0m\u001b[0;34m\u001b[0m\u001b[0;34m\u001b[0m\u001b[0m\n\u001b[1;32m    765\u001b[0m                 \u001b[0mindices_V0\u001b[0m \u001b[0;34m=\u001b[0m \u001b[0mdata\u001b[0m\u001b[0;34m.\u001b[0m\u001b[0mindex\u001b[0m\u001b[0;34m[\u001b[0m\u001b[0mdata\u001b[0m\u001b[0;34m[\u001b[0m\u001b[0mV\u001b[0m\u001b[0;34m]\u001b[0m \u001b[0;34m==\u001b[0m \u001b[0;36m0\u001b[0m\u001b[0;34m]\u001b[0m\u001b[0;34m\u001b[0m\u001b[0;34m\u001b[0m\u001b[0m\n",
            "\u001b[0;32m/usr/local/lib/python3.7/dist-packages/ananke/estimation/counterfactual_mean.py\u001b[0m in \u001b[0;36m_fit_binary_glm\u001b[0;34m(self, data, formula, weights)\u001b[0m\n\u001b[1;32m    135\u001b[0m         \"\"\"\n\u001b[1;32m    136\u001b[0m \u001b[0;34m\u001b[0m\u001b[0m\n\u001b[0;32m--> 137\u001b[0;31m         \u001b[0;32mreturn\u001b[0m \u001b[0msm\u001b[0m\u001b[0;34m.\u001b[0m\u001b[0mGLM\u001b[0m\u001b[0;34m.\u001b[0m\u001b[0mfrom_formula\u001b[0m\u001b[0;34m(\u001b[0m\u001b[0mformula\u001b[0m\u001b[0;34m,\u001b[0m \u001b[0mdata\u001b[0m\u001b[0;34m=\u001b[0m\u001b[0mdata\u001b[0m\u001b[0;34m,\u001b[0m \u001b[0mfamily\u001b[0m\u001b[0;34m=\u001b[0m\u001b[0msm\u001b[0m\u001b[0;34m.\u001b[0m\u001b[0mfamilies\u001b[0m\u001b[0;34m.\u001b[0m\u001b[0mBinomial\u001b[0m\u001b[0;34m(\u001b[0m\u001b[0;34m)\u001b[0m\u001b[0;34m,\u001b[0m \u001b[0mfreq_weights\u001b[0m\u001b[0;34m=\u001b[0m\u001b[0mweights\u001b[0m\u001b[0;34m)\u001b[0m\u001b[0;34m.\u001b[0m\u001b[0mfit\u001b[0m\u001b[0;34m(\u001b[0m\u001b[0;34m)\u001b[0m\u001b[0;34m\u001b[0m\u001b[0;34m\u001b[0m\u001b[0m\n\u001b[0m\u001b[1;32m    138\u001b[0m \u001b[0;34m\u001b[0m\u001b[0m\n\u001b[1;32m    139\u001b[0m     \u001b[0;32mdef\u001b[0m \u001b[0m_fit_continuous_glm\u001b[0m\u001b[0;34m(\u001b[0m\u001b[0mself\u001b[0m\u001b[0;34m,\u001b[0m \u001b[0mdata\u001b[0m\u001b[0;34m,\u001b[0m \u001b[0mformula\u001b[0m\u001b[0;34m,\u001b[0m \u001b[0mweights\u001b[0m\u001b[0;34m=\u001b[0m\u001b[0;32mNone\u001b[0m\u001b[0;34m)\u001b[0m\u001b[0;34m:\u001b[0m\u001b[0;34m\u001b[0m\u001b[0;34m\u001b[0m\u001b[0m\n",
            "\u001b[0;32m/usr/local/lib/python3.7/dist-packages/statsmodels/genmod/generalized_linear_model.py\u001b[0m in \u001b[0;36mfit\u001b[0;34m(self, start_params, maxiter, method, tol, scale, cov_type, cov_kwds, use_t, full_output, disp, max_start_irls, **kwargs)\u001b[0m\n\u001b[1;32m   1026\u001b[0m             return self._fit_irls(start_params=start_params, maxiter=maxiter,\n\u001b[1;32m   1027\u001b[0m                                   \u001b[0mtol\u001b[0m\u001b[0;34m=\u001b[0m\u001b[0mtol\u001b[0m\u001b[0;34m,\u001b[0m \u001b[0mscale\u001b[0m\u001b[0;34m=\u001b[0m\u001b[0mscale\u001b[0m\u001b[0;34m,\u001b[0m \u001b[0mcov_type\u001b[0m\u001b[0;34m=\u001b[0m\u001b[0mcov_type\u001b[0m\u001b[0;34m,\u001b[0m\u001b[0;34m\u001b[0m\u001b[0;34m\u001b[0m\u001b[0m\n\u001b[0;32m-> 1028\u001b[0;31m                                   cov_kwds=cov_kwds, use_t=use_t, **kwargs)\n\u001b[0m\u001b[1;32m   1029\u001b[0m         \u001b[0;32melse\u001b[0m\u001b[0;34m:\u001b[0m\u001b[0;34m\u001b[0m\u001b[0;34m\u001b[0m\u001b[0m\n\u001b[1;32m   1030\u001b[0m             \u001b[0mself\u001b[0m\u001b[0;34m.\u001b[0m\u001b[0m_optim_hessian\u001b[0m \u001b[0;34m=\u001b[0m \u001b[0mkwargs\u001b[0m\u001b[0;34m.\u001b[0m\u001b[0mget\u001b[0m\u001b[0;34m(\u001b[0m\u001b[0;34m'optim_hessian'\u001b[0m\u001b[0;34m)\u001b[0m\u001b[0;34m\u001b[0m\u001b[0;34m\u001b[0m\u001b[0m\n",
            "\u001b[0;32m/usr/local/lib/python3.7/dist-packages/statsmodels/genmod/generalized_linear_model.py\u001b[0m in \u001b[0;36m_fit_irls\u001b[0;34m(self, start_params, maxiter, tol, scale, cov_type, cov_kwds, use_t, **kwargs)\u001b[0m\n\u001b[1;32m   1173\u001b[0m             \u001b[0;32mif\u001b[0m \u001b[0mendog\u001b[0m\u001b[0;34m.\u001b[0m\u001b[0msqueeze\u001b[0m\u001b[0;34m(\u001b[0m\u001b[0;34m)\u001b[0m\u001b[0;34m.\u001b[0m\u001b[0mndim\u001b[0m \u001b[0;34m==\u001b[0m \u001b[0;36m1\u001b[0m \u001b[0;32mand\u001b[0m \u001b[0mnp\u001b[0m\u001b[0;34m.\u001b[0m\u001b[0mallclose\u001b[0m\u001b[0;34m(\u001b[0m\u001b[0mmu\u001b[0m \u001b[0;34m-\u001b[0m \u001b[0mendog\u001b[0m\u001b[0;34m,\u001b[0m \u001b[0;36m0\u001b[0m\u001b[0;34m)\u001b[0m\u001b[0;34m:\u001b[0m\u001b[0;34m\u001b[0m\u001b[0;34m\u001b[0m\u001b[0m\n\u001b[1;32m   1174\u001b[0m                 \u001b[0mmsg\u001b[0m \u001b[0;34m=\u001b[0m \u001b[0;34m\"Perfect separation detected, results not available\"\u001b[0m\u001b[0;34m\u001b[0m\u001b[0;34m\u001b[0m\u001b[0m\n\u001b[0;32m-> 1175\u001b[0;31m                 \u001b[0;32mraise\u001b[0m \u001b[0mPerfectSeparationError\u001b[0m\u001b[0;34m(\u001b[0m\u001b[0mmsg\u001b[0m\u001b[0;34m)\u001b[0m\u001b[0;34m\u001b[0m\u001b[0;34m\u001b[0m\u001b[0m\n\u001b[0m\u001b[1;32m   1176\u001b[0m             converged = _check_convergence(criterion, iteration + 1, atol,\n\u001b[1;32m   1177\u001b[0m                                            rtol)\n",
            "\u001b[0;31mPerfectSeparationError\u001b[0m: Perfect separation detected, results not available"
          ]
        }
      ]
    },
    {
      "cell_type": "markdown",
      "metadata": {
        "id": "lclaY3ulP5tY"
      },
      "source": [
        "## absolute average error (AAE)"
      ]
    },
    {
      "cell_type": "code",
      "metadata": {
        "id": "O5rgqEkcP6dI",
        "colab": {
          "base_uri": "https://localhost:8080/",
          "height": 936
        },
        "outputId": "2a35e7f6-9222-4404-8800-4c24fd97afc5"
      },
      "source": [
        "#means_n_ipw_case2 = [0]*10\n",
        "#means_list_n_ipw_case2 = {}\n",
        "means_anipw_case2 = [0]*10\n",
        "means_list_anipw_case2 = {}\n",
        "\n",
        "for num_data_points in [30,60,100,140,200]:\n",
        "  for i in range(0,10):\n",
        "  #True causal effect is:\n",
        "    True_case2 = abs(intv_data_list_case2[i]['Y'].mean() - obs_data_list_case2[i]['Y'].mean())\n",
        "    data = obs_data_list_case2[i].iloc[0:num_data_points,]\n",
        "    #ace_n_ipw_case2 = ate_obj_case2.compute_effect(data, \"n-ipw\")\n",
        "    #means_n_ipw_case2[i] = abs(True_case2 - ace_n_ipw_case2)\n",
        "    ace_anipw_case2 = ate_obj_case2.compute_effect(data, \"anipw\")\n",
        "    means_anipw_case2[i] = abs(True_case2 - ace_anipw_case2)\n",
        "  means_list_anipw_case2[num_data_points] = (means_anipw_case2)\n",
        "  means_anipw_case2 = [0]*10\n",
        "  #means_list_n_ipw_case2[num_data_points] = means_n_ipw_case2\n",
        "  #means_n_ipw_case2 = [0]*10"
      ],
      "execution_count": null,
      "outputs": [
        {
          "output_type": "stream",
          "text": [
            "/usr/local/lib/python3.7/dist-packages/ananke/estimation/counterfactual_mean.py:966: SettingWithCopyWarning: \n",
            "A value is trying to be set on a copy of a slice from a DataFrame.\n",
            "Try using .loc[row_indexer,col_indexer] = value instead\n",
            "\n",
            "See the caveats in the documentation: https://pandas.pydata.org/pandas-docs/stable/user_guide/indexing.html#returning-a-view-versus-a-copy\n",
            "  data['ones'] = np.ones(len(data))\n",
            "/usr/local/lib/python3.7/dist-packages/ananke/estimation/counterfactual_mean.py:966: SettingWithCopyWarning: \n",
            "A value is trying to be set on a copy of a slice from a DataFrame.\n",
            "Try using .loc[row_indexer,col_indexer] = value instead\n",
            "\n",
            "See the caveats in the documentation: https://pandas.pydata.org/pandas-docs/stable/user_guide/indexing.html#returning-a-view-versus-a-copy\n",
            "  data['ones'] = np.ones(len(data))\n",
            "/usr/local/lib/python3.7/dist-packages/statsmodels/genmod/families/family.py:890: RuntimeWarning: invalid value encountered in true_divide\n",
            "  n_endog_mu = self._clean((1. - endog) / (1. - mu))\n",
            "/usr/local/lib/python3.7/dist-packages/statsmodels/genmod/families/family.py:890: RuntimeWarning: invalid value encountered in true_divide\n",
            "  n_endog_mu = self._clean((1. - endog) / (1. - mu))\n",
            "/usr/local/lib/python3.7/dist-packages/ananke/estimation/counterfactual_mean.py:966: SettingWithCopyWarning: \n",
            "A value is trying to be set on a copy of a slice from a DataFrame.\n",
            "Try using .loc[row_indexer,col_indexer] = value instead\n",
            "\n",
            "See the caveats in the documentation: https://pandas.pydata.org/pandas-docs/stable/user_guide/indexing.html#returning-a-view-versus-a-copy\n",
            "  data['ones'] = np.ones(len(data))\n",
            "/usr/local/lib/python3.7/dist-packages/statsmodels/genmod/families/family.py:890: RuntimeWarning: invalid value encountered in true_divide\n",
            "  n_endog_mu = self._clean((1. - endog) / (1. - mu))\n",
            "/usr/local/lib/python3.7/dist-packages/statsmodels/genmod/families/family.py:890: RuntimeWarning: invalid value encountered in true_divide\n",
            "  n_endog_mu = self._clean((1. - endog) / (1. - mu))\n",
            "/usr/local/lib/python3.7/dist-packages/ananke/estimation/counterfactual_mean.py:966: SettingWithCopyWarning: \n",
            "A value is trying to be set on a copy of a slice from a DataFrame.\n",
            "Try using .loc[row_indexer,col_indexer] = value instead\n",
            "\n",
            "See the caveats in the documentation: https://pandas.pydata.org/pandas-docs/stable/user_guide/indexing.html#returning-a-view-versus-a-copy\n",
            "  data['ones'] = np.ones(len(data))\n"
          ],
          "name": "stderr"
        },
        {
          "output_type": "error",
          "ename": "PerfectSeparationError",
          "evalue": "ignored",
          "traceback": [
            "\u001b[0;31m---------------------------------------------------------------------------\u001b[0m",
            "\u001b[0;31mPerfectSeparationError\u001b[0m                    Traceback (most recent call last)",
            "\u001b[0;32m<ipython-input-15-2b40bf8178d5>\u001b[0m in \u001b[0;36m<module>\u001b[0;34m()\u001b[0m\n\u001b[1;32m     11\u001b[0m     \u001b[0;31m#ace_n_ipw_case2 = ate_obj_case2.compute_effect(data, \"n-ipw\")\u001b[0m\u001b[0;34m\u001b[0m\u001b[0;34m\u001b[0m\u001b[0;34m\u001b[0m\u001b[0m\n\u001b[1;32m     12\u001b[0m     \u001b[0;31m#means_n_ipw_case2[i] = abs(True_case2 - ace_n_ipw_case2)\u001b[0m\u001b[0;34m\u001b[0m\u001b[0;34m\u001b[0m\u001b[0;34m\u001b[0m\u001b[0m\n\u001b[0;32m---> 13\u001b[0;31m     \u001b[0mace_anipw_case2\u001b[0m \u001b[0;34m=\u001b[0m \u001b[0mate_obj_case2\u001b[0m\u001b[0;34m.\u001b[0m\u001b[0mcompute_effect\u001b[0m\u001b[0;34m(\u001b[0m\u001b[0mdata\u001b[0m\u001b[0;34m,\u001b[0m \u001b[0;34m\"anipw\"\u001b[0m\u001b[0;34m)\u001b[0m\u001b[0;34m\u001b[0m\u001b[0;34m\u001b[0m\u001b[0m\n\u001b[0m\u001b[1;32m     14\u001b[0m     \u001b[0mmeans_anipw_case2\u001b[0m\u001b[0;34m[\u001b[0m\u001b[0mi\u001b[0m\u001b[0;34m]\u001b[0m \u001b[0;34m=\u001b[0m \u001b[0mabs\u001b[0m\u001b[0;34m(\u001b[0m\u001b[0mTrue_case2\u001b[0m \u001b[0;34m-\u001b[0m \u001b[0mace_anipw_case2\u001b[0m\u001b[0;34m)\u001b[0m\u001b[0;34m\u001b[0m\u001b[0;34m\u001b[0m\u001b[0m\n\u001b[1;32m     15\u001b[0m   \u001b[0mmeans_list_anipw_case2\u001b[0m\u001b[0;34m[\u001b[0m\u001b[0mnum_data_points\u001b[0m\u001b[0;34m]\u001b[0m \u001b[0;34m=\u001b[0m \u001b[0;34m(\u001b[0m\u001b[0mmeans_anipw_case2\u001b[0m\u001b[0;34m)\u001b[0m\u001b[0;34m\u001b[0m\u001b[0;34m\u001b[0m\u001b[0m\n",
            "\u001b[0;32m/usr/local/lib/python3.7/dist-packages/ananke/estimation/counterfactual_mean.py\u001b[0m in \u001b[0;36mcompute_effect\u001b[0;34m(self, data, estimator, model_binary, model_continuous, n_bootstraps, alpha)\u001b[0m\n\u001b[1;32m    975\u001b[0m         \u001b[0;31m# instantiate estimator and get point estimate of ACE\u001b[0m\u001b[0;34m\u001b[0m\u001b[0;34m\u001b[0m\u001b[0;34m\u001b[0m\u001b[0m\n\u001b[1;32m    976\u001b[0m         \u001b[0mmethod\u001b[0m \u001b[0;34m=\u001b[0m \u001b[0mself\u001b[0m\u001b[0;34m.\u001b[0m\u001b[0mestimators\u001b[0m\u001b[0;34m[\u001b[0m\u001b[0mestimator\u001b[0m\u001b[0;34m]\u001b[0m\u001b[0;34m\u001b[0m\u001b[0;34m\u001b[0m\u001b[0m\n\u001b[0;32m--> 977\u001b[0;31m         \u001b[0mpoint_estimate_T1\u001b[0m \u001b[0;34m=\u001b[0m \u001b[0mmethod\u001b[0m\u001b[0;34m(\u001b[0m\u001b[0mdata\u001b[0m\u001b[0;34m,\u001b[0m \u001b[0;36m1\u001b[0m\u001b[0;34m,\u001b[0m \u001b[0mmodel_binary\u001b[0m\u001b[0;34m,\u001b[0m \u001b[0mmodel_continuous\u001b[0m\u001b[0;34m)\u001b[0m\u001b[0;34m\u001b[0m\u001b[0;34m\u001b[0m\u001b[0m\n\u001b[0m\u001b[1;32m    978\u001b[0m         \u001b[0mpoint_estimate_T0\u001b[0m \u001b[0;34m=\u001b[0m \u001b[0mmethod\u001b[0m\u001b[0;34m(\u001b[0m\u001b[0mdata\u001b[0m\u001b[0;34m,\u001b[0m \u001b[0;36m0\u001b[0m\u001b[0;34m,\u001b[0m \u001b[0mmodel_binary\u001b[0m\u001b[0;34m,\u001b[0m \u001b[0mmodel_continuous\u001b[0m\u001b[0;34m)\u001b[0m\u001b[0;34m\u001b[0m\u001b[0;34m\u001b[0m\u001b[0m\n\u001b[1;32m    979\u001b[0m \u001b[0;34m\u001b[0m\u001b[0m\n",
            "\u001b[0;32m/usr/local/lib/python3.7/dist-packages/ananke/estimation/counterfactual_mean.py\u001b[0m in \u001b[0;36m_augmented_nested_ipw\u001b[0;34m(self, data, assignment, model_binary, model_continuous)\u001b[0m\n\u001b[1;32m    910\u001b[0m \u001b[0;34m\u001b[0m\u001b[0m\n\u001b[1;32m    911\u001b[0m         \u001b[0;31m# get the rebalancing weights\u001b[0m\u001b[0;34m\u001b[0m\u001b[0;34m\u001b[0m\u001b[0;34m\u001b[0m\u001b[0m\n\u001b[0;32m--> 912\u001b[0;31m         \u001b[0mrebalance_weights\u001b[0m \u001b[0;34m=\u001b[0m \u001b[0mself\u001b[0m\u001b[0;34m.\u001b[0m\u001b[0m_get_nested_rebalanced_weights\u001b[0m\u001b[0;34m(\u001b[0m\u001b[0mdata\u001b[0m\u001b[0;34m,\u001b[0m \u001b[0mmodel_binary\u001b[0m\u001b[0;34m,\u001b[0m \u001b[0mmodel_continuous\u001b[0m\u001b[0;34m)\u001b[0m\u001b[0;34m\u001b[0m\u001b[0;34m\u001b[0m\u001b[0m\n\u001b[0m\u001b[1;32m    913\u001b[0m \u001b[0;34m\u001b[0m\u001b[0m\n\u001b[1;32m    914\u001b[0m         \u001b[0;31m# extract the outcome and get Markov pillow of the treatment\u001b[0m\u001b[0;34m\u001b[0m\u001b[0;34m\u001b[0m\u001b[0;34m\u001b[0m\u001b[0m\n",
            "\u001b[0;32m/usr/local/lib/python3.7/dist-packages/ananke/estimation/counterfactual_mean.py\u001b[0m in \u001b[0;36m_get_nested_rebalanced_weights\u001b[0;34m(self, data, model_binary, model_continuous)\u001b[0m\n\u001b[1;32m    855\u001b[0m \u001b[0;34m\u001b[0m\u001b[0m\n\u001b[1;32m    856\u001b[0m             \u001b[0;31m# now compute the q_D(D | pa(D))\u001b[0m\u001b[0;34m\u001b[0m\u001b[0;34m\u001b[0m\u001b[0;34m\u001b[0m\u001b[0m\n\u001b[0;32m--> 857\u001b[0;31m             \u001b[0mrebalance_prob\u001b[0m \u001b[0;34m*=\u001b[0m \u001b[0mself\u001b[0m\u001b[0;34m.\u001b[0m\u001b[0m_fit_intrinsic_kernel\u001b[0m\u001b[0;34m(\u001b[0m\u001b[0mdata\u001b[0m\u001b[0;34m,\u001b[0m \u001b[0mdistrict\u001b[0m\u001b[0;34m,\u001b[0m \u001b[0mmodel_binary\u001b[0m\u001b[0;34m,\u001b[0m \u001b[0mmodel_continuous\u001b[0m\u001b[0;34m)\u001b[0m\u001b[0;34m\u001b[0m\u001b[0;34m\u001b[0m\u001b[0m\n\u001b[0m\u001b[1;32m    858\u001b[0m \u001b[0;34m\u001b[0m\u001b[0m\n\u001b[1;32m    859\u001b[0m         \u001b[0;32mreturn\u001b[0m \u001b[0;36m1\u001b[0m\u001b[0;34m/\u001b[0m\u001b[0mrebalance_prob\u001b[0m\u001b[0;34m\u001b[0m\u001b[0;34m\u001b[0m\u001b[0m\n",
            "\u001b[0;32m/usr/local/lib/python3.7/dist-packages/ananke/estimation/counterfactual_mean.py\u001b[0m in \u001b[0;36m_fit_intrinsic_kernel\u001b[0;34m(self, data, district, model_binary, model_continuous)\u001b[0m\n\u001b[1;32m    761\u001b[0m \u001b[0;34m\u001b[0m\u001b[0m\n\u001b[1;32m    762\u001b[0m             \u001b[0;32mif\u001b[0m \u001b[0mself\u001b[0m\u001b[0;34m.\u001b[0m\u001b[0mstate_space_map_\u001b[0m\u001b[0;34m[\u001b[0m\u001b[0mV\u001b[0m\u001b[0;34m]\u001b[0m \u001b[0;34m==\u001b[0m \u001b[0;34m\"binary\"\u001b[0m\u001b[0;34m:\u001b[0m\u001b[0;34m\u001b[0m\u001b[0;34m\u001b[0m\u001b[0m\n\u001b[0;32m--> 763\u001b[0;31m                 \u001b[0mmodel\u001b[0m \u001b[0;34m=\u001b[0m \u001b[0mmodel_binary\u001b[0m\u001b[0;34m(\u001b[0m\u001b[0mdata\u001b[0m\u001b[0;34m,\u001b[0m \u001b[0mformula\u001b[0m\u001b[0;34m,\u001b[0m \u001b[0;36m1\u001b[0m \u001b[0;34m/\u001b[0m \u001b[0mfixing_prob\u001b[0m\u001b[0;34m)\u001b[0m\u001b[0;34m\u001b[0m\u001b[0;34m\u001b[0m\u001b[0m\n\u001b[0m\u001b[1;32m    764\u001b[0m                 \u001b[0mprob_V\u001b[0m \u001b[0;34m=\u001b[0m \u001b[0mmodel\u001b[0m\u001b[0;34m.\u001b[0m\u001b[0mpredict\u001b[0m\u001b[0;34m(\u001b[0m\u001b[0mdata\u001b[0m\u001b[0;34m)\u001b[0m\u001b[0;34m\u001b[0m\u001b[0;34m\u001b[0m\u001b[0m\n\u001b[1;32m    765\u001b[0m                 \u001b[0mindices_V0\u001b[0m \u001b[0;34m=\u001b[0m \u001b[0mdata\u001b[0m\u001b[0;34m.\u001b[0m\u001b[0mindex\u001b[0m\u001b[0;34m[\u001b[0m\u001b[0mdata\u001b[0m\u001b[0;34m[\u001b[0m\u001b[0mV\u001b[0m\u001b[0;34m]\u001b[0m \u001b[0;34m==\u001b[0m \u001b[0;36m0\u001b[0m\u001b[0;34m]\u001b[0m\u001b[0;34m\u001b[0m\u001b[0;34m\u001b[0m\u001b[0m\n",
            "\u001b[0;32m/usr/local/lib/python3.7/dist-packages/ananke/estimation/counterfactual_mean.py\u001b[0m in \u001b[0;36m_fit_binary_glm\u001b[0;34m(self, data, formula, weights)\u001b[0m\n\u001b[1;32m    135\u001b[0m         \"\"\"\n\u001b[1;32m    136\u001b[0m \u001b[0;34m\u001b[0m\u001b[0m\n\u001b[0;32m--> 137\u001b[0;31m         \u001b[0;32mreturn\u001b[0m \u001b[0msm\u001b[0m\u001b[0;34m.\u001b[0m\u001b[0mGLM\u001b[0m\u001b[0;34m.\u001b[0m\u001b[0mfrom_formula\u001b[0m\u001b[0;34m(\u001b[0m\u001b[0mformula\u001b[0m\u001b[0;34m,\u001b[0m \u001b[0mdata\u001b[0m\u001b[0;34m=\u001b[0m\u001b[0mdata\u001b[0m\u001b[0;34m,\u001b[0m \u001b[0mfamily\u001b[0m\u001b[0;34m=\u001b[0m\u001b[0msm\u001b[0m\u001b[0;34m.\u001b[0m\u001b[0mfamilies\u001b[0m\u001b[0;34m.\u001b[0m\u001b[0mBinomial\u001b[0m\u001b[0;34m(\u001b[0m\u001b[0;34m)\u001b[0m\u001b[0;34m,\u001b[0m \u001b[0mfreq_weights\u001b[0m\u001b[0;34m=\u001b[0m\u001b[0mweights\u001b[0m\u001b[0;34m)\u001b[0m\u001b[0;34m.\u001b[0m\u001b[0mfit\u001b[0m\u001b[0;34m(\u001b[0m\u001b[0;34m)\u001b[0m\u001b[0;34m\u001b[0m\u001b[0;34m\u001b[0m\u001b[0m\n\u001b[0m\u001b[1;32m    138\u001b[0m \u001b[0;34m\u001b[0m\u001b[0m\n\u001b[1;32m    139\u001b[0m     \u001b[0;32mdef\u001b[0m \u001b[0m_fit_continuous_glm\u001b[0m\u001b[0;34m(\u001b[0m\u001b[0mself\u001b[0m\u001b[0;34m,\u001b[0m \u001b[0mdata\u001b[0m\u001b[0;34m,\u001b[0m \u001b[0mformula\u001b[0m\u001b[0;34m,\u001b[0m \u001b[0mweights\u001b[0m\u001b[0;34m=\u001b[0m\u001b[0;32mNone\u001b[0m\u001b[0;34m)\u001b[0m\u001b[0;34m:\u001b[0m\u001b[0;34m\u001b[0m\u001b[0;34m\u001b[0m\u001b[0m\n",
            "\u001b[0;32m/usr/local/lib/python3.7/dist-packages/statsmodels/genmod/generalized_linear_model.py\u001b[0m in \u001b[0;36mfit\u001b[0;34m(self, start_params, maxiter, method, tol, scale, cov_type, cov_kwds, use_t, full_output, disp, max_start_irls, **kwargs)\u001b[0m\n\u001b[1;32m   1026\u001b[0m             return self._fit_irls(start_params=start_params, maxiter=maxiter,\n\u001b[1;32m   1027\u001b[0m                                   \u001b[0mtol\u001b[0m\u001b[0;34m=\u001b[0m\u001b[0mtol\u001b[0m\u001b[0;34m,\u001b[0m \u001b[0mscale\u001b[0m\u001b[0;34m=\u001b[0m\u001b[0mscale\u001b[0m\u001b[0;34m,\u001b[0m \u001b[0mcov_type\u001b[0m\u001b[0;34m=\u001b[0m\u001b[0mcov_type\u001b[0m\u001b[0;34m,\u001b[0m\u001b[0;34m\u001b[0m\u001b[0;34m\u001b[0m\u001b[0m\n\u001b[0;32m-> 1028\u001b[0;31m                                   cov_kwds=cov_kwds, use_t=use_t, **kwargs)\n\u001b[0m\u001b[1;32m   1029\u001b[0m         \u001b[0;32melse\u001b[0m\u001b[0;34m:\u001b[0m\u001b[0;34m\u001b[0m\u001b[0;34m\u001b[0m\u001b[0m\n\u001b[1;32m   1030\u001b[0m             \u001b[0mself\u001b[0m\u001b[0;34m.\u001b[0m\u001b[0m_optim_hessian\u001b[0m \u001b[0;34m=\u001b[0m \u001b[0mkwargs\u001b[0m\u001b[0;34m.\u001b[0m\u001b[0mget\u001b[0m\u001b[0;34m(\u001b[0m\u001b[0;34m'optim_hessian'\u001b[0m\u001b[0;34m)\u001b[0m\u001b[0;34m\u001b[0m\u001b[0;34m\u001b[0m\u001b[0m\n",
            "\u001b[0;32m/usr/local/lib/python3.7/dist-packages/statsmodels/genmod/generalized_linear_model.py\u001b[0m in \u001b[0;36m_fit_irls\u001b[0;34m(self, start_params, maxiter, tol, scale, cov_type, cov_kwds, use_t, **kwargs)\u001b[0m\n\u001b[1;32m   1173\u001b[0m             \u001b[0;32mif\u001b[0m \u001b[0mendog\u001b[0m\u001b[0;34m.\u001b[0m\u001b[0msqueeze\u001b[0m\u001b[0;34m(\u001b[0m\u001b[0;34m)\u001b[0m\u001b[0;34m.\u001b[0m\u001b[0mndim\u001b[0m \u001b[0;34m==\u001b[0m \u001b[0;36m1\u001b[0m \u001b[0;32mand\u001b[0m \u001b[0mnp\u001b[0m\u001b[0;34m.\u001b[0m\u001b[0mallclose\u001b[0m\u001b[0;34m(\u001b[0m\u001b[0mmu\u001b[0m \u001b[0;34m-\u001b[0m \u001b[0mendog\u001b[0m\u001b[0;34m,\u001b[0m \u001b[0;36m0\u001b[0m\u001b[0;34m)\u001b[0m\u001b[0;34m:\u001b[0m\u001b[0;34m\u001b[0m\u001b[0;34m\u001b[0m\u001b[0m\n\u001b[1;32m   1174\u001b[0m                 \u001b[0mmsg\u001b[0m \u001b[0;34m=\u001b[0m \u001b[0;34m\"Perfect separation detected, results not available\"\u001b[0m\u001b[0;34m\u001b[0m\u001b[0;34m\u001b[0m\u001b[0m\n\u001b[0;32m-> 1175\u001b[0;31m                 \u001b[0;32mraise\u001b[0m \u001b[0mPerfectSeparationError\u001b[0m\u001b[0;34m(\u001b[0m\u001b[0mmsg\u001b[0m\u001b[0;34m)\u001b[0m\u001b[0;34m\u001b[0m\u001b[0;34m\u001b[0m\u001b[0m\n\u001b[0m\u001b[1;32m   1176\u001b[0m             converged = _check_convergence(criterion, iteration + 1, atol,\n\u001b[1;32m   1177\u001b[0m                                            rtol)\n",
            "\u001b[0;31mPerfectSeparationError\u001b[0m: Perfect separation detected, results not available"
          ]
        }
      ]
    },
    {
      "cell_type": "markdown",
      "metadata": {
        "id": "m4FhpfSFi54F"
      },
      "source": [
        "It produces error for both of the suggested estimators."
      ]
    },
    {
      "cell_type": "markdown",
      "metadata": {
        "id": "I3IXOxJr2Ydu"
      },
      "source": [
        "# IGF model\n",
        "\n",
        "## Complete model\n",
        "\n"
      ]
    },
    {
      "cell_type": "markdown",
      "metadata": {
        "id": "tLEU9xZTCg5-"
      },
      "source": [
        "### Build the complete graph"
      ]
    },
    {
      "cell_type": "code",
      "metadata": {
        "colab": {
          "base_uri": "https://localhost:8080/",
          "height": 141
        },
        "id": "-ikBd7Mt5A6_",
        "outputId": "58659bac-7be2-4e71-cd7c-d79260ed3d66"
      },
      "source": [
        "vertices_IGF_complete = ['SOS', 'Ras','PI3K', 'Raf','AKT','Mek','Erk']\n",
        "di_edges_IGF_complete = [('SOS','Ras'), ('Ras','PI3K'),('Ras','Raf'), ('PI3K', 'AKT'),\n",
        "            ('AKT','Raf'), ('Raf','Mek'),('Mek','Erk')]\n",
        "bi_edges_IGF_complete = [('SOS','PI3K')]\n",
        "IGF_complete = ADMG(vertices_IGF_complete, di_edges_IGF_complete, bi_edges_IGF_complete)\n",
        "IGF_complete.draw(direction='LR')"
      ],
      "execution_count": null,
      "outputs": [
        {
          "output_type": "execute_result",
          "data": {
            "text/plain": [
              "<graphviz.dot.Digraph at 0x7f04dde9dcd0>"
            ],
            "image/svg+xml": "<?xml version=\"1.0\" encoding=\"UTF-8\" standalone=\"no\"?>\n<!DOCTYPE svg PUBLIC \"-//W3C//DTD SVG 1.1//EN\"\n \"http://www.w3.org/Graphics/SVG/1.1/DTD/svg11.dtd\">\n<!-- Generated by graphviz version 2.40.1 (20161225.0304)\n -->\n<!-- Title: %3 Pages: 1 -->\n<svg width=\"518pt\" height=\"90pt\"\n viewBox=\"0.00 0.00 518.00 90.00\" xmlns=\"http://www.w3.org/2000/svg\" xmlns:xlink=\"http://www.w3.org/1999/xlink\">\n<g id=\"graph0\" class=\"graph\" transform=\"scale(1 1) rotate(0) translate(4 86)\">\n<title>%3</title>\n<polygon fill=\"#ffffff\" stroke=\"transparent\" points=\"-4,4 -4,-86 514,-86 514,4 -4,4\"/>\n<!-- SOS -->\n<g id=\"node1\" class=\"node\">\n<title>SOS</title>\n<text text-anchor=\"middle\" x=\"22\" y=\"-37.3\" font-family=\"Times,serif\" font-size=\"14.00\" fill=\"#000000\">SOS</text>\n</g>\n<!-- Ras -->\n<g id=\"node2\" class=\"node\">\n<title>Ras</title>\n<text text-anchor=\"middle\" x=\"99\" y=\"-14.3\" font-family=\"Times,serif\" font-size=\"14.00\" fill=\"#000000\">Ras</text>\n</g>\n<!-- SOS&#45;&gt;Ras -->\n<g id=\"edge1\" class=\"edge\">\n<title>SOS&#45;&gt;Ras</title>\n<path fill=\"none\" stroke=\"#0000ff\" d=\"M44.2716,-34.3474C52.3803,-31.9254 61.6646,-29.1521 70.2552,-26.5861\"/>\n<polygon fill=\"#0000ff\" stroke=\"#0000ff\" points=\"71.3292,-29.9182 79.9091,-23.7025 69.3257,-23.211 71.3292,-29.9182\"/>\n</g>\n<!-- PI3K -->\n<g id=\"node3\" class=\"node\">\n<title>PI3K</title>\n<text text-anchor=\"middle\" x=\"177.5\" y=\"-60.3\" font-family=\"Times,serif\" font-size=\"14.00\" fill=\"#000000\">PI3K</text>\n</g>\n<!-- SOS&#45;&gt;PI3K -->\n<g id=\"edge8\" class=\"edge\">\n<title>SOS&#45;&gt;PI3K</title>\n<path fill=\"none\" stroke=\"#ff0000\" d=\"M54.1733,-45.7588C80.4234,-49.6414 117.387,-55.1087 143.9918,-59.0438\"/>\n<polygon fill=\"#ff0000\" stroke=\"#ff0000\" points=\"54.6839,-42.2963 44.2794,-44.2953 53.6596,-49.2209 54.6839,-42.2963\"/>\n<polygon fill=\"#ff0000\" stroke=\"#ff0000\" points=\"143.5853,-62.5217 153.9898,-60.5226 144.6095,-55.597 143.5853,-62.5217\"/>\n</g>\n<!-- Ras&#45;&gt;PI3K -->\n<g id=\"edge6\" class=\"edge\">\n<title>Ras&#45;&gt;PI3K</title>\n<path fill=\"none\" stroke=\"#0000ff\" d=\"M118.0027,-29.1353C126.1866,-33.931 135.9877,-39.6743 145.2512,-45.1026\"/>\n<polygon fill=\"#0000ff\" stroke=\"#0000ff\" points=\"143.5002,-48.1332 153.8975,-50.1693 147.0392,-42.0937 143.5002,-48.1332\"/>\n</g>\n<!-- Raf -->\n<g id=\"node4\" class=\"node\">\n<title>Raf</title>\n<text text-anchor=\"middle\" x=\"338.5\" y=\"-37.3\" font-family=\"Times,serif\" font-size=\"14.00\" fill=\"#000000\">Raf</text>\n</g>\n<!-- Ras&#45;&gt;Raf -->\n<g id=\"edge2\" class=\"edge\">\n<title>Ras&#45;&gt;Raf</title>\n<path fill=\"none\" stroke=\"#0000ff\" d=\"M118.1944,-19.8433C160.1801,-23.8753 260.3669,-33.4966 309.8468,-38.2483\"/>\n<polygon fill=\"#0000ff\" stroke=\"#0000ff\" points=\"309.5878,-41.7395 319.8766,-39.2115 310.257,-34.7715 309.5878,-41.7395\"/>\n</g>\n<!-- AKT -->\n<g id=\"node5\" class=\"node\">\n<title>AKT</title>\n<text text-anchor=\"middle\" x=\"260.5\" y=\"-60.3\" font-family=\"Times,serif\" font-size=\"14.00\" fill=\"#000000\">AKT</text>\n</g>\n<!-- PI3K&#45;&gt;AKT -->\n<g id=\"edge7\" class=\"edge\">\n<title>PI3K&#45;&gt;AKT</title>\n<path fill=\"none\" stroke=\"#0000ff\" d=\"M201.0625,-64C209.0355,-64 218.1024,-64 226.7105,-64\"/>\n<polygon fill=\"#0000ff\" stroke=\"#0000ff\" points=\"226.8787,-67.5001 236.8786,-64 226.8786,-60.5001 226.8787,-67.5001\"/>\n</g>\n<!-- Mek -->\n<g id=\"node6\" class=\"node\">\n<title>Mek</title>\n<text text-anchor=\"middle\" x=\"414.5\" y=\"-37.3\" font-family=\"Times,serif\" font-size=\"14.00\" fill=\"#000000\">Mek</text>\n</g>\n<!-- Raf&#45;&gt;Mek -->\n<g id=\"edge5\" class=\"edge\">\n<title>Raf&#45;&gt;Mek</title>\n<path fill=\"none\" stroke=\"#0000ff\" d=\"M357.2865,-41C364.9741,-41 374.0854,-41 382.7508,-41\"/>\n<polygon fill=\"#0000ff\" stroke=\"#0000ff\" points=\"382.9739,-44.5001 392.9739,-41 382.9739,-37.5001 382.9739,-44.5001\"/>\n</g>\n<!-- AKT&#45;&gt;Raf -->\n<g id=\"edge4\" class=\"edge\">\n<title>AKT&#45;&gt;Raf</title>\n<path fill=\"none\" stroke=\"#0000ff\" d=\"M284.3264,-56.9743C292.4166,-54.5887 301.5388,-51.8988 309.9587,-49.416\"/>\n<polygon fill=\"#0000ff\" stroke=\"#0000ff\" points=\"311.1626,-52.7101 319.7643,-46.5246 309.1827,-45.9959 311.1626,-52.7101\"/>\n</g>\n<!-- Erk -->\n<g id=\"node7\" class=\"node\">\n<title>Erk</title>\n<text text-anchor=\"middle\" x=\"491\" y=\"-37.3\" font-family=\"Times,serif\" font-size=\"14.00\" fill=\"#000000\">Erk</text>\n</g>\n<!-- Mek&#45;&gt;Erk -->\n<g id=\"edge3\" class=\"edge\">\n<title>Mek&#45;&gt;Erk</title>\n<path fill=\"none\" stroke=\"#0000ff\" d=\"M436.2172,-41C444.1063,-41 453.1573,-41 461.5997,-41\"/>\n<polygon fill=\"#0000ff\" stroke=\"#0000ff\" points=\"461.8347,-44.5001 471.8346,-41 461.8346,-37.5001 461.8347,-44.5001\"/>\n</g>\n</g>\n</svg>\n"
          },
          "metadata": {
            "tags": []
          },
          "execution_count": 3
        }
      ]
    },
    {
      "cell_type": "code",
      "metadata": {
        "colab": {
          "base_uri": "https://localhost:8080/"
        },
        "id": "ZicFZqF76CBE",
        "outputId": "084ba1ec-3108-4003-982e-8bb7ff859093"
      },
      "source": [
        "one_id = OneLineID(graph=IGF_complete, treatments=['PI3K'], outcomes=['Erk'])\n",
        "one_id.id()"
      ],
      "execution_count": null,
      "outputs": [
        {
          "output_type": "execute_result",
          "data": {
            "text/plain": [
              "True"
            ]
          },
          "metadata": {
            "tags": []
          },
          "execution_count": 4
        }
      ]
    },
    {
      "cell_type": "code",
      "metadata": {
        "colab": {
          "base_uri": "https://localhost:8080/"
        },
        "id": "tdy_920L6YdI",
        "outputId": "952beb20-f497-496c-945a-6a23b1030f1a"
      },
      "source": [
        "ate_obj_IGF_complete = CausalEffect(graph=IGF_complete, treatment='PI3K', outcome='Erk')  # setting up the CausalEffect object\n",
        "ate_obj_IGF_complete"
      ],
      "execution_count": null,
      "outputs": [
        {
          "output_type": "stream",
          "text": [
            "\n",
            " Treatment is a-fixable and graph is mb-shielded. \n",
            "\n",
            " Available estimators are:\n",
            " \n",
            "1. IPW (ipw)\n",
            "2. Outcome regression (gformula)\n",
            "3. Generalized AIPW (aipw)\n",
            "4. Efficient Generalized AIPW (eff-aipw) \n",
            " \n",
            "Suggested estimator is Efficient Generalized AIPW \n",
            "\n"
          ],
          "name": "stdout"
        },
        {
          "output_type": "execute_result",
          "data": {
            "text/plain": [
              "<ananke.estimation.counterfactual_mean.CausalEffect at 0x7f04d1194e50>"
            ]
          },
          "metadata": {
            "tags": []
          },
          "execution_count": 5
        }
      ]
    },
    {
      "cell_type": "markdown",
      "metadata": {
        "id": "FTAKlY7LESjv"
      },
      "source": [
        "If you'd like to get a sense of what Ananke is doing for each estimator you can use the AutomatedIF class. In the original graph, Ananke is able to find a valid backdoor adjustment set to compute the effect -- SOS and Ras. So the nonparametric IF (np-IF below) has the form of standard Augmented IPW with SOS and Ras as the adjustment set. You can also check that the primal estimator and dual estimator reduces to just the standard IPW estimator and backdoor adjustment estimator as suggested by the prompt from Ananke. So here, it is indeed the case that Mek and Raf are not very crucial to the estimation procedure."
      ]
    },
    {
      "cell_type": "code",
      "metadata": {
        "colab": {
          "base_uri": "https://localhost:8080/"
        },
        "id": "WJN0qkPd4lQG",
        "outputId": "53957963-1e48-497e-d4e1-cc0dcf46c427"
      },
      "source": [
        "influence = AutomatedIF(IGF_complete, 'PI3K', 'Erk')\n",
        "print(\"beta primal = \", influence.beta_primal_, \"\\n\")\n",
        "print(\"beta dual = \", influence.beta_dual_, \"\\n\")\n",
        "print(\"np-IF = \", influence.nonparametric_if_, \"\\n\")\n",
        "print(\"efficient IF = \\n\", influence.eff_if_, \"\\n\")"
      ],
      "execution_count": null,
      "outputs": [
        {
          "output_type": "stream",
          "text": [
            "\n",
            " Treatment is a-fixable and graph is mb-shielded. \n",
            "\n",
            " Available estimators are:\n",
            " \n",
            "1. IPW (ipw)\n",
            "2. Outcome regression (gformula)\n",
            "3. Generalized AIPW (aipw)\n",
            "4. Efficient Generalized AIPW (eff-aipw) \n",
            " \n",
            "Suggested estimator is Efficient Generalized AIPW \n",
            "\n",
            "beta primal =  I(PI3K=pi3k) x 1/p(PI3K|SOS,Ras) x Erk \n",
            "\n",
            "beta dual =  E[Erk|SOS,Ras,PI3K=pi3k] \n",
            "\n",
            "np-IF =  I(PI3K=pi3k) x 1/p(PI3K|SOS,Ras) x (Erk - E[Erk|SOS,Ras,PI3K=pi3k]) + E[Erk|SOS,Ras,PI3K=pi3k] - Ψ \n",
            "\n",
            "efficient IF = \n",
            " E[βprimal|AKT,PI3K] - E[βprimal|PI3K] + E[βprimal|SOS,Ras] - E[βprimal|SOS] + E[βprimal|Mek,Raf] - E[βprimal|Raf] + E[βprimal|AKT,Raf,Ras] - E[βprimal|AKT,Ras] + E[βprimal|SOS] - E[βprimal] + E[βprimal|Mek,Erk] - E[βprimal|Mek] \n",
            "\n"
          ],
          "name": "stdout"
        }
      ]
    },
    {
      "cell_type": "markdown",
      "metadata": {
        "id": "TTBN7Nzs7BkH"
      },
      "source": [
        "Read observational data:"
      ]
    },
    {
      "cell_type": "code",
      "metadata": {
        "id": "y7gPFaLW7Cby",
        "colab": {
          "base_uri": "https://localhost:8080/"
        },
        "outputId": "b08a362c-3dce-4065-d9bf-d0f4945eb83a"
      },
      "source": [
        "obs_data1_case3 = pd.read_csv('obs_data1_case3.csv', sep=',')\n",
        "obs_data1_case3 = obs_data1_case3.drop(['Unnamed: 0','EGFR','IGFR'], axis=1)\n",
        "binarized_pi3k = np.array([0]*len(obs_data1_case3))\n",
        "binarized_pi3k[obs_data1_case3[\"PI3K\"] > obs_data1_case3['PI3K'].median()] = 1\n",
        "obs_data1_case3['PI3K'] = binarized_pi3k\n",
        "\n",
        "obs_data2_case3 = pd.read_csv('obs_data2_case3.csv', sep=',')\n",
        "obs_data2_case3 = obs_data2_case3.drop(['Unnamed: 0','EGFR','IGFR'], axis=1)\n",
        "binarized_pi3k = np.array([0]*len(obs_data2_case3))\n",
        "binarized_pi3k[obs_data2_case3[\"PI3K\"] > obs_data2_case3['PI3K'].median()] = 1\n",
        "obs_data2_case3['PI3K'] = binarized_pi3k\n",
        "\n",
        "obs_data3_case3 = pd.read_csv('obs_data3_case3.csv', sep=',')\n",
        "obs_data3_case3 = obs_data3_case3.drop(['Unnamed: 0','EGFR','IGFR'], axis=1)\n",
        "binarized_pi3k = np.array([0]*len(obs_data3_case3))\n",
        "binarized_pi3k[obs_data3_case3[\"PI3K\"] > obs_data3_case3['PI3K'].median()] = 1\n",
        "obs_data3_case3['PI3K'] = binarized_pi3k\n",
        "\n",
        "obs_data4_case3 = pd.read_csv('obs_data4_case3.csv', sep=',')\n",
        "obs_data4_case3 = obs_data4_case3.drop(['Unnamed: 0','EGFR','IGFR'], axis=1)\n",
        "binarized_pi3k = np.array([0]*len(obs_data4_case3))\n",
        "binarized_pi3k[obs_data4_case3[\"PI3K\"] > obs_data4_case3['PI3K'].median()] = 1\n",
        "obs_data4_case3['PI3K'] = binarized_pi3k\n",
        "\n",
        "obs_data5_case3 = pd.read_csv('obs_data5_case3.csv', sep=',')\n",
        "obs_data5_case3 = obs_data5_case3.drop(['Unnamed: 0','EGFR','IGFR'], axis=1)\n",
        "binarized_pi3k = np.array([0]*len(obs_data5_case3))\n",
        "binarized_pi3k[obs_data5_case3[\"PI3K\"] > obs_data5_case3['PI3K'].median()] = 1\n",
        "obs_data5_case3['PI3K'] = binarized_pi3k\n",
        "\n",
        "obs_data6_case3 = pd.read_csv('obs_data6_case3.csv', sep=',')\n",
        "obs_data6_case3 = obs_data6_case3.drop(['Unnamed: 0','EGFR','IGFR'], axis=1)\n",
        "binarized_pi3k = np.array([0]*len(obs_data6_case3))\n",
        "binarized_pi3k[obs_data6_case3[\"PI3K\"] > obs_data6_case3['PI3K'].median()] = 1\n",
        "obs_data6_case3['PI3K'] = binarized_pi3k\n",
        "\n",
        "obs_data7_case3 = pd.read_csv('obs_data7_case3.csv', sep=',')\n",
        "obs_data7_case3 = obs_data7_case3.drop(['Unnamed: 0','EGFR','IGFR'], axis=1)\n",
        "binarized_pi3k = np.array([0]*len(obs_data7_case3))\n",
        "binarized_pi3k[obs_data7_case3[\"PI3K\"] > obs_data7_case3['PI3K'].median()] = 1\n",
        "obs_data7_case3['PI3K'] = binarized_pi3k\n",
        "\n",
        "obs_data8_case3 = pd.read_csv('obs_data8_case3.csv', sep=',')\n",
        "obs_data8_case3 = obs_data8_case3.drop(['Unnamed: 0','EGFR','IGFR'], axis=1)\n",
        "obs_data9_case3 = pd.read_csv('obs_data9_case3.csv', sep=',')\n",
        "obs_data9_case3 = obs_data9_case3.drop(['Unnamed: 0','EGFR','IGFR'], axis=1)\n",
        "obs_data10_case3 = pd.read_csv('obs_data10_case3.csv', sep=',')\n",
        "obs_data10_case3 = obs_data10_case3.drop(['Unnamed: 0','EGFR','IGFR'], axis=1)"
      ],
      "execution_count": null,
      "outputs": [
        {
          "output_type": "stream",
          "text": [
            "INFO:numexpr.utils:NumExpr defaulting to 2 threads.\n"
          ],
          "name": "stderr"
        }
      ]
    },
    {
      "cell_type": "code",
      "metadata": {
        "id": "u4gzxvQD7MrX"
      },
      "source": [
        "obs_data_list_case3 = []\n",
        "obs_data_list_case3.append(obs_data1_case3)\n",
        "obs_data_list_case3.append(obs_data2_case3)\n",
        "obs_data_list_case3.append(obs_data3_case3)\n",
        "obs_data_list_case3.append(obs_data4_case3)\n",
        "obs_data_list_case3.append(obs_data5_case3)\n",
        "obs_data_list_case3.append(obs_data6_case3)\n",
        "obs_data_list_case3.append(obs_data7_case3)\n",
        "obs_data_list_case3.append(obs_data8_case3)\n",
        "obs_data_list_case3.append(obs_data9_case3)\n",
        "obs_data_list_case3.append(obs_data10_case3)"
      ],
      "execution_count": null,
      "outputs": []
    },
    {
      "cell_type": "markdown",
      "metadata": {
        "id": "rc8bm3vU71Ci"
      },
      "source": [
        "Read interventional data:"
      ]
    },
    {
      "cell_type": "code",
      "metadata": {
        "id": "71UcPR2I71pL"
      },
      "source": [
        "intv_data1_case3 = pd.read_csv('intv_data1_case3.csv', sep=',')\n",
        "intv_data1_case3 = intv_data1_case3.drop(['Unnamed: 0','EGFR','IGFR'], axis=1)\n",
        "intv_data2_case3 = pd.read_csv('intv_data2_case3.csv', sep=',')\n",
        "intv_data2_case3 = intv_data2_case3.drop(['Unnamed: 0','EGFR','IGFR'], axis=1)\n",
        "intv_data3_case3 = pd.read_csv('intv_data3_case3.csv', sep=',')\n",
        "intv_data3_case3 = intv_data3_case3.drop(['Unnamed: 0','EGFR','IGFR'], axis=1)\n",
        "intv_data4_case3 = pd.read_csv('intv_data4_case3.csv', sep=',')\n",
        "intv_data4_case3 = intv_data4_case3.drop(['Unnamed: 0','EGFR','IGFR'], axis=1)\n",
        "intv_data5_case3 = pd.read_csv('intv_data5_case3.csv', sep=',')\n",
        "intv_data5_case3 = intv_data5_case3.drop(['Unnamed: 0','EGFR','IGFR'], axis=1)\n",
        "intv_data6_case3 = pd.read_csv('intv_data6_case3.csv', sep=',')\n",
        "intv_data6_case3 = intv_data6_case3.drop(['Unnamed: 0','EGFR','IGFR'], axis=1)\n",
        "intv_data7_case3 = pd.read_csv('intv_data7_case3.csv', sep=',')\n",
        "intv_data7_case3 = intv_data7_case3.drop(['Unnamed: 0','EGFR','IGFR'], axis=1)\n",
        "intv_data8_case3 = pd.read_csv('intv_data8_case3.csv', sep=',')\n",
        "intv_data8_case3 = intv_data8_case3.drop(['Unnamed: 0','EGFR','IGFR'], axis=1)\n",
        "intv_data9_case3 = pd.read_csv('intv_data9_case3.csv', sep=',')\n",
        "intv_data9_case3 = intv_data9_case3.drop(['Unnamed: 0','EGFR','IGFR'], axis=1)\n",
        "intv_data10_case3 = pd.read_csv('intv_data10_case3.csv', sep=',')\n",
        "intv_data10_case3 = intv_data10_case3.drop(['Unnamed: 0','EGFR','IGFR'], axis=1)"
      ],
      "execution_count": null,
      "outputs": []
    },
    {
      "cell_type": "code",
      "metadata": {
        "id": "FRxjKAcS780z"
      },
      "source": [
        "intv_data_list_case3 = []\n",
        "intv_data_list_case3.append(intv_data1_case3)\n",
        "intv_data_list_case3.append(intv_data2_case3)\n",
        "intv_data_list_case3.append(intv_data3_case3)\n",
        "intv_data_list_case3.append(intv_data4_case3)\n",
        "intv_data_list_case3.append(intv_data5_case3)\n",
        "intv_data_list_case3.append(intv_data6_case3)\n",
        "intv_data_list_case3.append(intv_data7_case3)\n",
        "intv_data_list_case3.append(intv_data8_case3)\n",
        "intv_data_list_case3.append(intv_data9_case3)\n",
        "intv_data_list_case3.append(intv_data10_case3)"
      ],
      "execution_count": null,
      "outputs": []
    },
    {
      "cell_type": "markdown",
      "metadata": {
        "id": "uHYolVkR8ShG"
      },
      "source": [
        "## absolute average error (AAE)"
      ]
    },
    {
      "cell_type": "code",
      "metadata": {
        "id": "COcSqDQA8Wny"
      },
      "source": [
        "#1. IPW (ipw)\n",
        "#2. Outcome regression (gformula)\n",
        "#3. Generalized AIPW (aipw)\n",
        "#4. Efficient Generalized AIPW (eff-aipw) \n",
        "means_ipw_IGF_complete = [0]*10\n",
        "means_d_ipw_IGF_complete = [0]*10\n",
        "means_p_ipw_IGF_complete = [0]*10\n",
        "means_gformula_IGF_complete = [0]*10\n",
        "means_aipw_IGF_complete = [0]*10\n",
        "means_eff_aipw_IGF_complete = [0]*10\n",
        "means_list_ipw_IGF_complete = {}\n",
        "means_list_d_ipw_IGF_complete = {}\n",
        "means_list_p_ipw_IGF_complete = {}\n",
        "means_list_gformula_IGF_complete = {}\n",
        "means_list_aipw_IGF_complete = {}\n",
        "means_list_eff_aipw_IGF_complete = {}\n",
        "for num_data_points in [30,60,100,140,200]:\n",
        "  for i in range(0,10):\n",
        "  #True causal effect is:\n",
        "    True_IGF_complete = abs(intv_data_list_case3[i]['Erk'].mean() - obs_data_list_case3[i]['Erk'].mean())\n",
        "    data = obs_data_list_case3[i].iloc[0:num_data_points,]\n",
        "    ace_ipw_IGF_complete = ate_obj_IGF_complete.compute_effect(data, \"ipw\")\n",
        "    ace_d_ipw_IGF_complete = ate_obj_IGF_complete.compute_effect(data, \"d-ipw\")\n",
        "    ace_p_ipw_IGF_complete = ate_obj_IGF_complete.compute_effect(data, \"p-ipw\")\n",
        "    ace_gformula_IGF_complete = ate_obj_IGF_complete.compute_effect(data, \"gformula\")\n",
        "    ace_aipw_IGF_complete = ate_obj_IGF_complete.compute_effect(data, \"aipw\")\n",
        "    #ace_eff_aipw_IGF_complete = ate_obj_IGF_complete.compute_effect(data, \"eff-aipw\")\n",
        "    means_ipw_IGF_complete[i] = abs(True_IGF_complete - ace_ipw_IGF_complete)\n",
        "    means_d_ipw_IGF_complete[i] = abs(True_IGF_complete - ace_d_ipw_IGF_complete)\n",
        "    means_p_ipw_IGF_complete[i] = abs(True_IGF_complete - ace_p_ipw_IGF_complete)\n",
        "    means_gformula_IGF_complete[i] = abs(True_IGF_complete - ace_gformula_IGF_complete)\n",
        "    means_aipw_IGF_complete[i] = abs(True_IGF_complete - ace_aipw_IGF_complete)\n",
        "    #means_eff_aipw_IGF_complete[i] = abs(True_IGF_complete - ace_aipw_IGF_complete)\n",
        "  means_list_ipw_IGF_complete[num_data_points] = (means_ipw_IGF_complete)\n",
        "  means_ipw_IGF_complete = [0]*10\n",
        "  means_list_d_ipw_IGF_complete[num_data_points] = (means_d_ipw_IGF_complete)\n",
        "  means_d_ipw_IGF_complete = [0]*10\n",
        "  means_list_p_ipw_IGF_complete[num_data_points] = (means_p_ipw_IGF_complete)\n",
        "  means_p_ipw_IGF_complete = [0]*10\n",
        "  means_list_gformula_IGF_complete[num_data_points] = (means_gformula_IGF_complete)\n",
        "  means_gformula_IGF_complete = [0]*10\n",
        "  means_list_aipw_IGF_complete[num_data_points] = (means_aipw_IGF_complete)\n",
        "  means_aipw_IGF_complete = [0]*10\n",
        "  #means_list_eff_aipw_IGF_complete[num_data_points] = (means_eff_aipw_IGF_complete)\n",
        "  #means_eff_aipw_IGF_complete = [0]*10"
      ],
      "execution_count": null,
      "outputs": []
    },
    {
      "cell_type": "code",
      "metadata": {
        "id": "A-p2wmd8ioRM"
      },
      "source": [
        "df_ipw_IGF_complete = pd.DataFrame(data = means_list_ipw_IGF_complete )\n",
        "df_p_ipw_IGF_complete = pd.DataFrame(data = means_list_p_ipw_IGF_complete )\n",
        "df_d_ipw_IGF_complete = pd.DataFrame(data = means_list_d_ipw_IGF_complete )\n",
        "df_gformula_IGF_complete = pd.DataFrame(data = means_list_gformula_IGF_complete )\n",
        "df_aipw_IGF_complete = pd.DataFrame(data = means_list_aipw_IGF_complete )\n",
        "df_eff_aipw_IGF_complete = pd.DataFrame(data = means_list_eff_aipw_IGF_complete )"
      ],
      "execution_count": null,
      "outputs": []
    },
    {
      "cell_type": "code",
      "metadata": {
        "colab": {
          "base_uri": "https://localhost:8080/",
          "height": 359
        },
        "id": "8fl1Ci9oi8ca",
        "outputId": "0514df0f-4f75-4996-c9e0-ed164df8af2d"
      },
      "source": [
        "df_ipw_IGF_complete"
      ],
      "execution_count": null,
      "outputs": [
        {
          "output_type": "execute_result",
          "data": {
            "text/html": [
              "<div>\n",
              "<style scoped>\n",
              "    .dataframe tbody tr th:only-of-type {\n",
              "        vertical-align: middle;\n",
              "    }\n",
              "\n",
              "    .dataframe tbody tr th {\n",
              "        vertical-align: top;\n",
              "    }\n",
              "\n",
              "    .dataframe thead th {\n",
              "        text-align: right;\n",
              "    }\n",
              "</style>\n",
              "<table border=\"1\" class=\"dataframe\">\n",
              "  <thead>\n",
              "    <tr style=\"text-align: right;\">\n",
              "      <th></th>\n",
              "      <th>30</th>\n",
              "      <th>60</th>\n",
              "      <th>100</th>\n",
              "      <th>140</th>\n",
              "      <th>200</th>\n",
              "    </tr>\n",
              "  </thead>\n",
              "  <tbody>\n",
              "    <tr>\n",
              "      <th>0</th>\n",
              "      <td>0.492602</td>\n",
              "      <td>0.268633</td>\n",
              "      <td>1.058095</td>\n",
              "      <td>1.131055</td>\n",
              "      <td>0.615851</td>\n",
              "    </tr>\n",
              "    <tr>\n",
              "      <th>1</th>\n",
              "      <td>0.345704</td>\n",
              "      <td>2.117641</td>\n",
              "      <td>1.750564</td>\n",
              "      <td>71.105288</td>\n",
              "      <td>14.547530</td>\n",
              "    </tr>\n",
              "    <tr>\n",
              "      <th>2</th>\n",
              "      <td>0.074442</td>\n",
              "      <td>0.012395</td>\n",
              "      <td>0.425209</td>\n",
              "      <td>0.603406</td>\n",
              "      <td>0.516242</td>\n",
              "    </tr>\n",
              "    <tr>\n",
              "      <th>3</th>\n",
              "      <td>0.123176</td>\n",
              "      <td>0.073777</td>\n",
              "      <td>2.340060</td>\n",
              "      <td>0.005522</td>\n",
              "      <td>2.036088</td>\n",
              "    </tr>\n",
              "    <tr>\n",
              "      <th>4</th>\n",
              "      <td>0.804048</td>\n",
              "      <td>2.399488</td>\n",
              "      <td>4.539957</td>\n",
              "      <td>6.650082</td>\n",
              "      <td>1.493597</td>\n",
              "    </tr>\n",
              "    <tr>\n",
              "      <th>5</th>\n",
              "      <td>0.128611</td>\n",
              "      <td>0.088442</td>\n",
              "      <td>0.229108</td>\n",
              "      <td>0.072060</td>\n",
              "      <td>0.253429</td>\n",
              "    </tr>\n",
              "    <tr>\n",
              "      <th>6</th>\n",
              "      <td>1.572020</td>\n",
              "      <td>0.084568</td>\n",
              "      <td>0.419266</td>\n",
              "      <td>0.458372</td>\n",
              "      <td>0.906198</td>\n",
              "    </tr>\n",
              "    <tr>\n",
              "      <th>7</th>\n",
              "      <td>0.118964</td>\n",
              "      <td>0.012195</td>\n",
              "      <td>0.436638</td>\n",
              "      <td>0.108109</td>\n",
              "      <td>1.029301</td>\n",
              "    </tr>\n",
              "    <tr>\n",
              "      <th>8</th>\n",
              "      <td>0.825873</td>\n",
              "      <td>0.297901</td>\n",
              "      <td>0.522634</td>\n",
              "      <td>0.109342</td>\n",
              "      <td>0.240264</td>\n",
              "    </tr>\n",
              "    <tr>\n",
              "      <th>9</th>\n",
              "      <td>0.006592</td>\n",
              "      <td>0.018734</td>\n",
              "      <td>0.091704</td>\n",
              "      <td>0.251280</td>\n",
              "      <td>0.056813</td>\n",
              "    </tr>\n",
              "  </tbody>\n",
              "</table>\n",
              "</div>"
            ],
            "text/plain": [
              "        30        60        100        140        200\n",
              "0  0.492602  0.268633  1.058095   1.131055   0.615851\n",
              "1  0.345704  2.117641  1.750564  71.105288  14.547530\n",
              "2  0.074442  0.012395  0.425209   0.603406   0.516242\n",
              "3  0.123176  0.073777  2.340060   0.005522   2.036088\n",
              "4  0.804048  2.399488  4.539957   6.650082   1.493597\n",
              "5  0.128611  0.088442  0.229108   0.072060   0.253429\n",
              "6  1.572020  0.084568  0.419266   0.458372   0.906198\n",
              "7  0.118964  0.012195  0.436638   0.108109   1.029301\n",
              "8  0.825873  0.297901  0.522634   0.109342   0.240264\n",
              "9  0.006592  0.018734  0.091704   0.251280   0.056813"
            ]
          },
          "metadata": {
            "tags": []
          },
          "execution_count": 159
        }
      ]
    },
    {
      "cell_type": "code",
      "metadata": {
        "id": "tvxaqReAitNI"
      },
      "source": [
        "#df_p_ipw_case3.to_csv('df_p_ipw_case3.csv')\n",
        "#df_d_ipw_case3.to_csv('df_d_ipw_case3.csv')"
      ],
      "execution_count": null,
      "outputs": []
    },
    {
      "cell_type": "markdown",
      "metadata": {
        "id": "DkQat9kL5Izf"
      },
      "source": [
        "\n",
        "## Simplified model : Build graph 1"
      ]
    },
    {
      "cell_type": "code",
      "metadata": {
        "colab": {
          "base_uri": "https://localhost:8080/",
          "height": 110
        },
        "id": "MdfBHX9N2ce7",
        "outputId": "6a96a111-bf5f-4523-9ddf-a27f21c6c8f8"
      },
      "source": [
        "vertices_IGF_1 = ['AKT','PI3K','Erk']\n",
        "di_edges_IGF_1 = [('PI3K','AKT'),('AKT','Erk')]\n",
        "bi_edges_IGF_1 = [('PI3K','Erk')]\n",
        "IGF_1 = ADMG(vertices_IGF_1, di_edges_IGF_1, bi_edges_IGF_1)\n",
        "IGF_1.draw(direction='LR')"
      ],
      "execution_count": null,
      "outputs": [
        {
          "output_type": "execute_result",
          "data": {
            "text/plain": [
              "<graphviz.dot.Digraph at 0x7f04d10ce350>"
            ],
            "image/svg+xml": "<?xml version=\"1.0\" encoding=\"UTF-8\" standalone=\"no\"?>\n<!DOCTYPE svg PUBLIC \"-//W3C//DTD SVG 1.1//EN\"\n \"http://www.w3.org/Graphics/SVG/1.1/DTD/svg11.dtd\">\n<!-- Generated by graphviz version 2.40.1 (20161225.0304)\n -->\n<!-- Title: %3 Pages: 1 -->\n<svg width=\"212pt\" height=\"67pt\"\n viewBox=\"0.00 0.00 212.00 67.00\" xmlns=\"http://www.w3.org/2000/svg\" xmlns:xlink=\"http://www.w3.org/1999/xlink\">\n<g id=\"graph0\" class=\"graph\" transform=\"scale(1 1) rotate(0) translate(4 63)\">\n<title>%3</title>\n<polygon fill=\"#ffffff\" stroke=\"transparent\" points=\"-4,4 -4,-63 208,-63 208,4 -4,4\"/>\n<!-- AKT -->\n<g id=\"node1\" class=\"node\">\n<title>AKT</title>\n<text text-anchor=\"middle\" x=\"106.5\" y=\"-37.3\" font-family=\"Times,serif\" font-size=\"14.00\" fill=\"#000000\">AKT</text>\n</g>\n<!-- Erk -->\n<g id=\"node3\" class=\"node\">\n<title>Erk</title>\n<text text-anchor=\"middle\" x=\"185\" y=\"-14.3\" font-family=\"Times,serif\" font-size=\"14.00\" fill=\"#000000\">Erk</text>\n</g>\n<!-- AKT&#45;&gt;Erk -->\n<g id=\"edge1\" class=\"edge\">\n<title>AKT&#45;&gt;Erk</title>\n<path fill=\"none\" stroke=\"#0000ff\" d=\"M130.0526,-34.0992C138.2974,-31.6836 147.6486,-28.9437 156.2689,-26.418\"/>\n<polygon fill=\"#0000ff\" stroke=\"#0000ff\" points=\"157.3301,-29.7543 165.9426,-23.5837 155.3618,-23.0367 157.3301,-29.7543\"/>\n</g>\n<!-- PI3K -->\n<g id=\"node2\" class=\"node\">\n<title>PI3K</title>\n<text text-anchor=\"middle\" x=\"23.5\" y=\"-14.3\" font-family=\"Times,serif\" font-size=\"14.00\" fill=\"#000000\">PI3K</text>\n</g>\n<!-- PI3K&#45;&gt;AKT -->\n<g id=\"edge2\" class=\"edge\">\n<title>PI3K&#45;&gt;AKT</title>\n<path fill=\"none\" stroke=\"#0000ff\" d=\"M47.0625,-24.5294C55.1231,-26.763 64.3018,-29.3065 72.9941,-31.7152\"/>\n<polygon fill=\"#0000ff\" stroke=\"#0000ff\" points=\"72.3071,-35.1567 82.8786,-34.4543 74.1765,-28.4109 72.3071,-35.1567\"/>\n</g>\n<!-- PI3K&#45;&gt;Erk -->\n<g id=\"edge3\" class=\"edge\">\n<title>PI3K&#45;&gt;Erk</title>\n<path fill=\"none\" stroke=\"#ff0000\" d=\"M57.4133,-15.3251C65.7725,-14.7747 74.706,-14.2785 83,-14 103.8771,-13.299 109.1249,-13.2419 130,-14 138.409,-14.3054 147.5268,-14.8726 155.8757,-15.4858\"/>\n<polygon fill=\"#ff0000\" stroke=\"#ff0000\" points=\"56.9543,-11.8485 47.2233,-16.0388 57.4434,-18.8314 56.9543,-11.8485\"/>\n<polygon fill=\"#ff0000\" stroke=\"#ff0000\" points=\"155.6861,-18.9815 165.9283,-16.2709 156.2312,-12.0028 155.6861,-18.9815\"/>\n</g>\n</g>\n</svg>\n"
          },
          "metadata": {
            "tags": []
          },
          "execution_count": 12
        }
      ]
    },
    {
      "cell_type": "code",
      "metadata": {
        "colab": {
          "base_uri": "https://localhost:8080/"
        },
        "id": "jiejBhlE3Qhp",
        "outputId": "9d925e70-02c0-4706-b248-43b7f551aca2"
      },
      "source": [
        "one_id = OneLineID(graph=IGF_1, treatments=['PI3K'], outcomes=['Erk'])\n",
        "one_id.id()"
      ],
      "execution_count": null,
      "outputs": [
        {
          "output_type": "execute_result",
          "data": {
            "text/plain": [
              "True"
            ]
          },
          "metadata": {
            "tags": []
          },
          "execution_count": 13
        }
      ]
    },
    {
      "cell_type": "code",
      "metadata": {
        "colab": {
          "base_uri": "https://localhost:8080/"
        },
        "id": "2bQ9lxZN3ZDW",
        "outputId": "db0980b6-bf48-453d-bf18-9bd13b15057a"
      },
      "source": [
        "ate_obj_IGF_1 = CausalEffect(graph=IGF_1, treatment='PI3K', outcome='Erk')  # setting up the CausalEffect object\n",
        "ate_obj_IGF_1"
      ],
      "execution_count": null,
      "outputs": [
        {
          "output_type": "stream",
          "text": [
            "\n",
            " Treatment is p-fixable and graph is mb-shielded. \n",
            "\n",
            " Available estimators are:\n",
            "\n",
            "1. Primal IPW (p-ipw)\n",
            "2. Dual IPW (d-ipw)\n",
            "3. APIPW (apipw)\n",
            "4. Efficient APIPW (eff-apipw) \n",
            " \n",
            "Suggested estimator is Efficient APIPW \n",
            "\n"
          ],
          "name": "stdout"
        },
        {
          "output_type": "execute_result",
          "data": {
            "text/plain": [
              "<ananke.estimation.counterfactual_mean.CausalEffect at 0x7f04d1137e50>"
            ]
          },
          "metadata": {
            "tags": []
          },
          "execution_count": 14
        }
      ]
    },
    {
      "cell_type": "code",
      "metadata": {
        "colab": {
          "base_uri": "https://localhost:8080/"
        },
        "id": "6rGqUj-EDGMs",
        "outputId": "575ccf87-1878-4daf-9a36-d7513d154ee4"
      },
      "source": [
        "influence = AutomatedIF(IGF_1, 'PI3K', 'Erk')\n",
        "print(\"beta primal = \", influence.beta_primal_, \"\\n\")\n",
        "print(\"beta dual = \", influence.beta_dual_, \"\\n\")\n",
        "print(\"np-IF = \", influence.nonparametric_if_, \"\\n\")\n",
        "print(\"efficient IF = \\n\", influence.eff_if_, \"\\n\")"
      ],
      "execution_count": null,
      "outputs": [
        {
          "output_type": "stream",
          "text": [
            "\n",
            " Treatment is p-fixable and graph is mb-shielded. \n",
            "\n",
            " Available estimators are:\n",
            "\n",
            "1. Primal IPW (p-ipw)\n",
            "2. Dual IPW (d-ipw)\n",
            "3. APIPW (apipw)\n",
            "4. Efficient APIPW (eff-apipw) \n",
            " \n",
            "Suggested estimator is Efficient APIPW \n",
            "\n",
            "beta primal =  I(PI3K=pi3k) x 1/[p(PI3K)] x Σ_PI3K p(PI3K) x E[Erk|AKT,PI3K] \n",
            "\n",
            "beta dual =  [p(AKT|PI3K=pi3k)/p(AKT|PI3K)] x Erk \n",
            "\n",
            "np-IF =  E[βprimal|AKT,PI3K] - E[βprimal|PI3K] + E[βdual|PI3K] - E[βdual] + E[βdual|AKT,Erk,PI3K] - E[βdual|PI3K,AKT] \n",
            "\n",
            "efficient IF = \n",
            " E[βprimal|AKT,PI3K] - E[βprimal|PI3K] + E[βdual|PI3K] - E[βdual] + E[βdual|AKT,Erk,PI3K] - E[βdual|PI3K,AKT] \n",
            "\n"
          ],
          "name": "stdout"
        }
      ]
    },
    {
      "cell_type": "markdown",
      "metadata": {
        "id": "y4qBXVIRpc_X"
      },
      "source": [
        "## absolute average error (AAE)"
      ]
    },
    {
      "cell_type": "code",
      "metadata": {
        "id": "Uom2LesWpdzE"
      },
      "source": [
        "#1. Primal IPW (p-ipw)\n",
        "#2. Dual IPW (d-ipw)\n",
        "#3. APIPW (apipw)\n",
        "#4. Efficient APIPW (eff-apipw)\n",
        "means_p_ipw_IGF_1 = [0]*10\n",
        "means_d_ipw_IGF_1 = [0]*10\n",
        "means_apipw_IGF_1 = [0]*10\n",
        "means_eff_apipw_IGF_1 = [0]*10\n",
        "means_list_p_ipw_IGF_1 = {}\n",
        "means_list_d_ipw_IGF_1 = {}\n",
        "means_list_apipw_IGF_1 = {}\n",
        "means_list_eff_apipw_IGF_1 = {}\n",
        "for num_data_points in [30,60,100,140,200]:\n",
        "  for i in range(0,10):\n",
        "  #True causal effect is:\n",
        "    True_IGF_1 = abs(intv_data_list_case3[i]['Erk'].mean() - obs_data_list_case3[i]['Erk'].mean())\n",
        "    data = obs_data_list_case3[i].iloc[0:num_data_points,]\n",
        "    #data = data.drop(['SOS', 'Ras', 'Raf','Mek'], axis=1)\n",
        "    \n",
        "    ace_p_ipw_IGF_1 = ate_obj_IGF_1.compute_effect(data, \"p-ipw\")\n",
        "    ace_d_ipw_IGF_1 = ate_obj_IGF_1.compute_effect(data, \"d-ipw\")\n",
        "    #ace_apipw_IGF_1 = ate_obj_IGF_1.compute_effect(data, \"apipw\")\n",
        "    #ace_eff_apipw_IGF_1 = ate_obj_IGF_1.compute_effect(data, \"eff-apipw\")\n",
        "   \n",
        "    means_p_ipw_IGF_1[i] = abs(True_IGF_1 - ace_p_ipw_IGF_1)\n",
        "    means_d_ipw_IGF_1[i] = abs(True_IGF_1 - ace_d_ipw_IGF_1)\n",
        "    #means_apipw_IGF_1[i] = abs(True_IGF_1 - ace_apipw_IGF_1)\n",
        "    #means_eff_apipw_IGF_1[i] = abs(True_IGF_1 - ace_eff_apipw_IGF_1)\n",
        "\n",
        "  means_list_p_ipw_IGF_1[num_data_points] = (means_p_ipw_IGF_1)\n",
        "  means_p_ipw_IGF_1 = [0]*10\n",
        "  means_list_d_ipw_IGF_1[num_data_points] = (means_d_ipw_IGF_1)\n",
        "  means_d_ipw_IGF_1 = [0]*10\n",
        "  #means_list_apipw_IGF_1[num_data_points] = (means_apipw_IGF_1)\n",
        "  #means_apipw_IGF_1 = [0]*10\n",
        "  #means_list_eff_apipw_IGF_1[num_data_points] = (means_apipw_IGF_1)\n",
        "  #means_eff_apipw_IGF_1 = [0]*10"
      ],
      "execution_count": null,
      "outputs": []
    },
    {
      "cell_type": "code",
      "metadata": {
        "id": "1pL8qIImthRO"
      },
      "source": [
        "df_p_ipw_IGF_1 = pd.DataFrame(data = means_list_p_ipw_IGF_1)\n",
        "df_d_ipw_IGF_1 = pd.DataFrame(data = means_list_d_ipw_IGF_1)\n",
        "#df_apipw_IGF_1 = pd.DataFrame(data = means_list_apipw_IGF_1)\n",
        "#df_eff_apipw_IGF_1 = pd.DataFrame(data = means_list_eff_apipw_IGF_1)"
      ],
      "execution_count": null,
      "outputs": []
    },
    {
      "cell_type": "code",
      "metadata": {
        "colab": {
          "base_uri": "https://localhost:8080/",
          "height": 359
        },
        "id": "ouDK80DQtz2V",
        "outputId": "93c11bec-7c6d-4709-a857-c80e696e3088"
      },
      "source": [
        "df_d_ipw_IGF_1"
      ],
      "execution_count": null,
      "outputs": [
        {
          "output_type": "execute_result",
          "data": {
            "text/html": [
              "<div>\n",
              "<style scoped>\n",
              "    .dataframe tbody tr th:only-of-type {\n",
              "        vertical-align: middle;\n",
              "    }\n",
              "\n",
              "    .dataframe tbody tr th {\n",
              "        vertical-align: top;\n",
              "    }\n",
              "\n",
              "    .dataframe thead th {\n",
              "        text-align: right;\n",
              "    }\n",
              "</style>\n",
              "<table border=\"1\" class=\"dataframe\">\n",
              "  <thead>\n",
              "    <tr style=\"text-align: right;\">\n",
              "      <th></th>\n",
              "      <th>30</th>\n",
              "      <th>60</th>\n",
              "      <th>100</th>\n",
              "      <th>140</th>\n",
              "      <th>200</th>\n",
              "    </tr>\n",
              "  </thead>\n",
              "  <tbody>\n",
              "    <tr>\n",
              "      <th>0</th>\n",
              "      <td>0.492602</td>\n",
              "      <td>0.268633</td>\n",
              "      <td>1.058095</td>\n",
              "      <td>1.131055</td>\n",
              "      <td>0.615851</td>\n",
              "    </tr>\n",
              "    <tr>\n",
              "      <th>1</th>\n",
              "      <td>0.345704</td>\n",
              "      <td>2.117641</td>\n",
              "      <td>1.750564</td>\n",
              "      <td>71.105288</td>\n",
              "      <td>14.547530</td>\n",
              "    </tr>\n",
              "    <tr>\n",
              "      <th>2</th>\n",
              "      <td>0.074442</td>\n",
              "      <td>0.012395</td>\n",
              "      <td>0.425209</td>\n",
              "      <td>0.603406</td>\n",
              "      <td>0.516242</td>\n",
              "    </tr>\n",
              "    <tr>\n",
              "      <th>3</th>\n",
              "      <td>0.123176</td>\n",
              "      <td>0.073777</td>\n",
              "      <td>2.340060</td>\n",
              "      <td>0.005522</td>\n",
              "      <td>2.036088</td>\n",
              "    </tr>\n",
              "    <tr>\n",
              "      <th>4</th>\n",
              "      <td>0.804048</td>\n",
              "      <td>2.399488</td>\n",
              "      <td>4.539957</td>\n",
              "      <td>6.650082</td>\n",
              "      <td>1.493597</td>\n",
              "    </tr>\n",
              "    <tr>\n",
              "      <th>5</th>\n",
              "      <td>0.128611</td>\n",
              "      <td>0.088442</td>\n",
              "      <td>0.229108</td>\n",
              "      <td>0.072060</td>\n",
              "      <td>0.253429</td>\n",
              "    </tr>\n",
              "    <tr>\n",
              "      <th>6</th>\n",
              "      <td>1.572020</td>\n",
              "      <td>0.084568</td>\n",
              "      <td>0.419266</td>\n",
              "      <td>0.458372</td>\n",
              "      <td>0.906198</td>\n",
              "    </tr>\n",
              "    <tr>\n",
              "      <th>7</th>\n",
              "      <td>0.118964</td>\n",
              "      <td>0.012195</td>\n",
              "      <td>0.436638</td>\n",
              "      <td>0.108109</td>\n",
              "      <td>1.029301</td>\n",
              "    </tr>\n",
              "    <tr>\n",
              "      <th>8</th>\n",
              "      <td>0.825873</td>\n",
              "      <td>0.297901</td>\n",
              "      <td>0.522634</td>\n",
              "      <td>0.109342</td>\n",
              "      <td>0.240264</td>\n",
              "    </tr>\n",
              "    <tr>\n",
              "      <th>9</th>\n",
              "      <td>0.006592</td>\n",
              "      <td>0.018734</td>\n",
              "      <td>0.091704</td>\n",
              "      <td>0.251280</td>\n",
              "      <td>0.056813</td>\n",
              "    </tr>\n",
              "  </tbody>\n",
              "</table>\n",
              "</div>"
            ],
            "text/plain": [
              "        30        60        100        140        200\n",
              "0  0.492602  0.268633  1.058095   1.131055   0.615851\n",
              "1  0.345704  2.117641  1.750564  71.105288  14.547530\n",
              "2  0.074442  0.012395  0.425209   0.603406   0.516242\n",
              "3  0.123176  0.073777  2.340060   0.005522   2.036088\n",
              "4  0.804048  2.399488  4.539957   6.650082   1.493597\n",
              "5  0.128611  0.088442  0.229108   0.072060   0.253429\n",
              "6  1.572020  0.084568  0.419266   0.458372   0.906198\n",
              "7  0.118964  0.012195  0.436638   0.108109   1.029301\n",
              "8  0.825873  0.297901  0.522634   0.109342   0.240264\n",
              "9  0.006592  0.018734  0.091704   0.251280   0.056813"
            ]
          },
          "metadata": {
            "tags": []
          },
          "execution_count": 163
        }
      ]
    },
    {
      "cell_type": "code",
      "metadata": {
        "colab": {
          "base_uri": "https://localhost:8080/",
          "height": 359
        },
        "id": "zSANYXupBFFx",
        "outputId": "e08f28eb-f1d4-472f-c364-dc99210bd06c"
      },
      "source": [
        "df_d_ipw_IGF_complete"
      ],
      "execution_count": null,
      "outputs": [
        {
          "output_type": "execute_result",
          "data": {
            "text/html": [
              "<div>\n",
              "<style scoped>\n",
              "    .dataframe tbody tr th:only-of-type {\n",
              "        vertical-align: middle;\n",
              "    }\n",
              "\n",
              "    .dataframe tbody tr th {\n",
              "        vertical-align: top;\n",
              "    }\n",
              "\n",
              "    .dataframe thead th {\n",
              "        text-align: right;\n",
              "    }\n",
              "</style>\n",
              "<table border=\"1\" class=\"dataframe\">\n",
              "  <thead>\n",
              "    <tr style=\"text-align: right;\">\n",
              "      <th></th>\n",
              "      <th>30</th>\n",
              "      <th>60</th>\n",
              "      <th>100</th>\n",
              "      <th>140</th>\n",
              "      <th>200</th>\n",
              "    </tr>\n",
              "  </thead>\n",
              "  <tbody>\n",
              "    <tr>\n",
              "      <th>0</th>\n",
              "      <td>0.492602</td>\n",
              "      <td>0.268633</td>\n",
              "      <td>1.058095</td>\n",
              "      <td>1.131055</td>\n",
              "      <td>0.615851</td>\n",
              "    </tr>\n",
              "    <tr>\n",
              "      <th>1</th>\n",
              "      <td>0.345704</td>\n",
              "      <td>2.117641</td>\n",
              "      <td>1.750564</td>\n",
              "      <td>71.105288</td>\n",
              "      <td>14.547530</td>\n",
              "    </tr>\n",
              "    <tr>\n",
              "      <th>2</th>\n",
              "      <td>0.074442</td>\n",
              "      <td>0.012395</td>\n",
              "      <td>0.425209</td>\n",
              "      <td>0.603406</td>\n",
              "      <td>0.516242</td>\n",
              "    </tr>\n",
              "    <tr>\n",
              "      <th>3</th>\n",
              "      <td>0.123176</td>\n",
              "      <td>0.073777</td>\n",
              "      <td>2.340060</td>\n",
              "      <td>0.005522</td>\n",
              "      <td>2.036088</td>\n",
              "    </tr>\n",
              "    <tr>\n",
              "      <th>4</th>\n",
              "      <td>0.804048</td>\n",
              "      <td>2.399488</td>\n",
              "      <td>4.539957</td>\n",
              "      <td>6.650082</td>\n",
              "      <td>1.493597</td>\n",
              "    </tr>\n",
              "    <tr>\n",
              "      <th>5</th>\n",
              "      <td>0.128611</td>\n",
              "      <td>0.088442</td>\n",
              "      <td>0.229108</td>\n",
              "      <td>0.072060</td>\n",
              "      <td>0.253429</td>\n",
              "    </tr>\n",
              "    <tr>\n",
              "      <th>6</th>\n",
              "      <td>1.572020</td>\n",
              "      <td>0.084568</td>\n",
              "      <td>0.419266</td>\n",
              "      <td>0.458372</td>\n",
              "      <td>0.906198</td>\n",
              "    </tr>\n",
              "    <tr>\n",
              "      <th>7</th>\n",
              "      <td>0.118964</td>\n",
              "      <td>0.012195</td>\n",
              "      <td>0.436638</td>\n",
              "      <td>0.108109</td>\n",
              "      <td>1.029301</td>\n",
              "    </tr>\n",
              "    <tr>\n",
              "      <th>8</th>\n",
              "      <td>0.825873</td>\n",
              "      <td>0.297901</td>\n",
              "      <td>0.522634</td>\n",
              "      <td>0.109342</td>\n",
              "      <td>0.240264</td>\n",
              "    </tr>\n",
              "    <tr>\n",
              "      <th>9</th>\n",
              "      <td>0.006592</td>\n",
              "      <td>0.018734</td>\n",
              "      <td>0.091704</td>\n",
              "      <td>0.251280</td>\n",
              "      <td>0.056813</td>\n",
              "    </tr>\n",
              "  </tbody>\n",
              "</table>\n",
              "</div>"
            ],
            "text/plain": [
              "        30        60        100        140        200\n",
              "0  0.492602  0.268633  1.058095   1.131055   0.615851\n",
              "1  0.345704  2.117641  1.750564  71.105288  14.547530\n",
              "2  0.074442  0.012395  0.425209   0.603406   0.516242\n",
              "3  0.123176  0.073777  2.340060   0.005522   2.036088\n",
              "4  0.804048  2.399488  4.539957   6.650082   1.493597\n",
              "5  0.128611  0.088442  0.229108   0.072060   0.253429\n",
              "6  1.572020  0.084568  0.419266   0.458372   0.906198\n",
              "7  0.118964  0.012195  0.436638   0.108109   1.029301\n",
              "8  0.825873  0.297901  0.522634   0.109342   0.240264\n",
              "9  0.006592  0.018734  0.091704   0.251280   0.056813"
            ]
          },
          "metadata": {
            "tags": []
          },
          "execution_count": 164
        }
      ]
    },
    {
      "cell_type": "markdown",
      "metadata": {
        "id": "5AzXwRFoDdmF"
      },
      "source": [
        "## Build graph 2"
      ]
    },
    {
      "cell_type": "code",
      "metadata": {
        "colab": {
          "base_uri": "https://localhost:8080/",
          "height": 110
        },
        "id": "0FL9hwQ6DjJP",
        "outputId": "57380875-75d7-45be-b42b-5315d8238a63"
      },
      "source": [
        "vertices_IGF_2 = ['Ras','PI3K','Erk']\n",
        "di_edges_IGF_2 = [('PI3K','Erk'),('Ras','Erk'),('Ras','PI3K')]\n",
        "bi_edges_IGF_2 = [('PI3K','Ras')]\n",
        "IGF_2 = ADMG(vertices_IGF_2, di_edges_IGF_2, bi_edges_IGF_2)\n",
        "IGF_2.draw(direction='LR')"
      ],
      "execution_count": null,
      "outputs": [
        {
          "output_type": "execute_result",
          "data": {
            "text/plain": [
              "<graphviz.dot.Digraph at 0x7f04d0d49a50>"
            ],
            "image/svg+xml": "<?xml version=\"1.0\" encoding=\"UTF-8\" standalone=\"no\"?>\n<!DOCTYPE svg PUBLIC \"-//W3C//DTD SVG 1.1//EN\"\n \"http://www.w3.org/Graphics/SVG/1.1/DTD/svg11.dtd\">\n<!-- Generated by graphviz version 2.40.1 (20161225.0304)\n -->\n<!-- Title: %3 Pages: 1 -->\n<svg width=\"203pt\" height=\"67pt\"\n viewBox=\"0.00 0.00 203.00 67.00\" xmlns=\"http://www.w3.org/2000/svg\" xmlns:xlink=\"http://www.w3.org/1999/xlink\">\n<g id=\"graph0\" class=\"graph\" transform=\"scale(1 1) rotate(0) translate(4 63)\">\n<title>%3</title>\n<polygon fill=\"#ffffff\" stroke=\"transparent\" points=\"-4,4 -4,-63 199,-63 199,4 -4,4\"/>\n<!-- Ras -->\n<g id=\"node1\" class=\"node\">\n<title>Ras</title>\n<text text-anchor=\"middle\" x=\"19\" y=\"-37.3\" font-family=\"Times,serif\" font-size=\"14.00\" fill=\"#000000\">Ras</text>\n</g>\n<!-- PI3K -->\n<g id=\"node2\" class=\"node\">\n<title>PI3K</title>\n<text text-anchor=\"middle\" x=\"97.5\" y=\"-37.3\" font-family=\"Times,serif\" font-size=\"14.00\" fill=\"#000000\">PI3K</text>\n</g>\n<!-- Ras&#45;&gt;PI3K -->\n<g id=\"edge2\" class=\"edge\">\n<title>Ras&#45;&gt;PI3K</title>\n<path fill=\"none\" stroke=\"#0000ff\" d=\"M38.0027,-35.1218C45.7647,-34.3873 54.9816,-34.1169 63.8147,-34.3107\"/>\n<polygon fill=\"#0000ff\" stroke=\"#0000ff\" points=\"63.7542,-37.8113 73.8975,-34.7513 64.0599,-30.8179 63.7542,-37.8113\"/>\n</g>\n<!-- Erk -->\n<g id=\"node3\" class=\"node\">\n<title>Erk</title>\n<text text-anchor=\"middle\" x=\"176\" y=\"-14.3\" font-family=\"Times,serif\" font-size=\"14.00\" fill=\"#000000\">Erk</text>\n</g>\n<!-- Ras&#45;&gt;Erk -->\n<g id=\"edge1\" class=\"edge\">\n<title>Ras&#45;&gt;Erk</title>\n<path fill=\"none\" stroke=\"#0000ff\" d=\"M38.0418,-28.9643C48.2754,-23.2051 61.3591,-16.9355 74,-14 98.1083,-8.4016 126.2687,-10.1018 146.8852,-12.8035\"/>\n<polygon fill=\"#0000ff\" stroke=\"#0000ff\" points=\"146.5154,-16.2867 156.9173,-14.2743 147.5308,-9.3607 146.5154,-16.2867\"/>\n</g>\n<!-- PI3K&#45;&gt;Ras -->\n<g id=\"edge4\" class=\"edge\">\n<title>PI3K&#45;&gt;Ras</title>\n<path fill=\"none\" stroke=\"#ff0000\" d=\"M63.6526,-47.6928C58.5193,-47.8021 53.2603,-47.7547 48.2359,-47.5508\"/>\n<polygon fill=\"#ff0000\" stroke=\"#ff0000\" points=\"64.0585,-51.1786 73.8975,-47.2487 63.7553,-44.1852 64.0585,-51.1786\"/>\n<polygon fill=\"#ff0000\" stroke=\"#ff0000\" points=\"48.2107,-44.0417 38.0027,-46.8782 47.7516,-51.0266 48.2107,-44.0417\"/>\n</g>\n<!-- PI3K&#45;&gt;Erk -->\n<g id=\"edge3\" class=\"edge\">\n<title>PI3K&#45;&gt;Erk</title>\n<path fill=\"none\" stroke=\"#0000ff\" d=\"M121.0526,-34.0992C129.2974,-31.6836 138.6486,-28.9437 147.2689,-26.418\"/>\n<polygon fill=\"#0000ff\" stroke=\"#0000ff\" points=\"148.3301,-29.7543 156.9426,-23.5837 146.3618,-23.0367 148.3301,-29.7543\"/>\n</g>\n</g>\n</svg>\n"
          },
          "metadata": {
            "tags": []
          },
          "execution_count": 17
        }
      ]
    },
    {
      "cell_type": "code",
      "metadata": {
        "colab": {
          "base_uri": "https://localhost:8080/"
        },
        "id": "L5ts-W6lF1IK",
        "outputId": "89fb3615-f18a-48ae-cd12-d4ac9850480b"
      },
      "source": [
        "one_id = OneLineID(graph=IGF_2, treatments=['PI3K'], outcomes=['Erk'])\n",
        "one_id.id()"
      ],
      "execution_count": null,
      "outputs": [
        {
          "output_type": "execute_result",
          "data": {
            "text/plain": [
              "True"
            ]
          },
          "metadata": {
            "tags": []
          },
          "execution_count": 18
        }
      ]
    },
    {
      "cell_type": "code",
      "metadata": {
        "colab": {
          "base_uri": "https://localhost:8080/"
        },
        "id": "AtdVj4S8F4lP",
        "outputId": "bcc55224-8421-4363-e120-6643fb46bd7c"
      },
      "source": [
        "ate_obj_IGF_2 = CausalEffect(graph=IGF_2, treatment='PI3K', outcome='Erk')  # setting up the CausalEffect object\n",
        "ate_obj_IGF_2"
      ],
      "execution_count": null,
      "outputs": [
        {
          "output_type": "stream",
          "text": [
            "\n",
            " Treatment is a-fixable and graph is mb-shielded. \n",
            "\n",
            " Available estimators are:\n",
            " \n",
            "1. IPW (ipw)\n",
            "2. Outcome regression (gformula)\n",
            "3. Generalized AIPW (aipw)\n",
            "4. Efficient Generalized AIPW (eff-aipw) \n",
            " \n",
            "Suggested estimator is Efficient Generalized AIPW \n",
            "\n"
          ],
          "name": "stdout"
        },
        {
          "output_type": "execute_result",
          "data": {
            "text/plain": [
              "<ananke.estimation.counterfactual_mean.CausalEffect at 0x7f04c8cf8c50>"
            ]
          },
          "metadata": {
            "tags": []
          },
          "execution_count": 19
        }
      ]
    },
    {
      "cell_type": "code",
      "metadata": {
        "colab": {
          "base_uri": "https://localhost:8080/"
        },
        "id": "RPq1_GYIDQZW",
        "outputId": "32229a8b-b4db-4f2e-89ed-85bf72826b09"
      },
      "source": [
        "influence = AutomatedIF(IGF_2, 'PI3K', 'Erk')\n",
        "print(\"beta primal = \", influence.beta_primal_, \"\\n\")\n",
        "print(\"beta dual = \", influence.beta_dual_, \"\\n\")\n",
        "print(\"np-IF = \", influence.nonparametric_if_, \"\\n\")\n",
        "print(\"efficient IF = \\n\", influence.eff_if_, \"\\n\")"
      ],
      "execution_count": null,
      "outputs": [
        {
          "output_type": "stream",
          "text": [
            "\n",
            " Treatment is a-fixable and graph is mb-shielded. \n",
            "\n",
            " Available estimators are:\n",
            " \n",
            "1. IPW (ipw)\n",
            "2. Outcome regression (gformula)\n",
            "3. Generalized AIPW (aipw)\n",
            "4. Efficient Generalized AIPW (eff-aipw) \n",
            " \n",
            "Suggested estimator is Efficient Generalized AIPW \n",
            "\n",
            "beta primal =  I(PI3K=pi3k) x 1/p(PI3K|Ras) x Erk \n",
            "\n",
            "beta dual =  E[Erk|Ras,PI3K=pi3k] \n",
            "\n",
            "np-IF =  I(PI3K=pi3k) x 1/p(PI3K|Ras) x (Erk - E[Erk|Ras,PI3K=pi3k]) + E[Erk|Ras,PI3K=pi3k] - Ψ \n",
            "\n",
            "efficient IF = \n",
            " I(PI3K=pi3k) x 1/p(PI3K|Ras) x (Erk - E[Erk|Ras,PI3K=pi3k]) + E[Erk|Ras,PI3K=pi3k] - Ψ \n",
            "\n"
          ],
          "name": "stdout"
        }
      ]
    },
    {
      "cell_type": "markdown",
      "metadata": {
        "id": "jR2n88Ig38GS"
      },
      "source": [
        "## absolute average error (AAE)"
      ]
    },
    {
      "cell_type": "code",
      "metadata": {
        "id": "cpgKwsab39Om"
      },
      "source": [
        "#1. IPW (ipw)\n",
        "#2. Outcome regression (gformula)\n",
        "#3. Generalized AIPW (aipw)\n",
        "#4. Efficient Generalized AIPW (eff-aipw) \n",
        "means_p_ipw_IGF_2 = [0]*10\n",
        "means_d_ipw_IGF_2 = [0]*10\n",
        "means_aipw_IGF_2 = [0]*10\n",
        "means_eff_aipw_IGF_2 = [0]*10\n",
        "means_list_p_ipw_IGF_2 = {}\n",
        "means_list_d_ipw_IGF_2 = {}\n",
        "means_list_aipw_IGF_2 = {}\n",
        "means_list_eff_aipw_IGF_2 = {}\n",
        "for num_data_points in [30,60,100,140,200]:\n",
        "  for i in range(0,10):\n",
        "  #True causal effect is:\n",
        "    True_IGF_2 = abs(intv_data_list_case3[i]['Erk'].mean() - obs_data_list_case3[i]['Erk'].mean())\n",
        "    data = obs_data_list_case3[i].iloc[0:num_data_points,]\n",
        "    #data = data.drop(['SOS', 'AKT', 'Raf','Mek'], axis=1)\n",
        "    ace_p_ipw_IGF_2 = ate_obj_IGF_2.compute_effect(data, \"p-ipw\")\n",
        "    ace_d_ipw_IGF_2 = ate_obj_IGF_2.compute_effect(data, \"d-ipw\")\n",
        "    #ace_aipw_IGF_2 = ate_obj_IGF_2.compute_effect(data, \"aipw\")\n",
        "    #ace_eff_aipw_IGF_2 = ate_obj_IGF_2.compute_effect(data, \"eff-aipw\")\n",
        "    means_p_ipw_IGF_2[i] = abs(True_IGF_2 - ace_p_ipw_IGF_2)\n",
        "    means_d_ipw_IGF_2[i] = abs(True_IGF_2 - ace_d_ipw_IGF_2)\n",
        "    #means_aipw_IGF_2[i] = abs(True_IGF_2 - ace_aipw_IGF_2)\n",
        "    #means_eff_aipw_IGF_2[i] = abs(True_IGF_2 - ace_eff_aipw_IGF_2)\n",
        "  means_list_p_ipw_IGF_2[num_data_points] = (means_p_ipw_IGF_2)\n",
        "  means_p_ipw_IGF_2 = [0]*10\n",
        "  means_list_d_ipw_IGF_2[num_data_points] = (means_d_ipw_IGF_2)\n",
        "  means_d_ipw_IGF_2 = [0]*10\n",
        "  #means_list_aipw_IGF_2[num_data_points] = (means_aipw_IGF_2)\n",
        "  #means_aipw_IGF_2 = [0]*10\n",
        "  #means_list_eff_aipw_IGF_2[num_data_points] = (means_aipw_IGF_2)\n",
        "  #means_eff_aipw_IGF_2 = [0]*10"
      ],
      "execution_count": null,
      "outputs": []
    },
    {
      "cell_type": "code",
      "metadata": {
        "id": "R0Xwb40X4FQT"
      },
      "source": [
        "df_p_ipw_IGF_2 = pd.DataFrame(data = means_list_p_ipw_IGF_2)\n",
        "df_d_ipw_IGF_2 = pd.DataFrame(data = means_list_d_ipw_IGF_2)\n",
        "#df_apipw_IGF_2 = pd.DataFrame(data = means_list_apipw_IGF_2)\n",
        "#df_eff_apipw_IGF_2 = pd.DataFrame(data = means_list_eff_apipw_IGF_2)"
      ],
      "execution_count": null,
      "outputs": []
    },
    {
      "cell_type": "code",
      "metadata": {
        "colab": {
          "base_uri": "https://localhost:8080/",
          "height": 359
        },
        "id": "U95YuEDpAaA6",
        "outputId": "8789aaf3-fbc3-4bdd-961b-9c9ce75fc2bf"
      },
      "source": [
        "df_d_ipw_IGF_2"
      ],
      "execution_count": null,
      "outputs": [
        {
          "output_type": "execute_result",
          "data": {
            "text/html": [
              "<div>\n",
              "<style scoped>\n",
              "    .dataframe tbody tr th:only-of-type {\n",
              "        vertical-align: middle;\n",
              "    }\n",
              "\n",
              "    .dataframe tbody tr th {\n",
              "        vertical-align: top;\n",
              "    }\n",
              "\n",
              "    .dataframe thead th {\n",
              "        text-align: right;\n",
              "    }\n",
              "</style>\n",
              "<table border=\"1\" class=\"dataframe\">\n",
              "  <thead>\n",
              "    <tr style=\"text-align: right;\">\n",
              "      <th></th>\n",
              "      <th>30</th>\n",
              "      <th>60</th>\n",
              "      <th>100</th>\n",
              "      <th>140</th>\n",
              "      <th>200</th>\n",
              "    </tr>\n",
              "  </thead>\n",
              "  <tbody>\n",
              "    <tr>\n",
              "      <th>0</th>\n",
              "      <td>0.142045</td>\n",
              "      <td>0.144565</td>\n",
              "      <td>0.176001</td>\n",
              "      <td>0.216930</td>\n",
              "      <td>0.208558</td>\n",
              "    </tr>\n",
              "    <tr>\n",
              "      <th>1</th>\n",
              "      <td>0.264202</td>\n",
              "      <td>0.243194</td>\n",
              "      <td>0.229595</td>\n",
              "      <td>0.229497</td>\n",
              "      <td>0.202959</td>\n",
              "    </tr>\n",
              "    <tr>\n",
              "      <th>2</th>\n",
              "      <td>0.005009</td>\n",
              "      <td>0.082427</td>\n",
              "      <td>0.064626</td>\n",
              "      <td>0.069417</td>\n",
              "      <td>0.098225</td>\n",
              "    </tr>\n",
              "    <tr>\n",
              "      <th>3</th>\n",
              "      <td>0.201509</td>\n",
              "      <td>0.019858</td>\n",
              "      <td>0.090418</td>\n",
              "      <td>0.150451</td>\n",
              "      <td>0.116483</td>\n",
              "    </tr>\n",
              "    <tr>\n",
              "      <th>4</th>\n",
              "      <td>0.261476</td>\n",
              "      <td>0.249549</td>\n",
              "      <td>0.267557</td>\n",
              "      <td>0.264356</td>\n",
              "      <td>0.247785</td>\n",
              "    </tr>\n",
              "    <tr>\n",
              "      <th>5</th>\n",
              "      <td>0.122549</td>\n",
              "      <td>0.212747</td>\n",
              "      <td>0.189479</td>\n",
              "      <td>0.190696</td>\n",
              "      <td>0.190401</td>\n",
              "    </tr>\n",
              "    <tr>\n",
              "      <th>6</th>\n",
              "      <td>0.092470</td>\n",
              "      <td>0.066745</td>\n",
              "      <td>0.132290</td>\n",
              "      <td>0.093357</td>\n",
              "      <td>0.068903</td>\n",
              "    </tr>\n",
              "    <tr>\n",
              "      <th>7</th>\n",
              "      <td>0.059720</td>\n",
              "      <td>0.080354</td>\n",
              "      <td>0.142517</td>\n",
              "      <td>0.124914</td>\n",
              "      <td>0.131993</td>\n",
              "    </tr>\n",
              "    <tr>\n",
              "      <th>8</th>\n",
              "      <td>0.164571</td>\n",
              "      <td>0.047726</td>\n",
              "      <td>0.031918</td>\n",
              "      <td>0.031442</td>\n",
              "      <td>0.090515</td>\n",
              "    </tr>\n",
              "    <tr>\n",
              "      <th>9</th>\n",
              "      <td>0.086046</td>\n",
              "      <td>0.024095</td>\n",
              "      <td>0.008499</td>\n",
              "      <td>0.005219</td>\n",
              "      <td>0.011716</td>\n",
              "    </tr>\n",
              "  </tbody>\n",
              "</table>\n",
              "</div>"
            ],
            "text/plain": [
              "        30        60        100       140       200\n",
              "0  0.142045  0.144565  0.176001  0.216930  0.208558\n",
              "1  0.264202  0.243194  0.229595  0.229497  0.202959\n",
              "2  0.005009  0.082427  0.064626  0.069417  0.098225\n",
              "3  0.201509  0.019858  0.090418  0.150451  0.116483\n",
              "4  0.261476  0.249549  0.267557  0.264356  0.247785\n",
              "5  0.122549  0.212747  0.189479  0.190696  0.190401\n",
              "6  0.092470  0.066745  0.132290  0.093357  0.068903\n",
              "7  0.059720  0.080354  0.142517  0.124914  0.131993\n",
              "8  0.164571  0.047726  0.031918  0.031442  0.090515\n",
              "9  0.086046  0.024095  0.008499  0.005219  0.011716"
            ]
          },
          "metadata": {
            "tags": []
          },
          "execution_count": 165
        }
      ]
    },
    {
      "cell_type": "code",
      "metadata": {
        "colab": {
          "base_uri": "https://localhost:8080/",
          "height": 359
        },
        "id": "XTEhasakGJEO",
        "outputId": "820f24d0-ed6a-4917-acdf-b3e5cd9375f7"
      },
      "source": [
        "df_d_ipw_IGF_1"
      ],
      "execution_count": null,
      "outputs": [
        {
          "output_type": "execute_result",
          "data": {
            "text/html": [
              "<div>\n",
              "<style scoped>\n",
              "    .dataframe tbody tr th:only-of-type {\n",
              "        vertical-align: middle;\n",
              "    }\n",
              "\n",
              "    .dataframe tbody tr th {\n",
              "        vertical-align: top;\n",
              "    }\n",
              "\n",
              "    .dataframe thead th {\n",
              "        text-align: right;\n",
              "    }\n",
              "</style>\n",
              "<table border=\"1\" class=\"dataframe\">\n",
              "  <thead>\n",
              "    <tr style=\"text-align: right;\">\n",
              "      <th></th>\n",
              "      <th>30</th>\n",
              "      <th>60</th>\n",
              "      <th>100</th>\n",
              "      <th>140</th>\n",
              "      <th>200</th>\n",
              "    </tr>\n",
              "  </thead>\n",
              "  <tbody>\n",
              "    <tr>\n",
              "      <th>0</th>\n",
              "      <td>0.492602</td>\n",
              "      <td>0.268633</td>\n",
              "      <td>1.058095</td>\n",
              "      <td>1.131055</td>\n",
              "      <td>0.615851</td>\n",
              "    </tr>\n",
              "    <tr>\n",
              "      <th>1</th>\n",
              "      <td>0.345704</td>\n",
              "      <td>2.117641</td>\n",
              "      <td>1.750564</td>\n",
              "      <td>71.105288</td>\n",
              "      <td>14.547530</td>\n",
              "    </tr>\n",
              "    <tr>\n",
              "      <th>2</th>\n",
              "      <td>0.074442</td>\n",
              "      <td>0.012395</td>\n",
              "      <td>0.425209</td>\n",
              "      <td>0.603406</td>\n",
              "      <td>0.516242</td>\n",
              "    </tr>\n",
              "    <tr>\n",
              "      <th>3</th>\n",
              "      <td>0.123176</td>\n",
              "      <td>0.073777</td>\n",
              "      <td>2.340060</td>\n",
              "      <td>0.005522</td>\n",
              "      <td>2.036088</td>\n",
              "    </tr>\n",
              "    <tr>\n",
              "      <th>4</th>\n",
              "      <td>0.804048</td>\n",
              "      <td>2.399488</td>\n",
              "      <td>4.539957</td>\n",
              "      <td>6.650082</td>\n",
              "      <td>1.493597</td>\n",
              "    </tr>\n",
              "    <tr>\n",
              "      <th>5</th>\n",
              "      <td>0.128611</td>\n",
              "      <td>0.088442</td>\n",
              "      <td>0.229108</td>\n",
              "      <td>0.072060</td>\n",
              "      <td>0.253429</td>\n",
              "    </tr>\n",
              "    <tr>\n",
              "      <th>6</th>\n",
              "      <td>1.572020</td>\n",
              "      <td>0.084568</td>\n",
              "      <td>0.419266</td>\n",
              "      <td>0.458372</td>\n",
              "      <td>0.906198</td>\n",
              "    </tr>\n",
              "    <tr>\n",
              "      <th>7</th>\n",
              "      <td>0.118964</td>\n",
              "      <td>0.012195</td>\n",
              "      <td>0.436638</td>\n",
              "      <td>0.108109</td>\n",
              "      <td>1.029301</td>\n",
              "    </tr>\n",
              "    <tr>\n",
              "      <th>8</th>\n",
              "      <td>0.825873</td>\n",
              "      <td>0.297901</td>\n",
              "      <td>0.522634</td>\n",
              "      <td>0.109342</td>\n",
              "      <td>0.240264</td>\n",
              "    </tr>\n",
              "    <tr>\n",
              "      <th>9</th>\n",
              "      <td>0.006592</td>\n",
              "      <td>0.018734</td>\n",
              "      <td>0.091704</td>\n",
              "      <td>0.251280</td>\n",
              "      <td>0.056813</td>\n",
              "    </tr>\n",
              "  </tbody>\n",
              "</table>\n",
              "</div>"
            ],
            "text/plain": [
              "        30        60        100        140        200\n",
              "0  0.492602  0.268633  1.058095   1.131055   0.615851\n",
              "1  0.345704  2.117641  1.750564  71.105288  14.547530\n",
              "2  0.074442  0.012395  0.425209   0.603406   0.516242\n",
              "3  0.123176  0.073777  2.340060   0.005522   2.036088\n",
              "4  0.804048  2.399488  4.539957   6.650082   1.493597\n",
              "5  0.128611  0.088442  0.229108   0.072060   0.253429\n",
              "6  1.572020  0.084568  0.419266   0.458372   0.906198\n",
              "7  0.118964  0.012195  0.436638   0.108109   1.029301\n",
              "8  0.825873  0.297901  0.522634   0.109342   0.240264\n",
              "9  0.006592  0.018734  0.091704   0.251280   0.056813"
            ]
          },
          "metadata": {
            "tags": []
          },
          "execution_count": 125
        }
      ]
    },
    {
      "cell_type": "code",
      "metadata": {
        "colab": {
          "base_uri": "https://localhost:8080/",
          "height": 359
        },
        "id": "OmwwxopFGJZq",
        "outputId": "6fe4f121-5291-4dfc-8eb2-70b78d4e740a"
      },
      "source": [
        "df_d_ipw_IGF_complete"
      ],
      "execution_count": null,
      "outputs": [
        {
          "output_type": "execute_result",
          "data": {
            "text/html": [
              "<div>\n",
              "<style scoped>\n",
              "    .dataframe tbody tr th:only-of-type {\n",
              "        vertical-align: middle;\n",
              "    }\n",
              "\n",
              "    .dataframe tbody tr th {\n",
              "        vertical-align: top;\n",
              "    }\n",
              "\n",
              "    .dataframe thead th {\n",
              "        text-align: right;\n",
              "    }\n",
              "</style>\n",
              "<table border=\"1\" class=\"dataframe\">\n",
              "  <thead>\n",
              "    <tr style=\"text-align: right;\">\n",
              "      <th></th>\n",
              "      <th>30</th>\n",
              "      <th>60</th>\n",
              "      <th>100</th>\n",
              "      <th>140</th>\n",
              "      <th>200</th>\n",
              "    </tr>\n",
              "  </thead>\n",
              "  <tbody>\n",
              "    <tr>\n",
              "      <th>0</th>\n",
              "      <td>0.492602</td>\n",
              "      <td>0.268633</td>\n",
              "      <td>1.058095</td>\n",
              "      <td>1.131055</td>\n",
              "      <td>0.615851</td>\n",
              "    </tr>\n",
              "    <tr>\n",
              "      <th>1</th>\n",
              "      <td>0.345704</td>\n",
              "      <td>2.117641</td>\n",
              "      <td>1.750564</td>\n",
              "      <td>71.105288</td>\n",
              "      <td>14.547530</td>\n",
              "    </tr>\n",
              "    <tr>\n",
              "      <th>2</th>\n",
              "      <td>0.074442</td>\n",
              "      <td>0.012395</td>\n",
              "      <td>0.425209</td>\n",
              "      <td>0.603406</td>\n",
              "      <td>0.516242</td>\n",
              "    </tr>\n",
              "    <tr>\n",
              "      <th>3</th>\n",
              "      <td>0.123176</td>\n",
              "      <td>0.073777</td>\n",
              "      <td>2.340060</td>\n",
              "      <td>0.005522</td>\n",
              "      <td>2.036088</td>\n",
              "    </tr>\n",
              "    <tr>\n",
              "      <th>4</th>\n",
              "      <td>0.804048</td>\n",
              "      <td>2.399488</td>\n",
              "      <td>4.539957</td>\n",
              "      <td>6.650082</td>\n",
              "      <td>1.493597</td>\n",
              "    </tr>\n",
              "    <tr>\n",
              "      <th>5</th>\n",
              "      <td>0.128611</td>\n",
              "      <td>0.088442</td>\n",
              "      <td>0.229108</td>\n",
              "      <td>0.072060</td>\n",
              "      <td>0.253429</td>\n",
              "    </tr>\n",
              "    <tr>\n",
              "      <th>6</th>\n",
              "      <td>1.572020</td>\n",
              "      <td>0.084568</td>\n",
              "      <td>0.419266</td>\n",
              "      <td>0.458372</td>\n",
              "      <td>0.906198</td>\n",
              "    </tr>\n",
              "    <tr>\n",
              "      <th>7</th>\n",
              "      <td>0.118964</td>\n",
              "      <td>0.012195</td>\n",
              "      <td>0.436638</td>\n",
              "      <td>0.108109</td>\n",
              "      <td>1.029301</td>\n",
              "    </tr>\n",
              "    <tr>\n",
              "      <th>8</th>\n",
              "      <td>0.825873</td>\n",
              "      <td>0.297901</td>\n",
              "      <td>0.522634</td>\n",
              "      <td>0.109342</td>\n",
              "      <td>0.240264</td>\n",
              "    </tr>\n",
              "    <tr>\n",
              "      <th>9</th>\n",
              "      <td>0.006592</td>\n",
              "      <td>0.018734</td>\n",
              "      <td>0.091704</td>\n",
              "      <td>0.251280</td>\n",
              "      <td>0.056813</td>\n",
              "    </tr>\n",
              "  </tbody>\n",
              "</table>\n",
              "</div>"
            ],
            "text/plain": [
              "        30        60        100        140        200\n",
              "0  0.492602  0.268633  1.058095   1.131055   0.615851\n",
              "1  0.345704  2.117641  1.750564  71.105288  14.547530\n",
              "2  0.074442  0.012395  0.425209   0.603406   0.516242\n",
              "3  0.123176  0.073777  2.340060   0.005522   2.036088\n",
              "4  0.804048  2.399488  4.539957   6.650082   1.493597\n",
              "5  0.128611  0.088442  0.229108   0.072060   0.253429\n",
              "6  1.572020  0.084568  0.419266   0.458372   0.906198\n",
              "7  0.118964  0.012195  0.436638   0.108109   1.029301\n",
              "8  0.825873  0.297901  0.522634   0.109342   0.240264\n",
              "9  0.006592  0.018734  0.091704   0.251280   0.056813"
            ]
          },
          "metadata": {
            "tags": []
          },
          "execution_count": 126
        }
      ]
    },
    {
      "cell_type": "code",
      "metadata": {
        "id": "BNkH2zT18P3o"
      },
      "source": [
        "ace_ipw_IGF_complete = ate_obj_IGF_complete.compute_effect(obs_data1_case3, \"ipw\")\n",
        "ace_p_ipw_IGF_complete = ate_obj_IGF_complete.compute_effect(obs_data1_case3, \"p-ipw\")\n",
        "ace_d_ipw_IGF_complete = ate_obj_IGF_complete.compute_effect(obs_data1_case3, \"d-ipw\")\n",
        "ace_gformula_IGF_complete = ate_obj_IGF_complete.compute_effect(obs_data1_case3, \"gformula\")\n",
        "ace_aipw_IGF_complete = ate_obj_IGF_complete.compute_effect(obs_data1_case3, \"aipw\")\n",
        "ace_eff_aipw_IGF_complete = ate_obj_IGF_complete.compute_effect(obs_data1_case3, \"eff-aipw\")"
      ],
      "execution_count": null,
      "outputs": []
    },
    {
      "cell_type": "code",
      "metadata": {
        "colab": {
          "base_uri": "https://localhost:8080/"
        },
        "id": "LRnEzuXS9nsc",
        "outputId": "7c51cf97-6090-481f-de16-6e797cc72020"
      },
      "source": [
        "ace_eff_aipw_IGF_complete"
      ],
      "execution_count": null,
      "outputs": [
        {
          "output_type": "execute_result",
          "data": {
            "text/plain": [
              "0.38734997843870644"
            ]
          },
          "metadata": {
            "tags": []
          },
          "execution_count": 45
        }
      ]
    },
    {
      "cell_type": "code",
      "metadata": {
        "id": "DA7vGt9F837f"
      },
      "source": [
        "ace_p_ipw_IGF_1 = ate_obj_IGF_1.compute_effect(obs_data1_case3, \"p-ipw\")\n",
        "ace_d_ipw_IGF_1 = ate_obj_IGF_1.compute_effect(obs_data1_case3, \"d-ipw\")\n",
        "ace_apipw_IGF_1 = ate_obj_IGF_1.compute_effect(obs_data1_case3, \"apipw\")\n",
        "ace_eff_apipw_IGF_1 = ate_obj_IGF_1.compute_effect(obs_data1_case3, \"eff-apipw\")"
      ],
      "execution_count": null,
      "outputs": []
    },
    {
      "cell_type": "code",
      "metadata": {
        "colab": {
          "base_uri": "https://localhost:8080/"
        },
        "id": "mjw_Gu7T9oWp",
        "outputId": "b1633415-0d74-42d0-a295-406acc7cfe19"
      },
      "source": [
        "ace_apipw_IGF_1"
      ],
      "execution_count": null,
      "outputs": [
        {
          "output_type": "execute_result",
          "data": {
            "text/plain": [
              "-0.6539750882113822"
            ]
          },
          "metadata": {
            "tags": []
          },
          "execution_count": 41
        }
      ]
    },
    {
      "cell_type": "code",
      "metadata": {
        "id": "s2Sl6atL9FoS"
      },
      "source": [
        "ace_p_ipw_IGF_2 = ate_obj_IGF_2.compute_effect(obs_data1_case3, \"p-ipw\")\n",
        "ace_d_ipw_IGF_2 = ate_obj_IGF_2.compute_effect(obs_data1_case3, \"d-ipw\")\n",
        "ace_aipw_IGF_2 = ate_obj_IGF_2.compute_effect(obs_data1_case3, \"aipw\")\n",
        "ace_eff_aipw_IGF_2 = ate_obj_IGF_2.compute_effect(obs_data1_case3, \"eff-aipw\")"
      ],
      "execution_count": null,
      "outputs": []
    },
    {
      "cell_type": "code",
      "metadata": {
        "colab": {
          "base_uri": "https://localhost:8080/"
        },
        "id": "t9WYvQih9o09",
        "outputId": "0eb8209c-c932-4aa8-ea88-7041375fd3b2"
      },
      "source": [
        "ace_eff_aipw_IGF_2"
      ],
      "execution_count": null,
      "outputs": [
        {
          "output_type": "execute_result",
          "data": {
            "text/plain": [
              "0.38293312196327634"
            ]
          },
          "metadata": {
            "tags": []
          },
          "execution_count": 47
        }
      ]
    },
    {
      "cell_type": "markdown",
      "metadata": {
        "id": "QT2nSVnwbpdm"
      },
      "source": [
        "# Model 12 from crash course"
      ]
    },
    {
      "cell_type": "markdown",
      "metadata": {
        "id": "CFYi4MVzgl5R"
      },
      "source": [
        "## Complete model where none of variables is latent"
      ]
    },
    {
      "cell_type": "code",
      "metadata": {
        "colab": {
          "base_uri": "https://localhost:8080/",
          "height": 152
        },
        "id": "qC48L3qXbuMR",
        "outputId": "5b11d2f8-b0ac-474b-e168-9d007570f55a"
      },
      "source": [
        "vertices_model12 = ['X','W','Z','Y']\n",
        "di_edges_model12 = [('X','W'),('W','Y'),('W','Z')]\n",
        "bi_edges_model12 = []\n",
        "model12 = ADMG(vertices_model12, di_edges_model12, bi_edges_model12)\n",
        "model12.draw(direction='LR')"
      ],
      "execution_count": null,
      "outputs": [
        {
          "output_type": "execute_result",
          "data": {
            "image/svg+xml": "<?xml version=\"1.0\" encoding=\"UTF-8\" standalone=\"no\"?>\n<!DOCTYPE svg PUBLIC \"-//W3C//DTD SVG 1.1//EN\"\n \"http://www.w3.org/Graphics/SVG/1.1/DTD/svg11.dtd\">\n<!-- Generated by graphviz version 2.40.1 (20161225.0304)\n -->\n<!-- Title: %3 Pages: 1 -->\n<svg width=\"188pt\" height=\"98pt\"\n viewBox=\"0.00 0.00 188.00 98.00\" xmlns=\"http://www.w3.org/2000/svg\" xmlns:xlink=\"http://www.w3.org/1999/xlink\">\n<g id=\"graph0\" class=\"graph\" transform=\"scale(1 1) rotate(0) translate(4 94)\">\n<title>%3</title>\n<polygon fill=\"#ffffff\" stroke=\"transparent\" points=\"-4,4 -4,-94 184,-94 184,4 -4,4\"/>\n<!-- X -->\n<g id=\"node1\" class=\"node\">\n<title>X</title>\n<text text-anchor=\"middle\" x=\"18\" y=\"-41.3\" font-family=\"Times,serif\" font-size=\"14.00\" fill=\"#000000\">X</text>\n</g>\n<!-- W -->\n<g id=\"node2\" class=\"node\">\n<title>W</title>\n<text text-anchor=\"middle\" x=\"90\" y=\"-41.3\" font-family=\"Times,serif\" font-size=\"14.00\" fill=\"#000000\">W</text>\n</g>\n<!-- X&#45;&gt;W -->\n<g id=\"edge1\" class=\"edge\">\n<title>X&#45;&gt;W</title>\n<path fill=\"none\" stroke=\"#0000ff\" d=\"M36.1686,-45C43.869,-45 53.0257,-45 61.5834,-45\"/>\n<polygon fill=\"#0000ff\" stroke=\"#0000ff\" points=\"61.5868,-48.5001 71.5867,-45 61.5867,-41.5001 61.5868,-48.5001\"/>\n</g>\n<!-- Z -->\n<g id=\"node3\" class=\"node\">\n<title>Z</title>\n<text text-anchor=\"middle\" x=\"162\" y=\"-68.3\" font-family=\"Times,serif\" font-size=\"14.00\" fill=\"#000000\">Z</text>\n</g>\n<!-- W&#45;&gt;Z -->\n<g id=\"edge3\" class=\"edge\">\n<title>W&#45;&gt;Z</title>\n<path fill=\"none\" stroke=\"#0000ff\" d=\"M108.1686,-51.8132C116.0383,-54.7644 125.4288,-58.2858 134.1467,-61.555\"/>\n<polygon fill=\"#0000ff\" stroke=\"#0000ff\" points=\"132.9945,-64.8609 143.5867,-65.095 135.4524,-58.3066 132.9945,-64.8609\"/>\n</g>\n<!-- Y -->\n<g id=\"node4\" class=\"node\">\n<title>Y</title>\n<text text-anchor=\"middle\" x=\"162\" y=\"-14.3\" font-family=\"Times,serif\" font-size=\"14.00\" fill=\"#000000\">Y</text>\n</g>\n<!-- W&#45;&gt;Y -->\n<g id=\"edge2\" class=\"edge\">\n<title>W&#45;&gt;Y</title>\n<path fill=\"none\" stroke=\"#0000ff\" d=\"M108.1686,-38.1868C116.0383,-35.2356 125.4288,-31.7142 134.1467,-28.445\"/>\n<polygon fill=\"#0000ff\" stroke=\"#0000ff\" points=\"135.4524,-31.6934 143.5867,-24.905 132.9945,-25.1391 135.4524,-31.6934\"/>\n</g>\n</g>\n</svg>\n",
            "text/plain": [
              "<graphviz.dot.Digraph at 0x7f6738a08bd0>"
            ]
          },
          "metadata": {
            "tags": []
          },
          "execution_count": 3
        }
      ]
    },
    {
      "cell_type": "code",
      "metadata": {
        "colab": {
          "base_uri": "https://localhost:8080/"
        },
        "id": "mKLn6h_7cOsb",
        "outputId": "26ddca1b-c6ef-4f5c-95c6-9b4b17b0075b"
      },
      "source": [
        "one_id = OneLineID(graph=model12, treatments=['X'], outcomes=['Y'])\n",
        "one_id.id()"
      ],
      "execution_count": null,
      "outputs": [
        {
          "output_type": "execute_result",
          "data": {
            "text/plain": [
              "True"
            ]
          },
          "metadata": {
            "tags": []
          },
          "execution_count": 4
        }
      ]
    },
    {
      "cell_type": "code",
      "metadata": {
        "colab": {
          "base_uri": "https://localhost:8080/"
        },
        "id": "YDxmDl3ocXar",
        "outputId": "72e47d83-42ab-4c12-db33-a1d55cc4b02d"
      },
      "source": [
        "ate_obj_model12 = CausalEffect(graph=model12, treatment='X', outcome='Y')  # setting up the CausalEffect object\n",
        "ate_obj_model12"
      ],
      "execution_count": null,
      "outputs": [
        {
          "output_type": "stream",
          "text": [
            "\n",
            " Treatment is a-fixable and graph is mb-shielded. \n",
            "\n",
            " Available estimators are:\n",
            " \n",
            "1. IPW (ipw)\n",
            "2. Outcome regression (gformula)\n",
            "3. Generalized AIPW (aipw)\n",
            "4. Efficient Generalized AIPW (eff-aipw) \n",
            " \n",
            "Suggested estimator is Efficient Generalized AIPW \n",
            "\n"
          ],
          "name": "stdout"
        },
        {
          "output_type": "execute_result",
          "data": {
            "text/plain": [
              "<ananke.estimation.counterfactual_mean.CausalEffect at 0x7f67389c2050>"
            ]
          },
          "metadata": {
            "tags": []
          },
          "execution_count": 5
        }
      ]
    },
    {
      "cell_type": "markdown",
      "metadata": {
        "id": "DWMgmpvKbo2r"
      },
      "source": [
        "## Read observational and interventional data"
      ]
    },
    {
      "cell_type": "code",
      "metadata": {
        "id": "n27ymywNbtfg"
      },
      "source": [
        "obs_data1_model12 = pd.read_csv('data_model12.csv', sep=',')\n",
        "obs_data1_model12 = obs_data1_model12.drop(['Unnamed: 0'], axis=1)\n",
        "obs_data1_model12"
      ],
      "execution_count": null,
      "outputs": []
    },
    {
      "cell_type": "code",
      "metadata": {
        "id": "ivq9Npx1b_XU"
      },
      "source": [
        "intv_data1_model12 = pd.read_csv('intv_data_model12.csv', sep=',')\n",
        "intv_data1_model12 = intv_data1_model12.drop(['Unnamed: 0'], axis=1)\n",
        "intv_data1_model12"
      ],
      "execution_count": null,
      "outputs": []
    },
    {
      "cell_type": "markdown",
      "metadata": {
        "id": "sotnkTJLciAy"
      },
      "source": [
        "## absolute average error (AAE)"
      ]
    },
    {
      "cell_type": "code",
      "metadata": {
        "id": "Y4TtgTGrciw_"
      },
      "source": [
        "#1. IPW (ipw)\n",
        "#2. Outcome regression (gformula)\n",
        "#3. Generalized AIPW (aipw)\n",
        "#4. Efficient Generalized AIPW (eff-aipw) \n",
        "means_list_ipw_model12 = {}\n",
        "means_list_gformula_model12 = {}\n",
        "means_list_aipw_model12 = {}\n",
        "for num_data_points in [30,60,100]:\n",
        "  for i in range(0,1):\n",
        "  #True causal effect is:\n",
        "    True_model12 = abs(intv_data1_model12['Y'].mean() - obs_data1_model12['Y'].mean()) \n",
        "    data = obs_data1_model12.iloc[0:num_data_points,] \n",
        "    ace_ipw_model12 = ate_obj_model12.compute_effect(data, \"ipw\")\n",
        "    ace_gformula_model12 = ate_obj_model12.compute_effect(data, \"gformula\")\n",
        "    ace_aipw_model12 = ate_obj_model12.compute_effect(data, \"aipw\")\n",
        "    #ace_eff_aipw_model12 = ate_obj_model12.compute_effect(data, \"eff-aipw\")\n",
        "    means_ipw_model12 = abs(True_model12 - ace_ipw_model12)\n",
        "    means_gformula_model12 = abs(True_model12 - ace_gformula_model12)\n",
        "    means_aipw_model12 = abs(True_model12 - ace_aipw_model12)\n",
        "    #means_eff_aipw_model12 = abs(True_model12 - ace_eff_aipw_model12)\n",
        "  means_list_ipw_model12[num_data_points] = (means_ipw_model12)\n",
        "  means_ipw_model12 = [0]*10\n",
        "  means_list_gformula_model12[num_data_points] = (means_gformula_model12)\n",
        "  means_gformula_model12 = [0]*10\n",
        "  means_list_aipw_model12[num_data_points] = (means_aipw_model12)\n",
        "  means_aipw_model12 = [0]*10\n",
        "  #means_list_eff_aipw_model12[num_data_points] = (means_eff_aipw_model12)\n",
        "  #means_eff_aipw_model12 = [0]*10"
      ],
      "execution_count": null,
      "outputs": []
    },
    {
      "cell_type": "code",
      "metadata": {
        "colab": {
          "base_uri": "https://localhost:8080/"
        },
        "id": "_2oe6HsBf_h3",
        "outputId": "2b6639e5-1c51-48ba-f68f-88c6e362a7d0"
      },
      "source": [
        "means_list_ipw_model12"
      ],
      "execution_count": null,
      "outputs": [
        {
          "output_type": "execute_result",
          "data": {
            "text/plain": [
              "{30: 0.7669961288421567, 60: 0.7669961288421567, 100: 0.7669961288421567}"
            ]
          },
          "metadata": {
            "tags": []
          },
          "execution_count": 16
        }
      ]
    },
    {
      "cell_type": "code",
      "metadata": {
        "colab": {
          "base_uri": "https://localhost:8080/"
        },
        "id": "JUK6-ReRfShB",
        "outputId": "c500fddd-c70a-4573-f4b1-51a5eea4bc03"
      },
      "source": [
        "means_list_gformula_model12"
      ],
      "execution_count": null,
      "outputs": [
        {
          "output_type": "execute_result",
          "data": {
            "text/plain": [
              "{30: 0.553316246675723, 60: 0.8148650028481504, 100: 0.8474760923397946}"
            ]
          },
          "metadata": {
            "tags": []
          },
          "execution_count": 18
        }
      ]
    },
    {
      "cell_type": "code",
      "metadata": {
        "colab": {
          "base_uri": "https://localhost:8080/"
        },
        "id": "HGZMF8HygPVm",
        "outputId": "d61cb5a3-195b-492d-b311-8bacbfe35779"
      },
      "source": [
        "means_list_aipw_model12"
      ],
      "execution_count": null,
      "outputs": [
        {
          "output_type": "execute_result",
          "data": {
            "text/plain": [
              "{30: 0.553316246675723, 60: 0.8148650028481504, 100: 0.8474760923397946}"
            ]
          },
          "metadata": {
            "tags": []
          },
          "execution_count": 19
        }
      ]
    },
    {
      "cell_type": "markdown",
      "metadata": {
        "id": "WtXpggmPgsdH"
      },
      "source": [
        "## Model where Z is latent"
      ]
    },
    {
      "cell_type": "code",
      "metadata": {
        "colab": {
          "base_uri": "https://localhost:8080/",
          "height": 80
        },
        "id": "ub3Wq4XZg669",
        "outputId": "06972cc5-d012-48c1-ceb7-a1d55f050a65"
      },
      "source": [
        "vertices_model12_Z = ['X','W','Y']\n",
        "di_edges_model12_Z = [('X','W'),('W','Y')]\n",
        "bi_edges_model12_Z = []\n",
        "model12_Z = ADMG(vertices_model12_Z, di_edges_model12_Z, bi_edges_model12_Z)\n",
        "model12_Z.draw(direction='LR')"
      ],
      "execution_count": null,
      "outputs": [
        {
          "output_type": "execute_result",
          "data": {
            "image/svg+xml": "<?xml version=\"1.0\" encoding=\"UTF-8\" standalone=\"no\"?>\n<!DOCTYPE svg PUBLIC \"-//W3C//DTD SVG 1.1//EN\"\n \"http://www.w3.org/Graphics/SVG/1.1/DTD/svg11.dtd\">\n<!-- Generated by graphviz version 2.40.1 (20161225.0304)\n -->\n<!-- Title: %3 Pages: 1 -->\n<svg width=\"188pt\" height=\"44pt\"\n viewBox=\"0.00 0.00 188.00 44.00\" xmlns=\"http://www.w3.org/2000/svg\" xmlns:xlink=\"http://www.w3.org/1999/xlink\">\n<g id=\"graph0\" class=\"graph\" transform=\"scale(1 1) rotate(0) translate(4 40)\">\n<title>%3</title>\n<polygon fill=\"#ffffff\" stroke=\"transparent\" points=\"-4,4 -4,-40 184,-40 184,4 -4,4\"/>\n<!-- X -->\n<g id=\"node1\" class=\"node\">\n<title>X</title>\n<text text-anchor=\"middle\" x=\"18\" y=\"-14.3\" font-family=\"Times,serif\" font-size=\"14.00\" fill=\"#000000\">X</text>\n</g>\n<!-- W -->\n<g id=\"node2\" class=\"node\">\n<title>W</title>\n<text text-anchor=\"middle\" x=\"90\" y=\"-14.3\" font-family=\"Times,serif\" font-size=\"14.00\" fill=\"#000000\">W</text>\n</g>\n<!-- X&#45;&gt;W -->\n<g id=\"edge1\" class=\"edge\">\n<title>X&#45;&gt;W</title>\n<path fill=\"none\" stroke=\"#0000ff\" d=\"M36.1686,-18C43.869,-18 53.0257,-18 61.5834,-18\"/>\n<polygon fill=\"#0000ff\" stroke=\"#0000ff\" points=\"61.5868,-21.5001 71.5867,-18 61.5867,-14.5001 61.5868,-21.5001\"/>\n</g>\n<!-- Y -->\n<g id=\"node3\" class=\"node\">\n<title>Y</title>\n<text text-anchor=\"middle\" x=\"162\" y=\"-14.3\" font-family=\"Times,serif\" font-size=\"14.00\" fill=\"#000000\">Y</text>\n</g>\n<!-- W&#45;&gt;Y -->\n<g id=\"edge2\" class=\"edge\">\n<title>W&#45;&gt;Y</title>\n<path fill=\"none\" stroke=\"#0000ff\" d=\"M108.1686,-18C115.869,-18 125.0257,-18 133.5834,-18\"/>\n<polygon fill=\"#0000ff\" stroke=\"#0000ff\" points=\"133.5868,-21.5001 143.5867,-18 133.5867,-14.5001 133.5868,-21.5001\"/>\n</g>\n</g>\n</svg>\n",
            "text/plain": [
              "<graphviz.dot.Digraph at 0x7f67385abb90>"
            ]
          },
          "metadata": {
            "tags": []
          },
          "execution_count": 20
        }
      ]
    },
    {
      "cell_type": "code",
      "metadata": {
        "id": "XbP6ngUhhMiJ"
      },
      "source": [
        "one_id = OneLineID(graph=model12_Z, treatments=['X'], outcomes=['Y'])\n",
        "one_id.id()"
      ],
      "execution_count": null,
      "outputs": []
    },
    {
      "cell_type": "code",
      "metadata": {
        "colab": {
          "base_uri": "https://localhost:8080/"
        },
        "id": "MZ76VcxlhNKQ",
        "outputId": "6a897fa4-e148-438a-f613-9f678c9f6f62"
      },
      "source": [
        "ate_obj_model12_Z = CausalEffect(graph=model12_Z, treatment='X', outcome='Y')  # setting up the CausalEffect object\n",
        "ate_obj_model12_Z"
      ],
      "execution_count": null,
      "outputs": [
        {
          "output_type": "stream",
          "text": [
            "\n",
            " Treatment is a-fixable and graph is mb-shielded. \n",
            "\n",
            " Available estimators are:\n",
            " \n",
            "1. IPW (ipw)\n",
            "2. Outcome regression (gformula)\n",
            "3. Generalized AIPW (aipw)\n",
            "4. Efficient Generalized AIPW (eff-aipw) \n",
            " \n",
            "Suggested estimator is Efficient Generalized AIPW \n",
            "\n"
          ],
          "name": "stdout"
        },
        {
          "output_type": "execute_result",
          "data": {
            "text/plain": [
              "<ananke.estimation.counterfactual_mean.CausalEffect at 0x7f67389baa50>"
            ]
          },
          "metadata": {
            "tags": []
          },
          "execution_count": 22
        }
      ]
    },
    {
      "cell_type": "markdown",
      "metadata": {
        "id": "ErWK18PuhbTy"
      },
      "source": [
        "## Read observational and interventional data"
      ]
    },
    {
      "cell_type": "code",
      "metadata": {
        "id": "PvE8uQcWhcKH"
      },
      "source": [
        "obs_data1_model12_Z = pd.read_csv('data_model12.csv', sep=',')\n",
        "obs_data1_model12_Z = obs_data1_model12_Z.drop(['Unnamed: 0', 'Z'], axis=1)\n",
        "obs_data1_model12_Z"
      ],
      "execution_count": null,
      "outputs": []
    },
    {
      "cell_type": "code",
      "metadata": {
        "colab": {
          "base_uri": "https://localhost:8080/",
          "height": 419
        },
        "id": "lttG8_M7h0pS",
        "outputId": "b530519e-1535-4c99-8dc4-1bf7b859f6a3"
      },
      "source": [
        "intv_data1_model12_Z = pd.read_csv('intv_data_model12.csv', sep=',')\n",
        "intv_data1_model12_Z = intv_data1_model12_Z.drop(['Unnamed: 0', 'Z'], axis=1)\n",
        "intv_data1_model12_Z"
      ],
      "execution_count": null,
      "outputs": [
        {
          "output_type": "execute_result",
          "data": {
            "text/html": [
              "<div>\n",
              "<style scoped>\n",
              "    .dataframe tbody tr th:only-of-type {\n",
              "        vertical-align: middle;\n",
              "    }\n",
              "\n",
              "    .dataframe tbody tr th {\n",
              "        vertical-align: top;\n",
              "    }\n",
              "\n",
              "    .dataframe thead th {\n",
              "        text-align: right;\n",
              "    }\n",
              "</style>\n",
              "<table border=\"1\" class=\"dataframe\">\n",
              "  <thead>\n",
              "    <tr style=\"text-align: right;\">\n",
              "      <th></th>\n",
              "      <th>X</th>\n",
              "      <th>W</th>\n",
              "      <th>Y</th>\n",
              "    </tr>\n",
              "  </thead>\n",
              "  <tbody>\n",
              "    <tr>\n",
              "      <th>0</th>\n",
              "      <td>2</td>\n",
              "      <td>5.835308</td>\n",
              "      <td>-0.995560</td>\n",
              "    </tr>\n",
              "    <tr>\n",
              "      <th>1</th>\n",
              "      <td>2</td>\n",
              "      <td>-2.907741</td>\n",
              "      <td>-5.404562</td>\n",
              "    </tr>\n",
              "    <tr>\n",
              "      <th>2</th>\n",
              "      <td>2</td>\n",
              "      <td>8.949206</td>\n",
              "      <td>4.533478</td>\n",
              "    </tr>\n",
              "    <tr>\n",
              "      <th>3</th>\n",
              "      <td>2</td>\n",
              "      <td>-6.641087</td>\n",
              "      <td>-4.330706</td>\n",
              "    </tr>\n",
              "    <tr>\n",
              "      <th>4</th>\n",
              "      <td>2</td>\n",
              "      <td>-2.210953</td>\n",
              "      <td>11.871467</td>\n",
              "    </tr>\n",
              "    <tr>\n",
              "      <th>...</th>\n",
              "      <td>...</td>\n",
              "      <td>...</td>\n",
              "      <td>...</td>\n",
              "    </tr>\n",
              "    <tr>\n",
              "      <th>95</th>\n",
              "      <td>2</td>\n",
              "      <td>1.353520</td>\n",
              "      <td>8.820406</td>\n",
              "    </tr>\n",
              "    <tr>\n",
              "      <th>96</th>\n",
              "      <td>2</td>\n",
              "      <td>6.450999</td>\n",
              "      <td>0.010759</td>\n",
              "    </tr>\n",
              "    <tr>\n",
              "      <th>97</th>\n",
              "      <td>2</td>\n",
              "      <td>5.527190</td>\n",
              "      <td>-3.577217</td>\n",
              "    </tr>\n",
              "    <tr>\n",
              "      <th>98</th>\n",
              "      <td>2</td>\n",
              "      <td>-2.955690</td>\n",
              "      <td>-2.381202</td>\n",
              "    </tr>\n",
              "    <tr>\n",
              "      <th>99</th>\n",
              "      <td>2</td>\n",
              "      <td>0.797673</td>\n",
              "      <td>-0.370783</td>\n",
              "    </tr>\n",
              "  </tbody>\n",
              "</table>\n",
              "<p>100 rows × 3 columns</p>\n",
              "</div>"
            ],
            "text/plain": [
              "    X         W          Y\n",
              "0   2  5.835308  -0.995560\n",
              "1   2 -2.907741  -5.404562\n",
              "2   2  8.949206   4.533478\n",
              "3   2 -6.641087  -4.330706\n",
              "4   2 -2.210953  11.871467\n",
              ".. ..       ...        ...\n",
              "95  2  1.353520   8.820406\n",
              "96  2  6.450999   0.010759\n",
              "97  2  5.527190  -3.577217\n",
              "98  2 -2.955690  -2.381202\n",
              "99  2  0.797673  -0.370783\n",
              "\n",
              "[100 rows x 3 columns]"
            ]
          },
          "metadata": {
            "tags": []
          },
          "execution_count": 28
        }
      ]
    },
    {
      "cell_type": "markdown",
      "metadata": {
        "id": "Nv_UOsekiARV"
      },
      "source": [
        "## absolute average error (AAE)"
      ]
    },
    {
      "cell_type": "code",
      "metadata": {
        "id": "f8GSyaMeiA9m"
      },
      "source": [
        "#1. IPW (ipw)\n",
        "#2. Outcome regression (gformula)\n",
        "#3. Generalized AIPW (aipw)\n",
        "#4. Efficient Generalized AIPW (eff-aipw) \n",
        "means_list_ipw_model12_Z = {}\n",
        "means_list_gformula_model12_Z = {}\n",
        "means_list_aipw_model12_Z = {}\n",
        "for num_data_points in [30,60,100]:\n",
        "  for i in range(0,1):\n",
        "  #True causal effect is:\n",
        "    True_model12 = abs(intv_data1_model12_Z['Y'].mean() - obs_data1_model12_Z['Y'].mean()) \n",
        "    data = obs_data1_model12_Z.iloc[0:num_data_points,] \n",
        "    ace_ipw_model12_Z = ate_obj_model12_Z.compute_effect(data, \"ipw\")\n",
        "    ace_gformula_model12_Z = ate_obj_model12_Z.compute_effect(data, \"gformula\")\n",
        "    ace_aipw_model12_Z = ate_obj_model12_Z.compute_effect(data, \"aipw\")\n",
        "    #ace_eff_aipw_model12_Z = ate_obj_model12_Z.compute_effect(data, \"eff-aipw\")\n",
        "    means_ipw_model12_Z = abs(True_model12 - ace_ipw_model12_Z)\n",
        "    means_gformula_model12_Z = abs(True_model12 - ace_gformula_model12_Z)\n",
        "    means_aipw_model12_Z = abs(True_model12 - ace_aipw_model12_Z)\n",
        "    #means_eff_aipw_model12_Z = abs(True_model12 - ace_eff_aipw_model12_Z)\n",
        "  means_list_ipw_model12_Z[num_data_points] = (means_ipw_model12_Z)\n",
        "  means_ipw_model12_Z = [0]*10\n",
        "  means_list_gformula_model12_Z[num_data_points] = (means_gformula_model12_Z)\n",
        "  means_gformula_model12_Z = [0]*10\n",
        "  means_list_aipw_model12_Z[num_data_points] = (means_aipw_model12_Z)\n",
        "  means_aipw_model12_Z = [0]*10\n",
        "  #means_list_eff_aipw_model12[num_data_points] = (means_eff_aipw_model12)\n",
        "  #means_eff_aipw_model12 = [0]*10"
      ],
      "execution_count": null,
      "outputs": []
    },
    {
      "cell_type": "code",
      "metadata": {
        "colab": {
          "base_uri": "https://localhost:8080/"
        },
        "id": "UrU3W-Lqid7A",
        "outputId": "13c9ab0c-0125-401d-c73f-029e5f9517b7"
      },
      "source": [
        "means_list_ipw_model12_Z"
      ],
      "execution_count": null,
      "outputs": [
        {
          "output_type": "execute_result",
          "data": {
            "text/plain": [
              "{30: 0.7669961288421567, 60: 0.7669961288421567, 100: 0.7669961288421567}"
            ]
          },
          "metadata": {
            "tags": []
          },
          "execution_count": 30
        }
      ]
    },
    {
      "cell_type": "code",
      "metadata": {
        "colab": {
          "base_uri": "https://localhost:8080/"
        },
        "id": "Hw5laFfpifiI",
        "outputId": "d78f61e7-7a25-45a5-edb9-15d48634f382"
      },
      "source": [
        "means_list_gformula_model12_Z"
      ],
      "execution_count": null,
      "outputs": [
        {
          "output_type": "execute_result",
          "data": {
            "text/plain": [
              "{30: 0.553316246675723, 60: 0.8148650028481504, 100: 0.8474760923397946}"
            ]
          },
          "metadata": {
            "tags": []
          },
          "execution_count": 31
        }
      ]
    },
    {
      "cell_type": "code",
      "metadata": {
        "colab": {
          "base_uri": "https://localhost:8080/"
        },
        "id": "n6vyTFwriiMt",
        "outputId": "6d151096-5898-428a-bf75-078281ca8264"
      },
      "source": [
        "means_list_aipw_model12_Z"
      ],
      "execution_count": null,
      "outputs": [
        {
          "output_type": "execute_result",
          "data": {
            "text/plain": [
              "{30: 0.553316246675723, 60: 0.8148650028481504, 100: 0.8474760923397946}"
            ]
          },
          "metadata": {
            "tags": []
          },
          "execution_count": 32
        }
      ]
    },
    {
      "cell_type": "markdown",
      "metadata": {
        "id": "uf9p-50-itto"
      },
      "source": [
        "## Model where Z and W are latent"
      ]
    },
    {
      "cell_type": "code",
      "metadata": {
        "colab": {
          "base_uri": "https://localhost:8080/",
          "height": 80
        },
        "id": "V61Emn2Mi9Hg",
        "outputId": "ec0fc1ee-731b-4d40-e3ef-c38b0267545a"
      },
      "source": [
        "vertices_model12_Z_W = ['X','Y']\n",
        "di_edges_model12_Z_W = [('X','Y')]\n",
        "bi_edges_model12_Z_W = []\n",
        "model12_Z_W = ADMG(vertices_model12_Z_W, di_edges_model12_Z_W, bi_edges_model12_Z_W)\n",
        "model12_Z_W.draw(direction='LR')"
      ],
      "execution_count": null,
      "outputs": [
        {
          "output_type": "execute_result",
          "data": {
            "image/svg+xml": "<?xml version=\"1.0\" encoding=\"UTF-8\" standalone=\"no\"?>\n<!DOCTYPE svg PUBLIC \"-//W3C//DTD SVG 1.1//EN\"\n \"http://www.w3.org/Graphics/SVG/1.1/DTD/svg11.dtd\">\n<!-- Generated by graphviz version 2.40.1 (20161225.0304)\n -->\n<!-- Title: %3 Pages: 1 -->\n<svg width=\"116pt\" height=\"44pt\"\n viewBox=\"0.00 0.00 116.00 44.00\" xmlns=\"http://www.w3.org/2000/svg\" xmlns:xlink=\"http://www.w3.org/1999/xlink\">\n<g id=\"graph0\" class=\"graph\" transform=\"scale(1 1) rotate(0) translate(4 40)\">\n<title>%3</title>\n<polygon fill=\"#ffffff\" stroke=\"transparent\" points=\"-4,4 -4,-40 112,-40 112,4 -4,4\"/>\n<!-- X -->\n<g id=\"node1\" class=\"node\">\n<title>X</title>\n<text text-anchor=\"middle\" x=\"18\" y=\"-14.3\" font-family=\"Times,serif\" font-size=\"14.00\" fill=\"#000000\">X</text>\n</g>\n<!-- Y -->\n<g id=\"node2\" class=\"node\">\n<title>Y</title>\n<text text-anchor=\"middle\" x=\"90\" y=\"-14.3\" font-family=\"Times,serif\" font-size=\"14.00\" fill=\"#000000\">Y</text>\n</g>\n<!-- X&#45;&gt;Y -->\n<g id=\"edge1\" class=\"edge\">\n<title>X&#45;&gt;Y</title>\n<path fill=\"none\" stroke=\"#0000ff\" d=\"M36.1686,-18C43.869,-18 53.0257,-18 61.5834,-18\"/>\n<polygon fill=\"#0000ff\" stroke=\"#0000ff\" points=\"61.5868,-21.5001 71.5867,-18 61.5867,-14.5001 61.5868,-21.5001\"/>\n</g>\n</g>\n</svg>\n",
            "text/plain": [
              "<graphviz.dot.Digraph at 0x7f673832dc50>"
            ]
          },
          "metadata": {
            "tags": []
          },
          "execution_count": 33
        }
      ]
    },
    {
      "cell_type": "code",
      "metadata": {
        "colab": {
          "base_uri": "https://localhost:8080/"
        },
        "id": "Hu8WwSo3jLiz",
        "outputId": "494008e1-3c26-4796-bcbe-f08e5012c9d7"
      },
      "source": [
        "one_id = OneLineID(graph=model12_Z_W, treatments=['X'], outcomes=['Y'])\n",
        "one_id.id()"
      ],
      "execution_count": null,
      "outputs": [
        {
          "output_type": "execute_result",
          "data": {
            "text/plain": [
              "True"
            ]
          },
          "metadata": {
            "tags": []
          },
          "execution_count": 34
        }
      ]
    },
    {
      "cell_type": "code",
      "metadata": {
        "colab": {
          "base_uri": "https://localhost:8080/"
        },
        "id": "UM2ZmQGmjMOn",
        "outputId": "5fd79edf-f032-41d4-82a4-17fc36e4d017"
      },
      "source": [
        "ate_obj_model12_Z_W = CausalEffect(graph=model12_Z_W, treatment='X', outcome='Y')  # setting up the CausalEffect object\n",
        "ate_obj_model12_Z_W"
      ],
      "execution_count": null,
      "outputs": [
        {
          "output_type": "stream",
          "text": [
            "\n",
            " Treatment is a-fixable and graph is mb-shielded. \n",
            "\n",
            " Available estimators are:\n",
            " \n",
            "1. IPW (ipw)\n",
            "2. Outcome regression (gformula)\n",
            "3. Generalized AIPW (aipw)\n",
            "4. Efficient Generalized AIPW (eff-aipw) \n",
            " \n",
            "Suggested estimator is Efficient Generalized AIPW \n",
            "\n"
          ],
          "name": "stdout"
        },
        {
          "output_type": "execute_result",
          "data": {
            "text/plain": [
              "<ananke.estimation.counterfactual_mean.CausalEffect at 0x7f673831a810>"
            ]
          },
          "metadata": {
            "tags": []
          },
          "execution_count": 35
        }
      ]
    },
    {
      "cell_type": "markdown",
      "metadata": {
        "id": "o55uSjdvjVvp"
      },
      "source": [
        "## Read observational and interventional data"
      ]
    },
    {
      "cell_type": "code",
      "metadata": {
        "colab": {
          "base_uri": "https://localhost:8080/",
          "height": 419
        },
        "id": "gmH8wYtgjWaw",
        "outputId": "4a19eb05-9e0b-4d9f-fbef-3bf46467a55e"
      },
      "source": [
        "obs_data1_model12_Z_W = pd.read_csv('data_model12.csv', sep=',')\n",
        "obs_data1_model12_Z_W = obs_data1_model12_Z_W.drop(['Unnamed: 0', 'Z','W'], axis=1)\n",
        "obs_data1_model12_Z_W"
      ],
      "execution_count": null,
      "outputs": [
        {
          "output_type": "execute_result",
          "data": {
            "text/html": [
              "<div>\n",
              "<style scoped>\n",
              "    .dataframe tbody tr th:only-of-type {\n",
              "        vertical-align: middle;\n",
              "    }\n",
              "\n",
              "    .dataframe tbody tr th {\n",
              "        vertical-align: top;\n",
              "    }\n",
              "\n",
              "    .dataframe thead th {\n",
              "        text-align: right;\n",
              "    }\n",
              "</style>\n",
              "<table border=\"1\" class=\"dataframe\">\n",
              "  <thead>\n",
              "    <tr style=\"text-align: right;\">\n",
              "      <th></th>\n",
              "      <th>X</th>\n",
              "      <th>Y</th>\n",
              "    </tr>\n",
              "  </thead>\n",
              "  <tbody>\n",
              "    <tr>\n",
              "      <th>0</th>\n",
              "      <td>7.488056</td>\n",
              "      <td>1.949436</td>\n",
              "    </tr>\n",
              "    <tr>\n",
              "      <th>1</th>\n",
              "      <td>2.242227</td>\n",
              "      <td>0.968959</td>\n",
              "    </tr>\n",
              "    <tr>\n",
              "      <th>2</th>\n",
              "      <td>9.356395</td>\n",
              "      <td>3.698133</td>\n",
              "    </tr>\n",
              "    <tr>\n",
              "      <th>3</th>\n",
              "      <td>0.002219</td>\n",
              "      <td>2.199578</td>\n",
              "    </tr>\n",
              "    <tr>\n",
              "      <th>4</th>\n",
              "      <td>2.660300</td>\n",
              "      <td>2.882404</td>\n",
              "    </tr>\n",
              "    <tr>\n",
              "      <th>...</th>\n",
              "      <td>...</td>\n",
              "      <td>...</td>\n",
              "    </tr>\n",
              "    <tr>\n",
              "      <th>95</th>\n",
              "      <td>4.798983</td>\n",
              "      <td>7.427720</td>\n",
              "    </tr>\n",
              "    <tr>\n",
              "      <th>96</th>\n",
              "      <td>7.857470</td>\n",
              "      <td>7.746035</td>\n",
              "    </tr>\n",
              "    <tr>\n",
              "      <th>97</th>\n",
              "      <td>7.303185</td>\n",
              "      <td>-0.062358</td>\n",
              "    </tr>\n",
              "    <tr>\n",
              "      <th>98</th>\n",
              "      <td>2.213457</td>\n",
              "      <td>3.406025</td>\n",
              "    </tr>\n",
              "    <tr>\n",
              "      <th>99</th>\n",
              "      <td>4.465475</td>\n",
              "      <td>-0.959526</td>\n",
              "    </tr>\n",
              "  </tbody>\n",
              "</table>\n",
              "<p>100 rows × 2 columns</p>\n",
              "</div>"
            ],
            "text/plain": [
              "           X         Y\n",
              "0   7.488056  1.949436\n",
              "1   2.242227  0.968959\n",
              "2   9.356395  3.698133\n",
              "3   0.002219  2.199578\n",
              "4   2.660300  2.882404\n",
              "..       ...       ...\n",
              "95  4.798983  7.427720\n",
              "96  7.857470  7.746035\n",
              "97  7.303185 -0.062358\n",
              "98  2.213457  3.406025\n",
              "99  4.465475 -0.959526\n",
              "\n",
              "[100 rows x 2 columns]"
            ]
          },
          "metadata": {
            "tags": []
          },
          "execution_count": 36
        }
      ]
    },
    {
      "cell_type": "code",
      "metadata": {
        "colab": {
          "base_uri": "https://localhost:8080/",
          "height": 419
        },
        "id": "k4Re5lrdjY2m",
        "outputId": "ef943b2e-9ca2-4395-f61b-39932cb5e8c6"
      },
      "source": [
        "intv_data1_model12_Z_W = pd.read_csv('intv_data_model12.csv', sep=',')\n",
        "intv_data1_model12_Z_W = intv_data1_model12_Z_W.drop(['Unnamed: 0', 'Z','W'], axis=1)\n",
        "intv_data1_model12_Z_W"
      ],
      "execution_count": null,
      "outputs": [
        {
          "output_type": "execute_result",
          "data": {
            "text/html": [
              "<div>\n",
              "<style scoped>\n",
              "    .dataframe tbody tr th:only-of-type {\n",
              "        vertical-align: middle;\n",
              "    }\n",
              "\n",
              "    .dataframe tbody tr th {\n",
              "        vertical-align: top;\n",
              "    }\n",
              "\n",
              "    .dataframe thead th {\n",
              "        text-align: right;\n",
              "    }\n",
              "</style>\n",
              "<table border=\"1\" class=\"dataframe\">\n",
              "  <thead>\n",
              "    <tr style=\"text-align: right;\">\n",
              "      <th></th>\n",
              "      <th>X</th>\n",
              "      <th>Y</th>\n",
              "    </tr>\n",
              "  </thead>\n",
              "  <tbody>\n",
              "    <tr>\n",
              "      <th>0</th>\n",
              "      <td>2</td>\n",
              "      <td>-0.995560</td>\n",
              "    </tr>\n",
              "    <tr>\n",
              "      <th>1</th>\n",
              "      <td>2</td>\n",
              "      <td>-5.404562</td>\n",
              "    </tr>\n",
              "    <tr>\n",
              "      <th>2</th>\n",
              "      <td>2</td>\n",
              "      <td>4.533478</td>\n",
              "    </tr>\n",
              "    <tr>\n",
              "      <th>3</th>\n",
              "      <td>2</td>\n",
              "      <td>-4.330706</td>\n",
              "    </tr>\n",
              "    <tr>\n",
              "      <th>4</th>\n",
              "      <td>2</td>\n",
              "      <td>11.871467</td>\n",
              "    </tr>\n",
              "    <tr>\n",
              "      <th>...</th>\n",
              "      <td>...</td>\n",
              "      <td>...</td>\n",
              "    </tr>\n",
              "    <tr>\n",
              "      <th>95</th>\n",
              "      <td>2</td>\n",
              "      <td>8.820406</td>\n",
              "    </tr>\n",
              "    <tr>\n",
              "      <th>96</th>\n",
              "      <td>2</td>\n",
              "      <td>0.010759</td>\n",
              "    </tr>\n",
              "    <tr>\n",
              "      <th>97</th>\n",
              "      <td>2</td>\n",
              "      <td>-3.577217</td>\n",
              "    </tr>\n",
              "    <tr>\n",
              "      <th>98</th>\n",
              "      <td>2</td>\n",
              "      <td>-2.381202</td>\n",
              "    </tr>\n",
              "    <tr>\n",
              "      <th>99</th>\n",
              "      <td>2</td>\n",
              "      <td>-0.370783</td>\n",
              "    </tr>\n",
              "  </tbody>\n",
              "</table>\n",
              "<p>100 rows × 2 columns</p>\n",
              "</div>"
            ],
            "text/plain": [
              "    X          Y\n",
              "0   2  -0.995560\n",
              "1   2  -5.404562\n",
              "2   2   4.533478\n",
              "3   2  -4.330706\n",
              "4   2  11.871467\n",
              ".. ..        ...\n",
              "95  2   8.820406\n",
              "96  2   0.010759\n",
              "97  2  -3.577217\n",
              "98  2  -2.381202\n",
              "99  2  -0.370783\n",
              "\n",
              "[100 rows x 2 columns]"
            ]
          },
          "metadata": {
            "tags": []
          },
          "execution_count": 37
        }
      ]
    },
    {
      "cell_type": "markdown",
      "metadata": {
        "id": "afGe24YbjmKQ"
      },
      "source": [
        "##absolute average error (AAE)"
      ]
    },
    {
      "cell_type": "code",
      "metadata": {
        "id": "SPBHFHYYjnKl"
      },
      "source": [
        "#1. IPW (ipw)\n",
        "#2. Outcome regression (gformula)\n",
        "#3. Generalized AIPW (aipw)\n",
        "#4. Efficient Generalized AIPW (eff-aipw) \n",
        "means_list_ipw_model12_Z_W = {}\n",
        "means_list_gformula_model12_Z_W = {}\n",
        "means_list_aipw_model12_Z_W = {}\n",
        "for num_data_points in [30,60,100]:\n",
        "  for i in range(0,1):\n",
        "  #True causal effect is:\n",
        "    True_model12 = abs(intv_data1_model12_Z_W['Y'].mean() - obs_data1_model12_Z_W['Y'].mean()) \n",
        "    data = obs_data1_model12_Z_W.iloc[0:num_data_points,] \n",
        "    ace_ipw_model12_Z_W = ate_obj_model12_Z_W.compute_effect(data, \"ipw\")\n",
        "    ace_gformula_model12_Z_W = ate_obj_model12_Z_W.compute_effect(data, \"gformula\")\n",
        "    ace_aipw_model12_Z_W = ate_obj_model12_Z_W.compute_effect(data, \"aipw\")\n",
        "    #ace_eff_aipw_model12_Z_W = ate_obj_model12_Z_W.compute_effect(data, \"eff-aipw\")\n",
        "    means_ipw_model12_Z_W = abs(True_model12 - ace_ipw_model12_Z_W)\n",
        "    means_gformula_model12_Z_W = abs(True_model12 - ace_gformula_model12_Z_W)\n",
        "    means_aipw_model12_Z_W = abs(True_model12 - ace_aipw_model12_Z_W)\n",
        "    #means_eff_aipw_model12_Z_W = abs(True_model12 - ace_eff_aipw_model12_Z_W)\n",
        "  means_list_ipw_model12_Z_W[num_data_points] = (means_ipw_model12_Z_W)\n",
        "  means_ipw_model12_Z_W = [0]*10\n",
        "  means_list_gformula_model12_Z_W[num_data_points] = (means_gformula_model12_Z_W)\n",
        "  means_gformula_model12_Z_W = [0]*10\n",
        "  means_list_aipw_model12_Z_W[num_data_points] = (means_aipw_model12_Z_W)\n",
        "  means_aipw_model12_Z_W = [0]*10\n",
        "  #means_list_eff_aipw_model12_Z_W[num_data_points] = (means_eff_aipw_model12_Z_W)\n",
        "  #means_eff_aipw_model12_Z_W = [0]*10"
      ],
      "execution_count": null,
      "outputs": []
    },
    {
      "cell_type": "code",
      "metadata": {
        "colab": {
          "base_uri": "https://localhost:8080/"
        },
        "id": "aIYOYlAKp6hT",
        "outputId": "57956bfc-040f-4167-a9bd-d5afbdc92f29"
      },
      "source": [
        "means_list_ipw_model12_Z_W"
      ],
      "execution_count": null,
      "outputs": [
        {
          "output_type": "execute_result",
          "data": {
            "text/plain": [
              "{30: 0.7669961288421567, 60: 0.7669961288421567, 100: 0.7669961288421567}"
            ]
          },
          "metadata": {
            "tags": []
          },
          "execution_count": 39
        }
      ]
    },
    {
      "cell_type": "code",
      "metadata": {
        "colab": {
          "base_uri": "https://localhost:8080/"
        },
        "id": "F1tFfMF4p9HO",
        "outputId": "3de37065-9801-42af-eb01-b833f1fd1838"
      },
      "source": [
        "means_list_gformula_model12_Z_W"
      ],
      "execution_count": null,
      "outputs": [
        {
          "output_type": "execute_result",
          "data": {
            "text/plain": [
              "{30: 0.553316246675723, 60: 0.8148650028481504, 100: 0.8474760923397946}"
            ]
          },
          "metadata": {
            "tags": []
          },
          "execution_count": 40
        }
      ]
    },
    {
      "cell_type": "code",
      "metadata": {
        "colab": {
          "base_uri": "https://localhost:8080/"
        },
        "id": "y0kO9gQkp-xk",
        "outputId": "94f15abb-897d-40b5-9539-5c0a743a02bc"
      },
      "source": [
        "means_list_aipw_model12_Z_W"
      ],
      "execution_count": null,
      "outputs": [
        {
          "output_type": "execute_result",
          "data": {
            "text/plain": [
              "{30: 0.553316246675723, 60: 0.8148650028481504, 100: 0.8474760923397946}"
            ]
          },
          "metadata": {
            "tags": []
          },
          "execution_count": 41
        }
      ]
    },
    {
      "cell_type": "markdown",
      "metadata": {
        "id": "Ig65dg-PKJaM"
      },
      "source": [
        "# Model 13 from crash course"
      ]
    },
    {
      "cell_type": "markdown",
      "metadata": {
        "id": "wFziI6WYKJaQ"
      },
      "source": [
        "## Complete model where none of variables are latent"
      ]
    },
    {
      "cell_type": "markdown",
      "metadata": {
        "id": "lap6ohOUu1Dh"
      },
      "source": [
        "According to causal fusion, **The causal effect of X on Y is: P(Y|X)**.\n",
        "\n",
        "Z and W are not part of the formula. We will experiment the value of causal effect when none of the variables are latent, then we will experiment the case where Z is latent, finally we will experiment the case where both Z and W are latent. The result shows that there are no difference in the ACE value in any of the experiments.\n",
        "\n",
        "**Controlling for Z** here could mean including Z in a regression equation, using Z in you inverse probability weighting, or matching using Z etc. "
      ]
    },
    {
      "cell_type": "code",
      "metadata": {
        "colab": {
          "base_uri": "https://localhost:8080/",
          "height": 152
        },
        "id": "CWK02F9HKJaR",
        "outputId": "2de7ecc5-393c-4659-efbb-013484b311b3"
      },
      "source": [
        "vertices_model13 = ['X','W','Z','Y']\n",
        "di_edges_model13 = [('X','W'),('W','Y'),('Z','W')]\n",
        "bi_edges_model13 = []\n",
        "model13 = ADMG(vertices_model13, di_edges_model13, bi_edges_model13)\n",
        "model13.draw(direction='LR')"
      ],
      "execution_count": null,
      "outputs": [
        {
          "output_type": "execute_result",
          "data": {
            "image/svg+xml": "<?xml version=\"1.0\" encoding=\"UTF-8\" standalone=\"no\"?>\n<!DOCTYPE svg PUBLIC \"-//W3C//DTD SVG 1.1//EN\"\n \"http://www.w3.org/Graphics/SVG/1.1/DTD/svg11.dtd\">\n<!-- Generated by graphviz version 2.40.1 (20161225.0304)\n -->\n<!-- Title: %3 Pages: 1 -->\n<svg width=\"188pt\" height=\"98pt\"\n viewBox=\"0.00 0.00 188.00 98.00\" xmlns=\"http://www.w3.org/2000/svg\" xmlns:xlink=\"http://www.w3.org/1999/xlink\">\n<g id=\"graph0\" class=\"graph\" transform=\"scale(1 1) rotate(0) translate(4 94)\">\n<title>%3</title>\n<polygon fill=\"#ffffff\" stroke=\"transparent\" points=\"-4,4 -4,-94 184,-94 184,4 -4,4\"/>\n<!-- X -->\n<g id=\"node1\" class=\"node\">\n<title>X</title>\n<text text-anchor=\"middle\" x=\"18\" y=\"-68.3\" font-family=\"Times,serif\" font-size=\"14.00\" fill=\"#000000\">X</text>\n</g>\n<!-- W -->\n<g id=\"node2\" class=\"node\">\n<title>W</title>\n<text text-anchor=\"middle\" x=\"90\" y=\"-41.3\" font-family=\"Times,serif\" font-size=\"14.00\" fill=\"#000000\">W</text>\n</g>\n<!-- X&#45;&gt;W -->\n<g id=\"edge3\" class=\"edge\">\n<title>X&#45;&gt;W</title>\n<path fill=\"none\" stroke=\"#0000ff\" d=\"M36.1686,-65.1868C44.0383,-62.2356 53.4288,-58.7142 62.1467,-55.445\"/>\n<polygon fill=\"#0000ff\" stroke=\"#0000ff\" points=\"63.4524,-58.6934 71.5867,-51.905 60.9945,-52.1391 63.4524,-58.6934\"/>\n</g>\n<!-- Y -->\n<g id=\"node4\" class=\"node\">\n<title>Y</title>\n<text text-anchor=\"middle\" x=\"162\" y=\"-41.3\" font-family=\"Times,serif\" font-size=\"14.00\" fill=\"#000000\">Y</text>\n</g>\n<!-- W&#45;&gt;Y -->\n<g id=\"edge2\" class=\"edge\">\n<title>W&#45;&gt;Y</title>\n<path fill=\"none\" stroke=\"#0000ff\" d=\"M108.1686,-45C115.869,-45 125.0257,-45 133.5834,-45\"/>\n<polygon fill=\"#0000ff\" stroke=\"#0000ff\" points=\"133.5868,-48.5001 143.5867,-45 133.5867,-41.5001 133.5868,-48.5001\"/>\n</g>\n<!-- Z -->\n<g id=\"node3\" class=\"node\">\n<title>Z</title>\n<text text-anchor=\"middle\" x=\"18\" y=\"-14.3\" font-family=\"Times,serif\" font-size=\"14.00\" fill=\"#000000\">Z</text>\n</g>\n<!-- Z&#45;&gt;W -->\n<g id=\"edge1\" class=\"edge\">\n<title>Z&#45;&gt;W</title>\n<path fill=\"none\" stroke=\"#0000ff\" d=\"M36.1686,-24.8132C44.0383,-27.7644 53.4288,-31.2858 62.1467,-34.555\"/>\n<polygon fill=\"#0000ff\" stroke=\"#0000ff\" points=\"60.9945,-37.8609 71.5867,-38.095 63.4524,-31.3066 60.9945,-37.8609\"/>\n</g>\n</g>\n</svg>\n",
            "text/plain": [
              "<graphviz.dot.Digraph at 0x7f433dc6de90>"
            ]
          },
          "metadata": {
            "tags": []
          },
          "execution_count": 3
        }
      ]
    },
    {
      "cell_type": "code",
      "metadata": {
        "colab": {
          "base_uri": "https://localhost:8080/"
        },
        "id": "i_AzFmsOKJaT",
        "outputId": "cd01a51d-ff0c-40ad-a282-c35918449e8f"
      },
      "source": [
        "one_id = OneLineID(graph=model13, treatments=['X'], outcomes=['Y'])\n",
        "one_id.id()"
      ],
      "execution_count": null,
      "outputs": [
        {
          "output_type": "execute_result",
          "data": {
            "text/plain": [
              "True"
            ]
          },
          "metadata": {
            "tags": []
          },
          "execution_count": 4
        }
      ]
    },
    {
      "cell_type": "code",
      "metadata": {
        "colab": {
          "base_uri": "https://localhost:8080/"
        },
        "id": "UKQ0CtUWKJaU",
        "outputId": "7186d16b-485a-4b86-eca8-157ef7e93cf5"
      },
      "source": [
        "ate_obj_model13 = CausalEffect(graph=model13, treatment='X', outcome='Y')  # setting up the CausalEffect object\n",
        "ate_obj_model13"
      ],
      "execution_count": null,
      "outputs": [
        {
          "output_type": "stream",
          "text": [
            "\n",
            " Treatment is a-fixable and graph is mb-shielded. \n",
            "\n",
            " Available estimators are:\n",
            " \n",
            "1. IPW (ipw)\n",
            "2. Outcome regression (gformula)\n",
            "3. Generalized AIPW (aipw)\n",
            "4. Efficient Generalized AIPW (eff-aipw) \n",
            " \n",
            "Suggested estimator is Efficient Generalized AIPW \n",
            "\n"
          ],
          "name": "stdout"
        },
        {
          "output_type": "execute_result",
          "data": {
            "text/plain": [
              "<ananke.estimation.counterfactual_mean.CausalEffect at 0x7f433dc98b50>"
            ]
          },
          "metadata": {
            "tags": []
          },
          "execution_count": 5
        }
      ]
    },
    {
      "cell_type": "markdown",
      "metadata": {
        "id": "PYlmTRElKJaU"
      },
      "source": [
        "## Read observational and interventional data"
      ]
    },
    {
      "cell_type": "code",
      "metadata": {
        "id": "8dNO5ypAKJaV"
      },
      "source": [
        "obs_data1_model13 = pd.read_csv('data_model13.csv', sep=',')\n",
        "obs_data1_model13 = obs_data1_model13.drop(['Unnamed: 0'], axis=1)\n",
        "obs_data1_model13"
      ],
      "execution_count": null,
      "outputs": []
    },
    {
      "cell_type": "code",
      "metadata": {
        "id": "VrFWCdLjKJaW"
      },
      "source": [
        "intv_data1_model13 = pd.read_csv('intv_data_model13.csv', sep=',')\n",
        "intv_data1_model13 = intv_data1_model13.drop(['Unnamed: 0'], axis=1)\n",
        "intv_data1_model13"
      ],
      "execution_count": null,
      "outputs": []
    },
    {
      "cell_type": "markdown",
      "metadata": {
        "id": "i7FQNaJYKJaW"
      },
      "source": [
        "## absolute average error (AAE)"
      ]
    },
    {
      "cell_type": "code",
      "metadata": {
        "id": "IOiMauJGKJaX"
      },
      "source": [
        "#1. IPW (ipw)\n",
        "#2. Outcome regression (gformula)\n",
        "#3. Generalized AIPW (aipw)\n",
        "#4. Efficient Generalized AIPW (eff-aipw) \n",
        "means_list_ipw_model13 = {}\n",
        "means_list_gformula_model13 = {}\n",
        "means_list_aipw_model13 = {}\n",
        "for num_data_points in [30,60,100]:\n",
        "  for i in range(0,1):\n",
        "  #True causal effect is:\n",
        "    True_model13 = abs(intv_data1_model13['Y'].mean() - obs_data1_model13['Y'].mean()) \n",
        "    data = obs_data1_model13.iloc[0:num_data_points,] \n",
        "    ace_ipw_model13 = ate_obj_model13.compute_effect(data, \"ipw\")\n",
        "    ace_gformula_model13 = ate_obj_model13.compute_effect(data, \"gformula\")\n",
        "    ace_aipw_model13 = ate_obj_model13.compute_effect(data, \"aipw\")\n",
        "    #ace_eff_aipw_model13 = ate_obj_model13.compute_effect(data, \"eff-aipw\")\n",
        "    means_ipw_model13 = abs(True_model13 - ace_ipw_model13)\n",
        "    means_gformula_model13 = abs(True_model13 - ace_gformula_model13)\n",
        "    means_aipw_model13 = abs(True_model13 - ace_aipw_model13)\n",
        "    #means_eff_aipw_model13 = abs(True_model13 - ace_eff_aipw_model13)\n",
        "  means_list_ipw_model13[num_data_points] = (means_ipw_model13)\n",
        "  means_ipw_model13 = [0]*10\n",
        "  means_list_gformula_model13[num_data_points] = (means_gformula_model13)\n",
        "  means_gformula_model13 = [0]*10\n",
        "  means_list_aipw_model13[num_data_points] = (means_aipw_model13)\n",
        "  means_aipw_model13 = [0]*10\n",
        "  #means_list_eff_aipw_model13[num_data_points] = (means_eff_aipw_model13)\n",
        "  #means_eff_aipw_model13 = [0]*10"
      ],
      "execution_count": null,
      "outputs": []
    },
    {
      "cell_type": "code",
      "metadata": {
        "colab": {
          "base_uri": "https://localhost:8080/"
        },
        "id": "BcDKj_Q7KJaX",
        "outputId": "30252e4f-e58b-455b-fad8-df81027b2a98"
      },
      "source": [
        "means_list_ipw_model13"
      ],
      "execution_count": null,
      "outputs": [
        {
          "output_type": "execute_result",
          "data": {
            "text/plain": [
              "{30: 1.108590037746429, 60: 1.108590037746429, 100: 1.108590037746429}"
            ]
          },
          "metadata": {
            "tags": []
          },
          "execution_count": 10
        }
      ]
    },
    {
      "cell_type": "code",
      "metadata": {
        "colab": {
          "base_uri": "https://localhost:8080/"
        },
        "id": "mdNcDYB3KJaX",
        "outputId": "4da4f0eb-9015-4893-9ef2-af068dbdc5ee"
      },
      "source": [
        "means_list_gformula_model13"
      ],
      "execution_count": null,
      "outputs": [
        {
          "output_type": "execute_result",
          "data": {
            "text/plain": [
              "{30: 0.9357261847181149, 60: 1.1984605192405169, 100: 1.2272205650522579}"
            ]
          },
          "metadata": {
            "tags": []
          },
          "execution_count": 11
        }
      ]
    },
    {
      "cell_type": "code",
      "metadata": {
        "colab": {
          "base_uri": "https://localhost:8080/"
        },
        "id": "ZE9XWE-eKJaY",
        "outputId": "70a706ab-7b48-4c8d-b1e1-6de4feeb1298"
      },
      "source": [
        "means_list_aipw_model13"
      ],
      "execution_count": null,
      "outputs": [
        {
          "output_type": "execute_result",
          "data": {
            "text/plain": [
              "{30: 0.9357261847181149, 60: 1.1984605192405169, 100: 1.2272205650522579}"
            ]
          },
          "metadata": {
            "tags": []
          },
          "execution_count": 12
        }
      ]
    },
    {
      "cell_type": "markdown",
      "metadata": {
        "id": "CHM7Imjvp25z"
      },
      "source": [
        "## Model 13 where Z is latent"
      ]
    },
    {
      "cell_type": "code",
      "metadata": {
        "colab": {
          "base_uri": "https://localhost:8080/",
          "height": 80
        },
        "id": "xEjM8R4Pp252",
        "outputId": "3bef6b51-7923-447c-97cc-5521d26d178c"
      },
      "source": [
        "vertices_model13_Z = ['X','W','Y']\n",
        "di_edges_model13_Z = [('X','W'),('W','Y')]\n",
        "bi_edges_model13_Z = []\n",
        "model13_Z = ADMG(vertices_model13_Z, di_edges_model13_Z, bi_edges_model13_Z)\n",
        "model13_Z.draw(direction='LR')"
      ],
      "execution_count": null,
      "outputs": [
        {
          "output_type": "execute_result",
          "data": {
            "image/svg+xml": "<?xml version=\"1.0\" encoding=\"UTF-8\" standalone=\"no\"?>\n<!DOCTYPE svg PUBLIC \"-//W3C//DTD SVG 1.1//EN\"\n \"http://www.w3.org/Graphics/SVG/1.1/DTD/svg11.dtd\">\n<!-- Generated by graphviz version 2.40.1 (20161225.0304)\n -->\n<!-- Title: %3 Pages: 1 -->\n<svg width=\"188pt\" height=\"44pt\"\n viewBox=\"0.00 0.00 188.00 44.00\" xmlns=\"http://www.w3.org/2000/svg\" xmlns:xlink=\"http://www.w3.org/1999/xlink\">\n<g id=\"graph0\" class=\"graph\" transform=\"scale(1 1) rotate(0) translate(4 40)\">\n<title>%3</title>\n<polygon fill=\"#ffffff\" stroke=\"transparent\" points=\"-4,4 -4,-40 184,-40 184,4 -4,4\"/>\n<!-- X -->\n<g id=\"node1\" class=\"node\">\n<title>X</title>\n<text text-anchor=\"middle\" x=\"18\" y=\"-14.3\" font-family=\"Times,serif\" font-size=\"14.00\" fill=\"#000000\">X</text>\n</g>\n<!-- W -->\n<g id=\"node2\" class=\"node\">\n<title>W</title>\n<text text-anchor=\"middle\" x=\"90\" y=\"-14.3\" font-family=\"Times,serif\" font-size=\"14.00\" fill=\"#000000\">W</text>\n</g>\n<!-- X&#45;&gt;W -->\n<g id=\"edge2\" class=\"edge\">\n<title>X&#45;&gt;W</title>\n<path fill=\"none\" stroke=\"#0000ff\" d=\"M36.1686,-18C43.869,-18 53.0257,-18 61.5834,-18\"/>\n<polygon fill=\"#0000ff\" stroke=\"#0000ff\" points=\"61.5868,-21.5001 71.5867,-18 61.5867,-14.5001 61.5868,-21.5001\"/>\n</g>\n<!-- Y -->\n<g id=\"node3\" class=\"node\">\n<title>Y</title>\n<text text-anchor=\"middle\" x=\"162\" y=\"-14.3\" font-family=\"Times,serif\" font-size=\"14.00\" fill=\"#000000\">Y</text>\n</g>\n<!-- W&#45;&gt;Y -->\n<g id=\"edge1\" class=\"edge\">\n<title>W&#45;&gt;Y</title>\n<path fill=\"none\" stroke=\"#0000ff\" d=\"M108.1686,-18C115.869,-18 125.0257,-18 133.5834,-18\"/>\n<polygon fill=\"#0000ff\" stroke=\"#0000ff\" points=\"133.5868,-21.5001 143.5867,-18 133.5867,-14.5001 133.5868,-21.5001\"/>\n</g>\n</g>\n</svg>\n",
            "text/plain": [
              "<graphviz.dot.Digraph at 0x7f433d6ed850>"
            ]
          },
          "metadata": {
            "tags": []
          },
          "execution_count": 43
        }
      ]
    },
    {
      "cell_type": "code",
      "metadata": {
        "colab": {
          "base_uri": "https://localhost:8080/"
        },
        "id": "_MGUQ3pCp254",
        "outputId": "279541fc-ad8c-472d-a1f2-5935ec3f8f8f"
      },
      "source": [
        "one_id = OneLineID(graph=model13_Z, treatments=['X'], outcomes=['Y'])\n",
        "one_id.id()"
      ],
      "execution_count": null,
      "outputs": [
        {
          "output_type": "execute_result",
          "data": {
            "text/plain": [
              "True"
            ]
          },
          "metadata": {
            "tags": []
          },
          "execution_count": 44
        }
      ]
    },
    {
      "cell_type": "code",
      "metadata": {
        "colab": {
          "base_uri": "https://localhost:8080/"
        },
        "id": "R8_XgpiPp255",
        "outputId": "96fdbf4d-2576-4d36-e341-c1dad168cbae"
      },
      "source": [
        "ate_obj_model13_Z = CausalEffect(graph=model13_Z, treatment='X', outcome='Y')  # setting up the CausalEffect object\n",
        "ate_obj_model13_Z"
      ],
      "execution_count": null,
      "outputs": [
        {
          "output_type": "stream",
          "text": [
            "\n",
            " Treatment is a-fixable and graph is mb-shielded. \n",
            "\n",
            " Available estimators are:\n",
            " \n",
            "1. IPW (ipw)\n",
            "2. Outcome regression (gformula)\n",
            "3. Generalized AIPW (aipw)\n",
            "4. Efficient Generalized AIPW (eff-aipw) \n",
            " \n",
            "Suggested estimator is Efficient Generalized AIPW \n",
            "\n"
          ],
          "name": "stdout"
        },
        {
          "output_type": "execute_result",
          "data": {
            "text/plain": [
              "<ananke.estimation.counterfactual_mean.CausalEffect at 0x7f433d77cf90>"
            ]
          },
          "metadata": {
            "tags": []
          },
          "execution_count": 45
        }
      ]
    },
    {
      "cell_type": "markdown",
      "metadata": {
        "id": "rHoPEUlwp256"
      },
      "source": [
        "## Read observational and interventional data"
      ]
    },
    {
      "cell_type": "code",
      "metadata": {
        "colab": {
          "base_uri": "https://localhost:8080/",
          "height": 419
        },
        "id": "DDUOZpGcp256",
        "outputId": "6328b1bc-a796-4ba5-ec12-5707583d3a92"
      },
      "source": [
        "obs_data1_model13_Z = pd.read_csv('data_model13.csv', sep=',')\n",
        "obs_data1_model13_Z = obs_data1_model13_Z.drop(['Unnamed: 0', 'Z'], axis=1)\n",
        "obs_data1_model13_Z"
      ],
      "execution_count": null,
      "outputs": [
        {
          "output_type": "execute_result",
          "data": {
            "text/html": [
              "<div>\n",
              "<style scoped>\n",
              "    .dataframe tbody tr th:only-of-type {\n",
              "        vertical-align: middle;\n",
              "    }\n",
              "\n",
              "    .dataframe tbody tr th {\n",
              "        vertical-align: top;\n",
              "    }\n",
              "\n",
              "    .dataframe thead th {\n",
              "        text-align: right;\n",
              "    }\n",
              "</style>\n",
              "<table border=\"1\" class=\"dataframe\">\n",
              "  <thead>\n",
              "    <tr style=\"text-align: right;\">\n",
              "      <th></th>\n",
              "      <th>X</th>\n",
              "      <th>W</th>\n",
              "      <th>Y</th>\n",
              "    </tr>\n",
              "  </thead>\n",
              "  <tbody>\n",
              "    <tr>\n",
              "      <th>0</th>\n",
              "      <td>7.488056</td>\n",
              "      <td>-1.015500</td>\n",
              "      <td>1.413741</td>\n",
              "    </tr>\n",
              "    <tr>\n",
              "      <th>1</th>\n",
              "      <td>2.242227</td>\n",
              "      <td>-5.300607</td>\n",
              "      <td>0.895562</td>\n",
              "    </tr>\n",
              "    <tr>\n",
              "      <th>2</th>\n",
              "      <td>9.356395</td>\n",
              "      <td>4.527068</td>\n",
              "      <td>3.557825</td>\n",
              "    </tr>\n",
              "    <tr>\n",
              "      <th>3</th>\n",
              "      <td>0.002219</td>\n",
              "      <td>-4.228825</td>\n",
              "      <td>1.528054</td>\n",
              "    </tr>\n",
              "    <tr>\n",
              "      <th>4</th>\n",
              "      <td>2.660300</td>\n",
              "      <td>12.257303</td>\n",
              "      <td>3.061662</td>\n",
              "    </tr>\n",
              "    <tr>\n",
              "      <th>...</th>\n",
              "      <td>...</td>\n",
              "      <td>...</td>\n",
              "      <td>...</td>\n",
              "    </tr>\n",
              "    <tr>\n",
              "      <th>95</th>\n",
              "      <td>4.798983</td>\n",
              "      <td>8.595491</td>\n",
              "      <td>8.414159</td>\n",
              "    </tr>\n",
              "    <tr>\n",
              "      <th>96</th>\n",
              "      <td>7.857470</td>\n",
              "      <td>-0.054654</td>\n",
              "      <td>7.550533</td>\n",
              "    </tr>\n",
              "    <tr>\n",
              "      <th>97</th>\n",
              "      <td>7.303185</td>\n",
              "      <td>-3.557347</td>\n",
              "      <td>-0.869868</td>\n",
              "    </tr>\n",
              "    <tr>\n",
              "      <th>98</th>\n",
              "      <td>2.213457</td>\n",
              "      <td>-2.354857</td>\n",
              "      <td>3.435747</td>\n",
              "    </tr>\n",
              "    <tr>\n",
              "      <th>99</th>\n",
              "      <td>4.465475</td>\n",
              "      <td>0.101759</td>\n",
              "      <td>-1.673621</td>\n",
              "    </tr>\n",
              "  </tbody>\n",
              "</table>\n",
              "<p>100 rows × 3 columns</p>\n",
              "</div>"
            ],
            "text/plain": [
              "           X          W         Y\n",
              "0   7.488056  -1.015500  1.413741\n",
              "1   2.242227  -5.300607  0.895562\n",
              "2   9.356395   4.527068  3.557825\n",
              "3   0.002219  -4.228825  1.528054\n",
              "4   2.660300  12.257303  3.061662\n",
              "..       ...        ...       ...\n",
              "95  4.798983   8.595491  8.414159\n",
              "96  7.857470  -0.054654  7.550533\n",
              "97  7.303185  -3.557347 -0.869868\n",
              "98  2.213457  -2.354857  3.435747\n",
              "99  4.465475   0.101759 -1.673621\n",
              "\n",
              "[100 rows x 3 columns]"
            ]
          },
          "metadata": {
            "tags": []
          },
          "execution_count": 46
        }
      ]
    },
    {
      "cell_type": "code",
      "metadata": {
        "colab": {
          "base_uri": "https://localhost:8080/",
          "height": 419
        },
        "id": "5hGPaXOBp257",
        "outputId": "4e3853c8-d56b-4de0-81f1-6222eb9bc997"
      },
      "source": [
        "intv_data1_model13_Z = pd.read_csv('intv_data_model13.csv', sep=',')\n",
        "intv_data1_model13_Z = intv_data1_model13_Z.drop(['Unnamed: 0', 'Z'], axis=1)\n",
        "intv_data1_model13_Z"
      ],
      "execution_count": null,
      "outputs": [
        {
          "output_type": "execute_result",
          "data": {
            "text/html": [
              "<div>\n",
              "<style scoped>\n",
              "    .dataframe tbody tr th:only-of-type {\n",
              "        vertical-align: middle;\n",
              "    }\n",
              "\n",
              "    .dataframe tbody tr th {\n",
              "        vertical-align: top;\n",
              "    }\n",
              "\n",
              "    .dataframe thead th {\n",
              "        text-align: right;\n",
              "    }\n",
              "</style>\n",
              "<table border=\"1\" class=\"dataframe\">\n",
              "  <thead>\n",
              "    <tr style=\"text-align: right;\">\n",
              "      <th></th>\n",
              "      <th>X</th>\n",
              "      <th>W</th>\n",
              "      <th>Y</th>\n",
              "    </tr>\n",
              "  </thead>\n",
              "  <tbody>\n",
              "    <tr>\n",
              "      <th>0</th>\n",
              "      <td>2</td>\n",
              "      <td>6.055316</td>\n",
              "      <td>3.667027</td>\n",
              "    </tr>\n",
              "    <tr>\n",
              "      <th>1</th>\n",
              "      <td>2</td>\n",
              "      <td>-2.817648</td>\n",
              "      <td>-1.103245</td>\n",
              "    </tr>\n",
              "    <tr>\n",
              "      <th>2</th>\n",
              "      <td>2</td>\n",
              "      <td>9.343265</td>\n",
              "      <td>7.077737</td>\n",
              "    </tr>\n",
              "    <tr>\n",
              "      <th>3</th>\n",
              "      <td>2</td>\n",
              "      <td>-6.385869</td>\n",
              "      <td>3.506689</td>\n",
              "    </tr>\n",
              "    <tr>\n",
              "      <th>4</th>\n",
              "      <td>2</td>\n",
              "      <td>-1.902270</td>\n",
              "      <td>4.605871</td>\n",
              "    </tr>\n",
              "    <tr>\n",
              "      <th>...</th>\n",
              "      <td>...</td>\n",
              "      <td>...</td>\n",
              "      <td>...</td>\n",
              "    </tr>\n",
              "    <tr>\n",
              "      <th>95</th>\n",
              "      <td>2</td>\n",
              "      <td>1.350916</td>\n",
              "      <td>-8.552368</td>\n",
              "    </tr>\n",
              "    <tr>\n",
              "      <th>96</th>\n",
              "      <td>2</td>\n",
              "      <td>6.605671</td>\n",
              "      <td>2.032878</td>\n",
              "    </tr>\n",
              "    <tr>\n",
              "      <th>97</th>\n",
              "      <td>2</td>\n",
              "      <td>5.820570</td>\n",
              "      <td>5.183049</td>\n",
              "    </tr>\n",
              "    <tr>\n",
              "      <th>98</th>\n",
              "      <td>2</td>\n",
              "      <td>-2.934295</td>\n",
              "      <td>-5.376728</td>\n",
              "    </tr>\n",
              "    <tr>\n",
              "      <th>99</th>\n",
              "      <td>2</td>\n",
              "      <td>1.138961</td>\n",
              "      <td>5.448357</td>\n",
              "    </tr>\n",
              "  </tbody>\n",
              "</table>\n",
              "<p>100 rows × 3 columns</p>\n",
              "</div>"
            ],
            "text/plain": [
              "    X         W         Y\n",
              "0   2  6.055316  3.667027\n",
              "1   2 -2.817648 -1.103245\n",
              "2   2  9.343265  7.077737\n",
              "3   2 -6.385869  3.506689\n",
              "4   2 -1.902270  4.605871\n",
              ".. ..       ...       ...\n",
              "95  2  1.350916 -8.552368\n",
              "96  2  6.605671  2.032878\n",
              "97  2  5.820570  5.183049\n",
              "98  2 -2.934295 -5.376728\n",
              "99  2  1.138961  5.448357\n",
              "\n",
              "[100 rows x 3 columns]"
            ]
          },
          "metadata": {
            "tags": []
          },
          "execution_count": 47
        }
      ]
    },
    {
      "cell_type": "markdown",
      "metadata": {
        "id": "Byyaetesp257"
      },
      "source": [
        "## absolute average error (AAE)"
      ]
    },
    {
      "cell_type": "code",
      "metadata": {
        "id": "get-4dYip257"
      },
      "source": [
        "#1. IPW (ipw)\n",
        "#2. Outcome regression (gformula)\n",
        "#3. Generalized AIPW (aipw)\n",
        "#4. Efficient Generalized AIPW (eff-aipw) \n",
        "means_list_ipw_model13_Z = {}\n",
        "means_list_gformula_model13_Z = {}\n",
        "means_list_aipw_model13_Z = {}\n",
        "for num_data_points in [30,60,100]:\n",
        "  for i in range(0,1):\n",
        "  #True causal effect is:\n",
        "    True_model13_Z = abs(intv_data1_model13_Z['Y'].mean() - obs_data1_model13_Z['Y'].mean()) \n",
        "    data = obs_data1_model13_Z.iloc[0:num_data_points,] \n",
        "    ace_ipw_model13_Z = ate_obj_model13_Z.compute_effect(data, \"ipw\")\n",
        "    ace_gformula_model13_Z = ate_obj_model13_Z.compute_effect(data, \"gformula\")\n",
        "    ace_aipw_model13_Z= ate_obj_model13_Z.compute_effect(data, \"aipw\")\n",
        "    #ace_eff_aipw_model13_Z = ate_obj_model13_Z.compute_effect(data, \"eff-aipw\")\n",
        "    means_ipw_model13_Z = abs(True_model13_Z - ace_ipw_model13_Z)\n",
        "    means_gformula_model13_Z = abs(True_model13_Z - ace_gformula_model13_Z)\n",
        "    means_aipw_model13_Z = abs(True_model13_Z - ace_aipw_model13_Z)\n",
        "    #means_eff_aipw_model13_Z = abs(True_model13_Z - ace_eff_aipw_model13_Z)\n",
        "  means_list_ipw_model13_Z[num_data_points] = (means_ipw_model13_Z)\n",
        "  means_ipw_model13_Z = [0]*10\n",
        "  means_list_gformula_model13_Z[num_data_points] = (means_gformula_model13_Z)\n",
        "  means_gformula_model13_Z = [0]*10\n",
        "  means_list_aipw_model13_Z[num_data_points] = (means_aipw_model13_Z)\n",
        "  means_aipw_model13_Z= [0]*10\n",
        "  #means_list_eff_aipw_model13_Z[num_data_points] = (means_eff_aipw_model13_Z)\n",
        "  #means_eff_aipw_model13_Z = [0]*10"
      ],
      "execution_count": null,
      "outputs": []
    },
    {
      "cell_type": "code",
      "metadata": {
        "colab": {
          "base_uri": "https://localhost:8080/"
        },
        "id": "L8Cq01Kfp258",
        "outputId": "d97af31b-2331-4a90-a39a-bcf2811678e5"
      },
      "source": [
        "means_list_ipw_model13_Z"
      ],
      "execution_count": null,
      "outputs": [
        {
          "output_type": "execute_result",
          "data": {
            "text/plain": [
              "{30: 1.108590037746429, 60: 1.108590037746429, 100: 1.108590037746429}"
            ]
          },
          "metadata": {
            "tags": []
          },
          "execution_count": 49
        }
      ]
    },
    {
      "cell_type": "code",
      "metadata": {
        "colab": {
          "base_uri": "https://localhost:8080/"
        },
        "id": "z2ph6z7Np258",
        "outputId": "f77de6bb-75ce-478e-9924-3f76b383b1b3"
      },
      "source": [
        "means_list_gformula_model13_Z"
      ],
      "execution_count": null,
      "outputs": [
        {
          "output_type": "execute_result",
          "data": {
            "text/plain": [
              "{30: 0.9357261847181149, 60: 1.1984605192405169, 100: 1.2272205650522579}"
            ]
          },
          "metadata": {
            "tags": []
          },
          "execution_count": 50
        }
      ]
    },
    {
      "cell_type": "code",
      "metadata": {
        "colab": {
          "base_uri": "https://localhost:8080/"
        },
        "id": "0lr-SUAJp259",
        "outputId": "cfa18c2c-f7d4-407f-ec1d-c35cc9db8673"
      },
      "source": [
        "means_list_aipw_model13_Z"
      ],
      "execution_count": null,
      "outputs": [
        {
          "output_type": "execute_result",
          "data": {
            "text/plain": [
              "{30: 0.9357261847181149, 60: 1.1984605192405169, 100: 1.2272205650522579}"
            ]
          },
          "metadata": {
            "tags": []
          },
          "execution_count": 51
        }
      ]
    },
    {
      "cell_type": "code",
      "metadata": {
        "id": "6ooQ5wnisgVV"
      },
      "source": [
        ""
      ],
      "execution_count": null,
      "outputs": []
    },
    {
      "cell_type": "markdown",
      "metadata": {
        "id": "-vf-Op2dsgtc"
      },
      "source": [
        "## Model 13 where Z and W are latent"
      ]
    },
    {
      "cell_type": "code",
      "metadata": {
        "colab": {
          "base_uri": "https://localhost:8080/",
          "height": 80
        },
        "id": "74f5aywIsgtf",
        "outputId": "d8c9d65c-eba3-4d50-fc19-01f668e12722"
      },
      "source": [
        "vertices_model13_Z_W = ['X','Y']\n",
        "di_edges_model13_Z_W = [('X','Y')]\n",
        "bi_edges_model13_Z_W = []\n",
        "model13_Z_W = ADMG(vertices_model13_Z_W, di_edges_model13_Z_W, bi_edges_model13_Z_W)\n",
        "model13_Z_W.draw(direction='LR')"
      ],
      "execution_count": null,
      "outputs": [
        {
          "output_type": "execute_result",
          "data": {
            "image/svg+xml": "<?xml version=\"1.0\" encoding=\"UTF-8\" standalone=\"no\"?>\n<!DOCTYPE svg PUBLIC \"-//W3C//DTD SVG 1.1//EN\"\n \"http://www.w3.org/Graphics/SVG/1.1/DTD/svg11.dtd\">\n<!-- Generated by graphviz version 2.40.1 (20161225.0304)\n -->\n<!-- Title: %3 Pages: 1 -->\n<svg width=\"116pt\" height=\"44pt\"\n viewBox=\"0.00 0.00 116.00 44.00\" xmlns=\"http://www.w3.org/2000/svg\" xmlns:xlink=\"http://www.w3.org/1999/xlink\">\n<g id=\"graph0\" class=\"graph\" transform=\"scale(1 1) rotate(0) translate(4 40)\">\n<title>%3</title>\n<polygon fill=\"#ffffff\" stroke=\"transparent\" points=\"-4,4 -4,-40 112,-40 112,4 -4,4\"/>\n<!-- X -->\n<g id=\"node1\" class=\"node\">\n<title>X</title>\n<text text-anchor=\"middle\" x=\"18\" y=\"-14.3\" font-family=\"Times,serif\" font-size=\"14.00\" fill=\"#000000\">X</text>\n</g>\n<!-- Y -->\n<g id=\"node2\" class=\"node\">\n<title>Y</title>\n<text text-anchor=\"middle\" x=\"90\" y=\"-14.3\" font-family=\"Times,serif\" font-size=\"14.00\" fill=\"#000000\">Y</text>\n</g>\n<!-- X&#45;&gt;Y -->\n<g id=\"edge1\" class=\"edge\">\n<title>X&#45;&gt;Y</title>\n<path fill=\"none\" stroke=\"#0000ff\" d=\"M36.1686,-18C43.869,-18 53.0257,-18 61.5834,-18\"/>\n<polygon fill=\"#0000ff\" stroke=\"#0000ff\" points=\"61.5868,-21.5001 71.5867,-18 61.5867,-14.5001 61.5868,-21.5001\"/>\n</g>\n</g>\n</svg>\n",
            "text/plain": [
              "<graphviz.dot.Digraph at 0x7f433d6ac410>"
            ]
          },
          "metadata": {
            "tags": []
          },
          "execution_count": 52
        }
      ]
    },
    {
      "cell_type": "code",
      "metadata": {
        "id": "g96suFzosgth"
      },
      "source": [
        "one_id = OneLineID(graph=model13_Z_W, treatments=['X'], outcomes=['Y'])\n",
        "one_id.id()"
      ],
      "execution_count": null,
      "outputs": []
    },
    {
      "cell_type": "code",
      "metadata": {
        "id": "KiBDebJhsgti"
      },
      "source": [
        "ate_obj_model13_Z_W = CausalEffect(graph=model13_Z_W, treatment='X', outcome='Y')  # setting up the CausalEffect object\n",
        "ate_obj_model13_Z_W"
      ],
      "execution_count": null,
      "outputs": []
    },
    {
      "cell_type": "markdown",
      "metadata": {
        "id": "k7lOUJ4Msgti"
      },
      "source": [
        "## Read observational and interventional data"
      ]
    },
    {
      "cell_type": "code",
      "metadata": {
        "colab": {
          "base_uri": "https://localhost:8080/",
          "height": 419
        },
        "id": "6GFWErf0sgtj",
        "outputId": "5cb9c9b8-e490-42e1-b02e-37e32ea34d49"
      },
      "source": [
        "obs_data1_model13_Z_W = pd.read_csv('data_model13.csv', sep=',')\n",
        "obs_data1_model13_Z_W = obs_data1_model13_Z_W.drop(['Unnamed: 0', 'Z', 'W'], axis=1)\n",
        "obs_data1_model13_Z_W"
      ],
      "execution_count": null,
      "outputs": [
        {
          "output_type": "execute_result",
          "data": {
            "text/html": [
              "<div>\n",
              "<style scoped>\n",
              "    .dataframe tbody tr th:only-of-type {\n",
              "        vertical-align: middle;\n",
              "    }\n",
              "\n",
              "    .dataframe tbody tr th {\n",
              "        vertical-align: top;\n",
              "    }\n",
              "\n",
              "    .dataframe thead th {\n",
              "        text-align: right;\n",
              "    }\n",
              "</style>\n",
              "<table border=\"1\" class=\"dataframe\">\n",
              "  <thead>\n",
              "    <tr style=\"text-align: right;\">\n",
              "      <th></th>\n",
              "      <th>X</th>\n",
              "      <th>Y</th>\n",
              "    </tr>\n",
              "  </thead>\n",
              "  <tbody>\n",
              "    <tr>\n",
              "      <th>0</th>\n",
              "      <td>7.488056</td>\n",
              "      <td>1.413741</td>\n",
              "    </tr>\n",
              "    <tr>\n",
              "      <th>1</th>\n",
              "      <td>2.242227</td>\n",
              "      <td>0.895562</td>\n",
              "    </tr>\n",
              "    <tr>\n",
              "      <th>2</th>\n",
              "      <td>9.356395</td>\n",
              "      <td>3.557825</td>\n",
              "    </tr>\n",
              "    <tr>\n",
              "      <th>3</th>\n",
              "      <td>0.002219</td>\n",
              "      <td>1.528054</td>\n",
              "    </tr>\n",
              "    <tr>\n",
              "      <th>4</th>\n",
              "      <td>2.660300</td>\n",
              "      <td>3.061662</td>\n",
              "    </tr>\n",
              "    <tr>\n",
              "      <th>...</th>\n",
              "      <td>...</td>\n",
              "      <td>...</td>\n",
              "    </tr>\n",
              "    <tr>\n",
              "      <th>95</th>\n",
              "      <td>4.798983</td>\n",
              "      <td>8.414159</td>\n",
              "    </tr>\n",
              "    <tr>\n",
              "      <th>96</th>\n",
              "      <td>7.857470</td>\n",
              "      <td>7.550533</td>\n",
              "    </tr>\n",
              "    <tr>\n",
              "      <th>97</th>\n",
              "      <td>7.303185</td>\n",
              "      <td>-0.869868</td>\n",
              "    </tr>\n",
              "    <tr>\n",
              "      <th>98</th>\n",
              "      <td>2.213457</td>\n",
              "      <td>3.435747</td>\n",
              "    </tr>\n",
              "    <tr>\n",
              "      <th>99</th>\n",
              "      <td>4.465475</td>\n",
              "      <td>-1.673621</td>\n",
              "    </tr>\n",
              "  </tbody>\n",
              "</table>\n",
              "<p>100 rows × 2 columns</p>\n",
              "</div>"
            ],
            "text/plain": [
              "           X         Y\n",
              "0   7.488056  1.413741\n",
              "1   2.242227  0.895562\n",
              "2   9.356395  3.557825\n",
              "3   0.002219  1.528054\n",
              "4   2.660300  3.061662\n",
              "..       ...       ...\n",
              "95  4.798983  8.414159\n",
              "96  7.857470  7.550533\n",
              "97  7.303185 -0.869868\n",
              "98  2.213457  3.435747\n",
              "99  4.465475 -1.673621\n",
              "\n",
              "[100 rows x 2 columns]"
            ]
          },
          "metadata": {
            "tags": []
          },
          "execution_count": 55
        }
      ]
    },
    {
      "cell_type": "code",
      "metadata": {
        "id": "tdcau6p2sgtk"
      },
      "source": [
        "intv_data1_model13_Z_W = pd.read_csv('intv_data_model13.csv', sep=',')\n",
        "intv_data1_model13_Z_W = intv_data1_model13_Z_W.drop(['Unnamed: 0', 'Z','W'], axis=1)\n",
        "intv_data1_model13_Z_W"
      ],
      "execution_count": null,
      "outputs": []
    },
    {
      "cell_type": "markdown",
      "metadata": {
        "id": "VjHHYnkRsgtk"
      },
      "source": [
        "## absolute average error (AAE)"
      ]
    },
    {
      "cell_type": "code",
      "metadata": {
        "id": "JCg_KyX7sgtl"
      },
      "source": [
        "#1. IPW (ipw)\n",
        "#2. Outcome regression (gformula)\n",
        "#3. Generalized AIPW (aipw)\n",
        "#4. Efficient Generalized AIPW (eff-aipw) \n",
        "means_list_ipw_model13_Z_W = {}\n",
        "means_list_gformula_model13_Z_W = {}\n",
        "means_list_aipw_model13_Z_W = {}\n",
        "for num_data_points in [30,60,100]:\n",
        "  for i in range(0,1):\n",
        "  #True causal effect is:\n",
        "    True_model13_Z_W = abs(intv_data1_model13_Z_W['Y'].mean() - obs_data1_model13_Z_W['Y'].mean()) \n",
        "    data = obs_data1_model13_Z_W.iloc[0:num_data_points,] \n",
        "    ace_ipw_model13_Z_W = ate_obj_model13_Z_W.compute_effect(data, \"ipw\")\n",
        "    ace_gformula_model13_Z_W = ate_obj_model13_Z_W.compute_effect(data, \"gformula\")\n",
        "    ace_aipw_model13_Z_W = ate_obj_model13_Z_W.compute_effect(data, \"aipw\")\n",
        "    #ace_eff_aipw_model13_Z_W = ate_obj_model13_Z_W.compute_effect(data, \"eff-aipw\")\n",
        "    means_ipw_model13_Z_W = abs(True_model13_Z_W - ace_ipw_model13_Z_W)\n",
        "    means_gformula_model13_Z_W = abs(True_model13_Z_W - ace_gformula_model13_Z_W)\n",
        "    means_aipw_model13_Z_W = abs(True_model13_Z_W - ace_aipw_model13_Z_W)\n",
        "    #means_eff_aipw_model13_Z_W = abs(True_model13_Z_W - ace_eff_aipw_model13_Z_W)\n",
        "  means_list_ipw_model13_Z_W[num_data_points] = (means_ipw_model13_Z_W)\n",
        "  means_ipw_model13_Z_W = [0]*10\n",
        "  means_list_gformula_model13_Z_W[num_data_points] = (means_gformula_model13_Z_W)\n",
        "  means_gformula_model13_Z_W = [0]*10\n",
        "  means_list_aipw_model13_Z_W[num_data_points] = (means_aipw_model13_Z_W)\n",
        "  means_aipw_model13_Z_W = [0]*10\n",
        "  #means_list_eff_aipw_model13_Z_W[num_data_points] = (means_eff_aipw_model13_Z_W)\n",
        "  #means_eff_aipw_model13_Z_W = [0]*10"
      ],
      "execution_count": null,
      "outputs": []
    },
    {
      "cell_type": "code",
      "metadata": {
        "colab": {
          "base_uri": "https://localhost:8080/"
        },
        "id": "LCKLN8rbsgtl",
        "outputId": "0ca1d516-65b6-4ad7-c5ce-ae0df6032624"
      },
      "source": [
        "means_list_ipw_model13_Z_W"
      ],
      "execution_count": null,
      "outputs": [
        {
          "output_type": "execute_result",
          "data": {
            "text/plain": [
              "{30: 1.108590037746429, 60: 1.108590037746429, 100: 1.108590037746429}"
            ]
          },
          "metadata": {
            "tags": []
          },
          "execution_count": 58
        }
      ]
    },
    {
      "cell_type": "code",
      "metadata": {
        "colab": {
          "base_uri": "https://localhost:8080/"
        },
        "id": "twIDw513sgtm",
        "outputId": "c7fb0ebe-b48d-4b1c-bb7a-f00fe58e6522"
      },
      "source": [
        "means_list_gformula_model13_Z_W"
      ],
      "execution_count": null,
      "outputs": [
        {
          "output_type": "execute_result",
          "data": {
            "text/plain": [
              "{30: 0.9357261847181149, 60: 1.1984605192405169, 100: 1.2272205650522579}"
            ]
          },
          "metadata": {
            "tags": []
          },
          "execution_count": 59
        }
      ]
    },
    {
      "cell_type": "code",
      "metadata": {
        "colab": {
          "base_uri": "https://localhost:8080/"
        },
        "id": "Mlj0TOAwsgtm",
        "outputId": "3eff40a5-c5db-44f3-d99b-17fa5fb02cc7"
      },
      "source": [
        "means_list_aipw_model13_Z_W"
      ],
      "execution_count": null,
      "outputs": [
        {
          "output_type": "execute_result",
          "data": {
            "text/plain": [
              "{30: 0.9357261847181149, 60: 1.1984605192405169, 100: 1.2272205650522579}"
            ]
          },
          "metadata": {
            "tags": []
          },
          "execution_count": 60
        }
      ]
    }
  ]
}